{
 "cells": [
  {
   "cell_type": "code",
   "execution_count": 335,
   "metadata": {},
   "outputs": [],
   "source": [
    "import numpy as np\n",
    "import pandas as pd\n",
    "import matplotlib.pyplot as plt\n",
    "import seaborn as sns\n",
    "%matplotlib inline"
   ]
  },
  {
   "cell_type": "code",
   "execution_count": 450,
   "metadata": {},
   "outputs": [],
   "source": [
    "df=pd.read_excel(r'C:\\Users\\Prashant\\Downloads\\Data2.xls')"
   ]
  },
  {
   "cell_type": "code",
   "execution_count": 451,
   "metadata": {},
   "outputs": [
    {
     "data": {
      "text/html": [
       "<div>\n",
       "<style scoped>\n",
       "    .dataframe tbody tr th:only-of-type {\n",
       "        vertical-align: middle;\n",
       "    }\n",
       "\n",
       "    .dataframe tbody tr th {\n",
       "        vertical-align: top;\n",
       "    }\n",
       "\n",
       "    .dataframe thead th {\n",
       "        text-align: right;\n",
       "    }\n",
       "</style>\n",
       "<table border=\"1\" class=\"dataframe\">\n",
       "  <thead>\n",
       "    <tr style=\"text-align: right;\">\n",
       "      <th></th>\n",
       "      <th>pid</th>\n",
       "      <th>w3_region</th>\n",
       "      <th>w3_age</th>\n",
       "      <th>w3_gen</th>\n",
       "      <th>w3_b1</th>\n",
       "      <th>w2_region</th>\n",
       "      <th>hhid</th>\n",
       "      <th>w2_age</th>\n",
       "      <th>w2_gen</th>\n",
       "      <th>w2_b1</th>\n",
       "      <th>w1_region</th>\n",
       "      <th>w1_gen</th>\n",
       "      <th>w1_age</th>\n",
       "      <th>w1_smk_type</th>\n",
       "      <th>w2_smk_type</th>\n",
       "      <th>w3_smk_type</th>\n",
       "    </tr>\n",
       "  </thead>\n",
       "  <tbody>\n",
       "    <tr>\n",
       "      <td>0</td>\n",
       "      <td>23</td>\n",
       "      <td>Tbilisi</td>\n",
       "      <td>82</td>\n",
       "      <td>Male</td>\n",
       "      <td>No, I did  not</td>\n",
       "      <td>Tbilisi</td>\n",
       "      <td>23</td>\n",
       "      <td>82</td>\n",
       "      <td>Male</td>\n",
       "      <td>No, I did  not</td>\n",
       "      <td>Tbilisi</td>\n",
       "      <td>Male</td>\n",
       "      <td>81</td>\n",
       "      <td>Filtered cigarettes</td>\n",
       "      <td>Filtered cigarettes only</td>\n",
       "      <td>Unfiltered cigarettes only</td>\n",
       "    </tr>\n",
       "    <tr>\n",
       "      <td>1</td>\n",
       "      <td>26</td>\n",
       "      <td>Kutaisi</td>\n",
       "      <td>45</td>\n",
       "      <td>Male</td>\n",
       "      <td>No, I did  not</td>\n",
       "      <td>Kutaisi</td>\n",
       "      <td>26</td>\n",
       "      <td>44</td>\n",
       "      <td>Male</td>\n",
       "      <td>No, I did  not</td>\n",
       "      <td>Kutaisi</td>\n",
       "      <td>Male</td>\n",
       "      <td>41</td>\n",
       "      <td>Filtered cigarettes</td>\n",
       "      <td>Filtered cigarettes only</td>\n",
       "      <td>Filtered cigarettes only</td>\n",
       "    </tr>\n",
       "    <tr>\n",
       "      <td>2</td>\n",
       "      <td>28</td>\n",
       "      <td>Kutaisi</td>\n",
       "      <td>47</td>\n",
       "      <td>Male</td>\n",
       "      <td>No, I did  not</td>\n",
       "      <td>Kutaisi</td>\n",
       "      <td>28</td>\n",
       "      <td>46</td>\n",
       "      <td>Male</td>\n",
       "      <td>No, I did  not</td>\n",
       "      <td>Kutaisi</td>\n",
       "      <td>Male</td>\n",
       "      <td>45</td>\n",
       "      <td>Filtered cigarettes</td>\n",
       "      <td>Filtered cigarettes only</td>\n",
       "      <td>Filtered cigarettes only</td>\n",
       "    </tr>\n",
       "    <tr>\n",
       "      <td>3</td>\n",
       "      <td>29</td>\n",
       "      <td>Gori</td>\n",
       "      <td>29</td>\n",
       "      <td>Male</td>\n",
       "      <td>Yes I gave up</td>\n",
       "      <td>Gori</td>\n",
       "      <td>29</td>\n",
       "      <td>30</td>\n",
       "      <td>Male</td>\n",
       "      <td>No, I did  not</td>\n",
       "      <td>Gori</td>\n",
       "      <td>Male</td>\n",
       "      <td>27</td>\n",
       "      <td>Filtered cigarettes</td>\n",
       "      <td>Filtered cigarettes only</td>\n",
       "      <td>NaN</td>\n",
       "    </tr>\n",
       "    <tr>\n",
       "      <td>4</td>\n",
       "      <td>31</td>\n",
       "      <td>Gori</td>\n",
       "      <td>43</td>\n",
       "      <td>Male</td>\n",
       "      <td>No, I did  not</td>\n",
       "      <td>Gori</td>\n",
       "      <td>31</td>\n",
       "      <td>42</td>\n",
       "      <td>Male</td>\n",
       "      <td>No, I did  not</td>\n",
       "      <td>Gori</td>\n",
       "      <td>Male</td>\n",
       "      <td>41</td>\n",
       "      <td>Filtered cigarettes</td>\n",
       "      <td>Filtered cigarettes only</td>\n",
       "      <td>Filtered cigarettes only</td>\n",
       "    </tr>\n",
       "    <tr>\n",
       "      <td>...</td>\n",
       "      <td>...</td>\n",
       "      <td>...</td>\n",
       "      <td>...</td>\n",
       "      <td>...</td>\n",
       "      <td>...</td>\n",
       "      <td>...</td>\n",
       "      <td>...</td>\n",
       "      <td>...</td>\n",
       "      <td>...</td>\n",
       "      <td>...</td>\n",
       "      <td>...</td>\n",
       "      <td>...</td>\n",
       "      <td>...</td>\n",
       "      <td>...</td>\n",
       "      <td>...</td>\n",
       "      <td>...</td>\n",
       "    </tr>\n",
       "    <tr>\n",
       "      <td>395</td>\n",
       "      <td>981</td>\n",
       "      <td>Zugdidi</td>\n",
       "      <td>41</td>\n",
       "      <td>Male</td>\n",
       "      <td>No, I did  not</td>\n",
       "      <td>Zugdidi</td>\n",
       "      <td>981</td>\n",
       "      <td>41</td>\n",
       "      <td>Male</td>\n",
       "      <td>Yes I gave up</td>\n",
       "      <td>Zugdidi</td>\n",
       "      <td>Male</td>\n",
       "      <td>40</td>\n",
       "      <td>Filtered cigarettes</td>\n",
       "      <td>NaN</td>\n",
       "      <td>RYO only</td>\n",
       "    </tr>\n",
       "    <tr>\n",
       "      <td>396</td>\n",
       "      <td>982</td>\n",
       "      <td>Zugdidi</td>\n",
       "      <td>64</td>\n",
       "      <td>Male</td>\n",
       "      <td>No, I did  not</td>\n",
       "      <td>Zugdidi</td>\n",
       "      <td>982</td>\n",
       "      <td>63</td>\n",
       "      <td>Male</td>\n",
       "      <td>No, I did  not</td>\n",
       "      <td>Zugdidi</td>\n",
       "      <td>Male</td>\n",
       "      <td>62</td>\n",
       "      <td>Filtered cigarettes</td>\n",
       "      <td>Filtered cigarettes only</td>\n",
       "      <td>Filtered cigarettes only</td>\n",
       "    </tr>\n",
       "    <tr>\n",
       "      <td>397</td>\n",
       "      <td>984</td>\n",
       "      <td>Zugdidi</td>\n",
       "      <td>62</td>\n",
       "      <td>Male</td>\n",
       "      <td>Yes I gave up</td>\n",
       "      <td>Zugdidi</td>\n",
       "      <td>984</td>\n",
       "      <td>62</td>\n",
       "      <td>Male</td>\n",
       "      <td>No, I did  not</td>\n",
       "      <td>Zugdidi</td>\n",
       "      <td>Male</td>\n",
       "      <td>62</td>\n",
       "      <td>Filtered cigarettes</td>\n",
       "      <td>Filtered cigarettes only</td>\n",
       "      <td>NaN</td>\n",
       "    </tr>\n",
       "    <tr>\n",
       "      <td>398</td>\n",
       "      <td>985</td>\n",
       "      <td>Zugdidi</td>\n",
       "      <td>46</td>\n",
       "      <td>Male</td>\n",
       "      <td>No, I did  not</td>\n",
       "      <td>Zugdidi</td>\n",
       "      <td>985</td>\n",
       "      <td>46</td>\n",
       "      <td>Male</td>\n",
       "      <td>No, I did  not</td>\n",
       "      <td>Zugdidi</td>\n",
       "      <td>Male</td>\n",
       "      <td>45</td>\n",
       "      <td>Filtered cigarettes</td>\n",
       "      <td>Filtered cigarettes only</td>\n",
       "      <td>Filtered cigarettes only</td>\n",
       "    </tr>\n",
       "    <tr>\n",
       "      <td>399</td>\n",
       "      <td>986</td>\n",
       "      <td>Zugdidi</td>\n",
       "      <td>31</td>\n",
       "      <td>Male</td>\n",
       "      <td>No, I did  not</td>\n",
       "      <td>Zugdidi</td>\n",
       "      <td>986</td>\n",
       "      <td>31</td>\n",
       "      <td>Male</td>\n",
       "      <td>No, I did  not</td>\n",
       "      <td>Zugdidi</td>\n",
       "      <td>Male</td>\n",
       "      <td>30</td>\n",
       "      <td>Filtered cigarettes</td>\n",
       "      <td>Filtered cigarettes only</td>\n",
       "      <td>Filtered cigarettes only</td>\n",
       "    </tr>\n",
       "  </tbody>\n",
       "</table>\n",
       "<p>400 rows × 16 columns</p>\n",
       "</div>"
      ],
      "text/plain": [
       "     pid w3_region  w3_age w3_gen           w3_b1 w2_region  hhid  w2_age  \\\n",
       "0     23   Tbilisi      82   Male  No, I did  not   Tbilisi    23      82   \n",
       "1     26   Kutaisi      45   Male  No, I did  not   Kutaisi    26      44   \n",
       "2     28   Kutaisi      47   Male  No, I did  not   Kutaisi    28      46   \n",
       "3     29      Gori      29   Male   Yes I gave up      Gori    29      30   \n",
       "4     31      Gori      43   Male  No, I did  not      Gori    31      42   \n",
       "..   ...       ...     ...    ...             ...       ...   ...     ...   \n",
       "395  981   Zugdidi      41   Male  No, I did  not   Zugdidi   981      41   \n",
       "396  982   Zugdidi      64   Male  No, I did  not   Zugdidi   982      63   \n",
       "397  984   Zugdidi      62   Male   Yes I gave up   Zugdidi   984      62   \n",
       "398  985   Zugdidi      46   Male  No, I did  not   Zugdidi   985      46   \n",
       "399  986   Zugdidi      31   Male  No, I did  not   Zugdidi   986      31   \n",
       "\n",
       "    w2_gen           w2_b1 w1_region w1_gen  w1_age          w1_smk_type  \\\n",
       "0     Male  No, I did  not   Tbilisi   Male      81  Filtered cigarettes   \n",
       "1     Male  No, I did  not   Kutaisi   Male      41  Filtered cigarettes   \n",
       "2     Male  No, I did  not   Kutaisi   Male      45  Filtered cigarettes   \n",
       "3     Male  No, I did  not      Gori   Male      27  Filtered cigarettes   \n",
       "4     Male  No, I did  not      Gori   Male      41  Filtered cigarettes   \n",
       "..     ...             ...       ...    ...     ...                  ...   \n",
       "395   Male   Yes I gave up   Zugdidi   Male      40  Filtered cigarettes   \n",
       "396   Male  No, I did  not   Zugdidi   Male      62  Filtered cigarettes   \n",
       "397   Male  No, I did  not   Zugdidi   Male      62  Filtered cigarettes   \n",
       "398   Male  No, I did  not   Zugdidi   Male      45  Filtered cigarettes   \n",
       "399   Male  No, I did  not   Zugdidi   Male      30  Filtered cigarettes   \n",
       "\n",
       "                  w2_smk_type                 w3_smk_type  \n",
       "0    Filtered cigarettes only  Unfiltered cigarettes only  \n",
       "1    Filtered cigarettes only    Filtered cigarettes only  \n",
       "2    Filtered cigarettes only    Filtered cigarettes only  \n",
       "3    Filtered cigarettes only                         NaN  \n",
       "4    Filtered cigarettes only    Filtered cigarettes only  \n",
       "..                        ...                         ...  \n",
       "395                       NaN                    RYO only  \n",
       "396  Filtered cigarettes only    Filtered cigarettes only  \n",
       "397  Filtered cigarettes only                         NaN  \n",
       "398  Filtered cigarettes only    Filtered cigarettes only  \n",
       "399  Filtered cigarettes only    Filtered cigarettes only  \n",
       "\n",
       "[400 rows x 16 columns]"
      ]
     },
     "execution_count": 451,
     "metadata": {},
     "output_type": "execute_result"
    }
   ],
   "source": [
    "df.head(400)"
   ]
  },
  {
   "cell_type": "code",
   "execution_count": 253,
   "metadata": {},
   "outputs": [
    {
     "data": {
      "text/plain": [
       "73"
      ]
     },
     "execution_count": 253,
     "metadata": {},
     "output_type": "execute_result"
    }
   ],
   "source": [
    "len(df[df['w3_smk_type'].isnull()==True])\n",
    "#showing the no of cases where result of w3_smk_type is not mentioned i.e Nan is present "
   ]
  },
  {
   "cell_type": "code",
   "execution_count": 25,
   "metadata": {},
   "outputs": [
    {
     "data": {
      "text/plain": [
       "44"
      ]
     },
     "execution_count": 25,
     "metadata": {},
     "output_type": "execute_result"
    }
   ],
   "source": [
    "len(df[df['w2_age']<df['w1_age']])\n",
    "#44 cases where age of person is more for w1 instead of w2"
   ]
  },
  {
   "cell_type": "code",
   "execution_count": 26,
   "metadata": {},
   "outputs": [
    {
     "data": {
      "text/plain": [
       "75"
      ]
     },
     "execution_count": 26,
     "metadata": {},
     "output_type": "execute_result"
    }
   ],
   "source": [
    "len(df[df['w3_age']<df['w2_age']])\n",
    "#75 cases where age of person is more for w2 instead of w3"
   ]
  },
  {
   "cell_type": "code",
   "execution_count": 441,
   "metadata": {},
   "outputs": [
    {
     "data": {
      "text/plain": [
       "84"
      ]
     },
     "execution_count": 441,
     "metadata": {},
     "output_type": "execute_result"
    }
   ],
   "source": [
    "len(df[(df['w2_b1']=='Yes I gave up')&(df['w3_b1']=='No, I did  not')])\n",
    "#showing the no of people that gave up smoking in Wave 2 but started smoking again in Wave 3\n",
    "#answer to 3rd question"
   ]
  },
  {
   "cell_type": "code",
   "execution_count": 338,
   "metadata": {},
   "outputs": [
    {
     "data": {
      "text/html": [
       "<div>\n",
       "<style scoped>\n",
       "    .dataframe tbody tr th:only-of-type {\n",
       "        vertical-align: middle;\n",
       "    }\n",
       "\n",
       "    .dataframe tbody tr th {\n",
       "        vertical-align: top;\n",
       "    }\n",
       "\n",
       "    .dataframe thead th {\n",
       "        text-align: right;\n",
       "    }\n",
       "</style>\n",
       "<table border=\"1\" class=\"dataframe\">\n",
       "  <thead>\n",
       "    <tr style=\"text-align: right;\">\n",
       "      <th></th>\n",
       "      <th>pid</th>\n",
       "      <th>w3_region</th>\n",
       "      <th>w3_age</th>\n",
       "      <th>w3_gen</th>\n",
       "      <th>w3_b1</th>\n",
       "      <th>w2_region</th>\n",
       "      <th>hhid</th>\n",
       "      <th>w2_age</th>\n",
       "      <th>w2_gen</th>\n",
       "      <th>w2_b1</th>\n",
       "      <th>w1_region</th>\n",
       "      <th>w1_gen</th>\n",
       "      <th>w1_age</th>\n",
       "      <th>w1_smk_type</th>\n",
       "      <th>w2_smk_type</th>\n",
       "      <th>w3_smk_type</th>\n",
       "    </tr>\n",
       "  </thead>\n",
       "  <tbody>\n",
       "    <tr>\n",
       "      <td>24</td>\n",
       "      <td>85</td>\n",
       "      <td>Kutaisi</td>\n",
       "      <td>33</td>\n",
       "      <td>Male</td>\n",
       "      <td>No, I did  not</td>\n",
       "      <td>Kutaisi</td>\n",
       "      <td>85</td>\n",
       "      <td>61</td>\n",
       "      <td>Female</td>\n",
       "      <td>Yes I gave up</td>\n",
       "      <td>Kutaisi</td>\n",
       "      <td>Male</td>\n",
       "      <td>31</td>\n",
       "      <td>Filtered cigarettes</td>\n",
       "      <td>NaN</td>\n",
       "      <td>RYO only</td>\n",
       "    </tr>\n",
       "    <tr>\n",
       "      <td>105</td>\n",
       "      <td>304</td>\n",
       "      <td>Gori</td>\n",
       "      <td>48</td>\n",
       "      <td>Male</td>\n",
       "      <td>No, I did  not</td>\n",
       "      <td>Gori</td>\n",
       "      <td>304</td>\n",
       "      <td>47</td>\n",
       "      <td>Male</td>\n",
       "      <td>Yes I gave up</td>\n",
       "      <td>Gori</td>\n",
       "      <td>Female</td>\n",
       "      <td>46</td>\n",
       "      <td>Unfiltered cigarettes</td>\n",
       "      <td>NaN</td>\n",
       "      <td>RYO only</td>\n",
       "    </tr>\n",
       "    <tr>\n",
       "      <td>122</td>\n",
       "      <td>358</td>\n",
       "      <td>Tbilisi</td>\n",
       "      <td>59</td>\n",
       "      <td>Male</td>\n",
       "      <td>No, I did  not</td>\n",
       "      <td>Tbilisi</td>\n",
       "      <td>358</td>\n",
       "      <td>59</td>\n",
       "      <td>Male</td>\n",
       "      <td>Yes I gave up</td>\n",
       "      <td>Tbilisi</td>\n",
       "      <td>Male</td>\n",
       "      <td>58</td>\n",
       "      <td>Unfiltered cigarettes</td>\n",
       "      <td>NaN</td>\n",
       "      <td>Filtered cigarettes only</td>\n",
       "    </tr>\n",
       "    <tr>\n",
       "      <td>167</td>\n",
       "      <td>469</td>\n",
       "      <td>Zugdidi</td>\n",
       "      <td>43</td>\n",
       "      <td>Male</td>\n",
       "      <td>No, I did  not</td>\n",
       "      <td>Zugdidi</td>\n",
       "      <td>469</td>\n",
       "      <td>43</td>\n",
       "      <td>Male</td>\n",
       "      <td>Yes I gave up</td>\n",
       "      <td>Zugdidi</td>\n",
       "      <td>Male</td>\n",
       "      <td>42</td>\n",
       "      <td>Filtered cigarettes</td>\n",
       "      <td>NaN</td>\n",
       "      <td>Filtered cigarettes only</td>\n",
       "    </tr>\n",
       "    <tr>\n",
       "      <td>172</td>\n",
       "      <td>474</td>\n",
       "      <td>Gori</td>\n",
       "      <td>65</td>\n",
       "      <td>Male</td>\n",
       "      <td>No, I did  not</td>\n",
       "      <td>Gori</td>\n",
       "      <td>474</td>\n",
       "      <td>34</td>\n",
       "      <td>Male</td>\n",
       "      <td>Yes I gave up</td>\n",
       "      <td>Gori</td>\n",
       "      <td>Male</td>\n",
       "      <td>32</td>\n",
       "      <td>Filtered cigarettes</td>\n",
       "      <td>NaN</td>\n",
       "      <td>Unfiltered cigarettes only</td>\n",
       "    </tr>\n",
       "    <tr>\n",
       "      <td>...</td>\n",
       "      <td>...</td>\n",
       "      <td>...</td>\n",
       "      <td>...</td>\n",
       "      <td>...</td>\n",
       "      <td>...</td>\n",
       "      <td>...</td>\n",
       "      <td>...</td>\n",
       "      <td>...</td>\n",
       "      <td>...</td>\n",
       "      <td>...</td>\n",
       "      <td>...</td>\n",
       "      <td>...</td>\n",
       "      <td>...</td>\n",
       "      <td>...</td>\n",
       "      <td>...</td>\n",
       "      <td>...</td>\n",
       "    </tr>\n",
       "    <tr>\n",
       "      <td>1642</td>\n",
       "      <td>4142</td>\n",
       "      <td>Akhaltsikhe</td>\n",
       "      <td>38</td>\n",
       "      <td>Female</td>\n",
       "      <td>No, I did  not</td>\n",
       "      <td>Akhaltsikhe</td>\n",
       "      <td>4142</td>\n",
       "      <td>38</td>\n",
       "      <td>Female</td>\n",
       "      <td>Yes I gave up</td>\n",
       "      <td>Akhaltsikhe</td>\n",
       "      <td>Male</td>\n",
       "      <td>42</td>\n",
       "      <td>Filtered cigarettes</td>\n",
       "      <td>NaN</td>\n",
       "      <td>Filtered cigarettes only</td>\n",
       "    </tr>\n",
       "    <tr>\n",
       "      <td>1678</td>\n",
       "      <td>4277</td>\n",
       "      <td>Tbilisi</td>\n",
       "      <td>56</td>\n",
       "      <td>Male</td>\n",
       "      <td>No, I did  not</td>\n",
       "      <td>Tbilisi</td>\n",
       "      <td>4277</td>\n",
       "      <td>55</td>\n",
       "      <td>Male</td>\n",
       "      <td>Yes I gave up</td>\n",
       "      <td>Tbilisi</td>\n",
       "      <td>Male</td>\n",
       "      <td>54</td>\n",
       "      <td>Filtered cigarettes</td>\n",
       "      <td>NaN</td>\n",
       "      <td>RYO only</td>\n",
       "    </tr>\n",
       "    <tr>\n",
       "      <td>1681</td>\n",
       "      <td>4282</td>\n",
       "      <td>Tbilisi</td>\n",
       "      <td>60</td>\n",
       "      <td>Male</td>\n",
       "      <td>No, I did  not</td>\n",
       "      <td>Tbilisi</td>\n",
       "      <td>4282</td>\n",
       "      <td>60</td>\n",
       "      <td>Male</td>\n",
       "      <td>Yes I gave up</td>\n",
       "      <td>Tbilisi</td>\n",
       "      <td>Male</td>\n",
       "      <td>60</td>\n",
       "      <td>Filtered cigarettes</td>\n",
       "      <td>NaN</td>\n",
       "      <td>Filtered cigarettes only</td>\n",
       "    </tr>\n",
       "    <tr>\n",
       "      <td>1687</td>\n",
       "      <td>4298</td>\n",
       "      <td>Tbilisi</td>\n",
       "      <td>42</td>\n",
       "      <td>Male</td>\n",
       "      <td>No, I did  not</td>\n",
       "      <td>Tbilisi</td>\n",
       "      <td>4298</td>\n",
       "      <td>41</td>\n",
       "      <td>Male</td>\n",
       "      <td>Yes I gave up</td>\n",
       "      <td>Tbilisi</td>\n",
       "      <td>Male</td>\n",
       "      <td>40</td>\n",
       "      <td>Filtered cigarettes</td>\n",
       "      <td>NaN</td>\n",
       "      <td>Filtered cigarettes only</td>\n",
       "    </tr>\n",
       "    <tr>\n",
       "      <td>1689</td>\n",
       "      <td>4307</td>\n",
       "      <td>Tbilisi</td>\n",
       "      <td>80</td>\n",
       "      <td>Female</td>\n",
       "      <td>No, I did  not</td>\n",
       "      <td>Tbilisi</td>\n",
       "      <td>4307</td>\n",
       "      <td>80</td>\n",
       "      <td>Female</td>\n",
       "      <td>Yes I gave up</td>\n",
       "      <td>Tbilisi</td>\n",
       "      <td>Female</td>\n",
       "      <td>69</td>\n",
       "      <td>Filtered cigarettes</td>\n",
       "      <td>NaN</td>\n",
       "      <td>RYO only</td>\n",
       "    </tr>\n",
       "  </tbody>\n",
       "</table>\n",
       "<p>84 rows × 16 columns</p>\n",
       "</div>"
      ],
      "text/plain": [
       "       pid    w3_region  w3_age  w3_gen           w3_b1    w2_region  hhid  \\\n",
       "24      85      Kutaisi      33    Male  No, I did  not      Kutaisi    85   \n",
       "105    304         Gori      48    Male  No, I did  not         Gori   304   \n",
       "122    358      Tbilisi      59    Male  No, I did  not      Tbilisi   358   \n",
       "167    469      Zugdidi      43    Male  No, I did  not      Zugdidi   469   \n",
       "172    474         Gori      65    Male  No, I did  not         Gori   474   \n",
       "...    ...          ...     ...     ...             ...          ...   ...   \n",
       "1642  4142  Akhaltsikhe      38  Female  No, I did  not  Akhaltsikhe  4142   \n",
       "1678  4277      Tbilisi      56    Male  No, I did  not      Tbilisi  4277   \n",
       "1681  4282      Tbilisi      60    Male  No, I did  not      Tbilisi  4282   \n",
       "1687  4298      Tbilisi      42    Male  No, I did  not      Tbilisi  4298   \n",
       "1689  4307      Tbilisi      80  Female  No, I did  not      Tbilisi  4307   \n",
       "\n",
       "      w2_age  w2_gen          w2_b1    w1_region  w1_gen  w1_age  \\\n",
       "24        61  Female  Yes I gave up      Kutaisi    Male      31   \n",
       "105       47    Male  Yes I gave up         Gori  Female      46   \n",
       "122       59    Male  Yes I gave up      Tbilisi    Male      58   \n",
       "167       43    Male  Yes I gave up      Zugdidi    Male      42   \n",
       "172       34    Male  Yes I gave up         Gori    Male      32   \n",
       "...      ...     ...            ...          ...     ...     ...   \n",
       "1642      38  Female  Yes I gave up  Akhaltsikhe    Male      42   \n",
       "1678      55    Male  Yes I gave up      Tbilisi    Male      54   \n",
       "1681      60    Male  Yes I gave up      Tbilisi    Male      60   \n",
       "1687      41    Male  Yes I gave up      Tbilisi    Male      40   \n",
       "1689      80  Female  Yes I gave up      Tbilisi  Female      69   \n",
       "\n",
       "                w1_smk_type w2_smk_type                 w3_smk_type  \n",
       "24      Filtered cigarettes         NaN                    RYO only  \n",
       "105   Unfiltered cigarettes         NaN                    RYO only  \n",
       "122   Unfiltered cigarettes         NaN    Filtered cigarettes only  \n",
       "167     Filtered cigarettes         NaN    Filtered cigarettes only  \n",
       "172     Filtered cigarettes         NaN  Unfiltered cigarettes only  \n",
       "...                     ...         ...                         ...  \n",
       "1642    Filtered cigarettes         NaN    Filtered cigarettes only  \n",
       "1678    Filtered cigarettes         NaN                    RYO only  \n",
       "1681    Filtered cigarettes         NaN    Filtered cigarettes only  \n",
       "1687    Filtered cigarettes         NaN    Filtered cigarettes only  \n",
       "1689    Filtered cigarettes         NaN                    RYO only  \n",
       "\n",
       "[84 rows x 16 columns]"
      ]
     },
     "execution_count": 338,
     "metadata": {},
     "output_type": "execute_result"
    }
   ],
   "source": [
    "df[df['w2_b1']=='Yes I gave up']"
   ]
  },
  {
   "cell_type": "code",
   "execution_count": 452,
   "metadata": {},
   "outputs": [
    {
     "name": "stderr",
     "output_type": "stream",
     "text": [
      "C:\\Users\\Prashant\\Anaconda3\\lib\\site-packages\\ipykernel_launcher.py:1: SettingWithCopyWarning: \n",
      "A value is trying to be set on a copy of a slice from a DataFrame\n",
      "\n",
      "See the caveats in the documentation: http://pandas.pydata.org/pandas-docs/stable/user_guide/indexing.html#returning-a-view-versus-a-copy\n",
      "  \"\"\"Entry point for launching an IPython kernel.\n",
      "C:\\Users\\Prashant\\Anaconda3\\lib\\site-packages\\ipykernel_launcher.py:2: SettingWithCopyWarning: \n",
      "A value is trying to be set on a copy of a slice from a DataFrame\n",
      "\n",
      "See the caveats in the documentation: http://pandas.pydata.org/pandas-docs/stable/user_guide/indexing.html#returning-a-view-versus-a-copy\n",
      "  \n"
     ]
    }
   ],
   "source": [
    "df.w2_b1[df['w2_b1']=='No, I did  not']=0\n",
    "df.w2_b1[df['w2_b1']=='Yes I gave up']=1\n",
    "#Assigning values against strings for assessment & data cleaning"
   ]
  },
  {
   "cell_type": "code",
   "execution_count": 453,
   "metadata": {},
   "outputs": [
    {
     "data": {
      "text/html": [
       "<div>\n",
       "<style scoped>\n",
       "    .dataframe tbody tr th:only-of-type {\n",
       "        vertical-align: middle;\n",
       "    }\n",
       "\n",
       "    .dataframe tbody tr th {\n",
       "        vertical-align: top;\n",
       "    }\n",
       "\n",
       "    .dataframe thead th {\n",
       "        text-align: right;\n",
       "    }\n",
       "</style>\n",
       "<table border=\"1\" class=\"dataframe\">\n",
       "  <thead>\n",
       "    <tr style=\"text-align: right;\">\n",
       "      <th></th>\n",
       "      <th>pid</th>\n",
       "      <th>w3_region</th>\n",
       "      <th>w3_age</th>\n",
       "      <th>w3_gen</th>\n",
       "      <th>w3_b1</th>\n",
       "      <th>w2_region</th>\n",
       "      <th>hhid</th>\n",
       "      <th>w2_age</th>\n",
       "      <th>w2_gen</th>\n",
       "      <th>w2_b1</th>\n",
       "      <th>w1_region</th>\n",
       "      <th>w1_gen</th>\n",
       "      <th>w1_age</th>\n",
       "      <th>w1_smk_type</th>\n",
       "      <th>w2_smk_type</th>\n",
       "      <th>w3_smk_type</th>\n",
       "    </tr>\n",
       "  </thead>\n",
       "  <tbody>\n",
       "    <tr>\n",
       "      <td>0</td>\n",
       "      <td>23</td>\n",
       "      <td>Tbilisi</td>\n",
       "      <td>82</td>\n",
       "      <td>Male</td>\n",
       "      <td>No, I did  not</td>\n",
       "      <td>Tbilisi</td>\n",
       "      <td>23</td>\n",
       "      <td>82</td>\n",
       "      <td>Male</td>\n",
       "      <td>0</td>\n",
       "      <td>Tbilisi</td>\n",
       "      <td>Male</td>\n",
       "      <td>81</td>\n",
       "      <td>Filtered cigarettes</td>\n",
       "      <td>Filtered cigarettes only</td>\n",
       "      <td>Unfiltered cigarettes only</td>\n",
       "    </tr>\n",
       "    <tr>\n",
       "      <td>1</td>\n",
       "      <td>26</td>\n",
       "      <td>Kutaisi</td>\n",
       "      <td>45</td>\n",
       "      <td>Male</td>\n",
       "      <td>No, I did  not</td>\n",
       "      <td>Kutaisi</td>\n",
       "      <td>26</td>\n",
       "      <td>44</td>\n",
       "      <td>Male</td>\n",
       "      <td>0</td>\n",
       "      <td>Kutaisi</td>\n",
       "      <td>Male</td>\n",
       "      <td>41</td>\n",
       "      <td>Filtered cigarettes</td>\n",
       "      <td>Filtered cigarettes only</td>\n",
       "      <td>Filtered cigarettes only</td>\n",
       "    </tr>\n",
       "    <tr>\n",
       "      <td>2</td>\n",
       "      <td>28</td>\n",
       "      <td>Kutaisi</td>\n",
       "      <td>47</td>\n",
       "      <td>Male</td>\n",
       "      <td>No, I did  not</td>\n",
       "      <td>Kutaisi</td>\n",
       "      <td>28</td>\n",
       "      <td>46</td>\n",
       "      <td>Male</td>\n",
       "      <td>0</td>\n",
       "      <td>Kutaisi</td>\n",
       "      <td>Male</td>\n",
       "      <td>45</td>\n",
       "      <td>Filtered cigarettes</td>\n",
       "      <td>Filtered cigarettes only</td>\n",
       "      <td>Filtered cigarettes only</td>\n",
       "    </tr>\n",
       "    <tr>\n",
       "      <td>3</td>\n",
       "      <td>29</td>\n",
       "      <td>Gori</td>\n",
       "      <td>29</td>\n",
       "      <td>Male</td>\n",
       "      <td>Yes I gave up</td>\n",
       "      <td>Gori</td>\n",
       "      <td>29</td>\n",
       "      <td>30</td>\n",
       "      <td>Male</td>\n",
       "      <td>0</td>\n",
       "      <td>Gori</td>\n",
       "      <td>Male</td>\n",
       "      <td>27</td>\n",
       "      <td>Filtered cigarettes</td>\n",
       "      <td>Filtered cigarettes only</td>\n",
       "      <td>NaN</td>\n",
       "    </tr>\n",
       "    <tr>\n",
       "      <td>4</td>\n",
       "      <td>31</td>\n",
       "      <td>Gori</td>\n",
       "      <td>43</td>\n",
       "      <td>Male</td>\n",
       "      <td>No, I did  not</td>\n",
       "      <td>Gori</td>\n",
       "      <td>31</td>\n",
       "      <td>42</td>\n",
       "      <td>Male</td>\n",
       "      <td>0</td>\n",
       "      <td>Gori</td>\n",
       "      <td>Male</td>\n",
       "      <td>41</td>\n",
       "      <td>Filtered cigarettes</td>\n",
       "      <td>Filtered cigarettes only</td>\n",
       "      <td>Filtered cigarettes only</td>\n",
       "    </tr>\n",
       "  </tbody>\n",
       "</table>\n",
       "</div>"
      ],
      "text/plain": [
       "   pid w3_region  w3_age w3_gen           w3_b1 w2_region  hhid  w2_age  \\\n",
       "0   23   Tbilisi      82   Male  No, I did  not   Tbilisi    23      82   \n",
       "1   26   Kutaisi      45   Male  No, I did  not   Kutaisi    26      44   \n",
       "2   28   Kutaisi      47   Male  No, I did  not   Kutaisi    28      46   \n",
       "3   29      Gori      29   Male   Yes I gave up      Gori    29      30   \n",
       "4   31      Gori      43   Male  No, I did  not      Gori    31      42   \n",
       "\n",
       "  w2_gen w2_b1 w1_region w1_gen  w1_age          w1_smk_type  \\\n",
       "0   Male     0   Tbilisi   Male      81  Filtered cigarettes   \n",
       "1   Male     0   Kutaisi   Male      41  Filtered cigarettes   \n",
       "2   Male     0   Kutaisi   Male      45  Filtered cigarettes   \n",
       "3   Male     0      Gori   Male      27  Filtered cigarettes   \n",
       "4   Male     0      Gori   Male      41  Filtered cigarettes   \n",
       "\n",
       "                w2_smk_type                 w3_smk_type  \n",
       "0  Filtered cigarettes only  Unfiltered cigarettes only  \n",
       "1  Filtered cigarettes only    Filtered cigarettes only  \n",
       "2  Filtered cigarettes only    Filtered cigarettes only  \n",
       "3  Filtered cigarettes only                         NaN  \n",
       "4  Filtered cigarettes only    Filtered cigarettes only  "
      ]
     },
     "execution_count": 453,
     "metadata": {},
     "output_type": "execute_result"
    }
   ],
   "source": [
    "df.head(5)"
   ]
  },
  {
   "cell_type": "code",
   "execution_count": 341,
   "metadata": {},
   "outputs": [
    {
     "data": {
      "text/plain": [
       "<matplotlib.legend.Legend at 0x19312d2fac8>"
      ]
     },
     "execution_count": 341,
     "metadata": {},
     "output_type": "execute_result"
    },
    {
     "data": {
      "text/plain": [
       "<Figure size 432x288 with 0 Axes>"
      ]
     },
     "metadata": {},
     "output_type": "display_data"
    },
    {
     "data": {
      "image/png": "[encoded data removed]",
      "text/plain": [
       "<Figure size 1080x504 with 1 Axes>"
      ]
     },
     "metadata": {
      "needs_background": "light"
     },
     "output_type": "display_data"
    }
   ],
   "source": [
    "plt.figure()\n",
    "df.plot(x='pid',y='w2_b1',kind='kde',figsize=(15,7),title='Smoking cessation graph b/w wave 1 & 2',color='red')\n",
    "plt.legend()"
   ]
  },
  {
   "cell_type": "code",
   "execution_count": 454,
   "metadata": {},
   "outputs": [
    {
     "data": {
      "text/plain": [
       "Text(0.5, 1.0, 'CountPlot for Wave2 status')"
      ]
     },
     "execution_count": 454,
     "metadata": {},
     "output_type": "execute_result"
    },
    {
     "data": {
      "image/png": "[encoded data removed]",
      "text/plain": [
       "<Figure size 936x504 with 1 Axes>"
      ]
     },
     "metadata": {},
     "output_type": "display_data"
    }
   ],
   "source": [
    "plt.figure(figsize=(13,7))\n",
    "sns.set_style('whitegrid')\n",
    "sns.countplot(x='w2_b1',data=df)\n",
    "plt.title('CountPlot for Wave2 status')"
   ]
  },
  {
   "cell_type": "code",
   "execution_count": 259,
   "metadata": {},
   "outputs": [
    {
     "data": {
      "text/plain": [
       "84"
      ]
     },
     "execution_count": 259,
     "metadata": {},
     "output_type": "execute_result"
    }
   ],
   "source": [
    "len(df[df['w2_b1']==1])\n",
    "#displaying no of people that gave up smoking during wave 1 & wave 2"
   ]
  },
  {
   "cell_type": "code",
   "execution_count": 260,
   "metadata": {},
   "outputs": [
    {
     "name": "stdout",
     "output_type": "stream",
     "text": [
      "4.9237983587338805\n"
     ]
    }
   ],
   "source": [
    "Smoking_cessation_rate= (84/1706)*100\n",
    "print(Smoking_cessation_rate)"
   ]
  },
  {
   "cell_type": "code",
   "execution_count": 192,
   "metadata": {},
   "outputs": [
    {
     "data": {
      "text/plain": [
       "Text(0.5, 1.0, 'Confidence Interval')"
      ]
     },
     "execution_count": 192,
     "metadata": {},
     "output_type": "execute_result"
    },
    {
     "data": {
      "image/png": "[encoded data removed]",
      "text/plain": [
       "<Figure size 864x504 with 1 Axes>"
      ]
     },
     "metadata": {},
     "output_type": "display_data"
    }
   ],
   "source": [
    "plt.figure(figsize=(12,7))\n",
    "sns.pointplot(x='pid',y='w2_b1',data=df,linestyles='-',color='purple')\n",
    "plt.title('Confidence Interval')"
   ]
  },
  {
   "cell_type": "code",
   "execution_count": 261,
   "metadata": {},
   "outputs": [
    {
     "data": {
      "text/plain": [
       "Text(0.5, 1.0, 'Smoking cessation rate for Men and Women')"
      ]
     },
     "execution_count": 261,
     "metadata": {},
     "output_type": "execute_result"
    },
    {
     "data": {
      "image/png": "[encoded data removed]",
      "text/plain": [
       "<Figure size 936x504 with 1 Axes>"
      ]
     },
     "metadata": {},
     "output_type": "display_data"
    }
   ],
   "source": [
    "plt.figure(figsize=(13,7))\n",
    "sns.set_style('whitegrid')\n",
    "sns.countplot(x='w2_b1',data=df,hue='w1_gen',palette='coolwarm',saturation=8)\n",
    "plt.title('Smoking cessation rate for Men and Women')"
   ]
  },
  {
   "cell_type": "code",
   "execution_count": 268,
   "metadata": {},
   "outputs": [
    {
     "data": {
      "text/plain": [
       "1    70\n",
       "Name: w2_b1, dtype: int64"
      ]
     },
     "execution_count": 268,
     "metadata": {},
     "output_type": "execute_result"
    }
   ],
   "source": [
    "df[(df['w1_gen']=='Male') & (df['w2_b1']==1)]['w2_b1'].value_counts()\n",
    "#total 70 men quit smoking b/w first and second wave"
   ]
  },
  {
   "cell_type": "code",
   "execution_count": 269,
   "metadata": {},
   "outputs": [
    {
     "data": {
      "text/plain": [
       "1    14\n",
       "Name: w2_b1, dtype: int64"
      ]
     },
     "execution_count": 269,
     "metadata": {},
     "output_type": "execute_result"
    }
   ],
   "source": [
    "df[(df['w1_gen']=='Female') & (df['w2_b1']==1)]['w2_b1'].value_counts()\n",
    "#total 14 women quit smoking b/w first and second wave"
   ]
  },
  {
   "cell_type": "code",
   "execution_count": 272,
   "metadata": {},
   "outputs": [
    {
     "data": {
      "text/plain": [
       "Male    1530\n",
       "Name: w1_gen, dtype: int64"
      ]
     },
     "execution_count": 272,
     "metadata": {},
     "output_type": "execute_result"
    }
   ],
   "source": [
    "df[df['w1_gen']=='Male']['w1_gen'].value_counts()\n",
    "#total 1530 men participated"
   ]
  },
  {
   "cell_type": "code",
   "execution_count": 273,
   "metadata": {},
   "outputs": [
    {
     "data": {
      "text/plain": [
       "Female    176\n",
       "Name: w1_gen, dtype: int64"
      ]
     },
     "execution_count": 273,
     "metadata": {},
     "output_type": "execute_result"
    }
   ],
   "source": [
    "df[df['w1_gen']=='Female']['w1_gen'].value_counts()\n",
    "#total 176 women participated"
   ]
  },
  {
   "cell_type": "code",
   "execution_count": 274,
   "metadata": {},
   "outputs": [
    {
     "name": "stdout",
     "output_type": "stream",
     "text": [
      "4.57516339869281\n"
     ]
    }
   ],
   "source": [
    "cessation_rates_men=(70/1530)*100\n",
    "print(cessation_rates_men)"
   ]
  },
  {
   "cell_type": "code",
   "execution_count": 275,
   "metadata": {},
   "outputs": [
    {
     "name": "stdout",
     "output_type": "stream",
     "text": [
      "7.954545454545454\n"
     ]
    }
   ],
   "source": [
    "cessation_rates_women= (14/176)*100\n",
    "print(cessation_rates_women)"
   ]
  },
  {
   "cell_type": "code",
   "execution_count": 276,
   "metadata": {},
   "outputs": [],
   "source": [
    "# Smoking cessation rate b/w wave 1 & wave 2 shows that women shows a better recovery pattern in comparison to men"
   ]
  },
  {
   "cell_type": "code",
   "execution_count": 277,
   "metadata": {},
   "outputs": [
    {
     "data": {
      "text/html": [
       "<div>\n",
       "<style scoped>\n",
       "    .dataframe tbody tr th:only-of-type {\n",
       "        vertical-align: middle;\n",
       "    }\n",
       "\n",
       "    .dataframe tbody tr th {\n",
       "        vertical-align: top;\n",
       "    }\n",
       "\n",
       "    .dataframe thead th {\n",
       "        text-align: right;\n",
       "    }\n",
       "</style>\n",
       "<table border=\"1\" class=\"dataframe\">\n",
       "  <thead>\n",
       "    <tr style=\"text-align: right;\">\n",
       "      <th></th>\n",
       "      <th>pid</th>\n",
       "      <th>w3_region</th>\n",
       "      <th>w3_age</th>\n",
       "      <th>w3_gen</th>\n",
       "      <th>w3_b1</th>\n",
       "      <th>w2_region</th>\n",
       "      <th>hhid</th>\n",
       "      <th>w2_age</th>\n",
       "      <th>w2_gen</th>\n",
       "      <th>w2_b1</th>\n",
       "      <th>w1_region</th>\n",
       "      <th>w1_gen</th>\n",
       "      <th>w1_age</th>\n",
       "      <th>w1_smk_type</th>\n",
       "      <th>w2_smk_type</th>\n",
       "      <th>w3_smk_type</th>\n",
       "    </tr>\n",
       "  </thead>\n",
       "  <tbody>\n",
       "    <tr>\n",
       "      <td>0</td>\n",
       "      <td>23</td>\n",
       "      <td>Tbilisi</td>\n",
       "      <td>82</td>\n",
       "      <td>Male</td>\n",
       "      <td>No, I did  not</td>\n",
       "      <td>Tbilisi</td>\n",
       "      <td>23</td>\n",
       "      <td>82</td>\n",
       "      <td>Male</td>\n",
       "      <td>0</td>\n",
       "      <td>Tbilisi</td>\n",
       "      <td>Male</td>\n",
       "      <td>81</td>\n",
       "      <td>Filtered cigarettes</td>\n",
       "      <td>Filtered cigarettes only</td>\n",
       "      <td>Unfiltered cigarettes only</td>\n",
       "    </tr>\n",
       "    <tr>\n",
       "      <td>1</td>\n",
       "      <td>26</td>\n",
       "      <td>Kutaisi</td>\n",
       "      <td>45</td>\n",
       "      <td>Male</td>\n",
       "      <td>No, I did  not</td>\n",
       "      <td>Kutaisi</td>\n",
       "      <td>26</td>\n",
       "      <td>44</td>\n",
       "      <td>Male</td>\n",
       "      <td>0</td>\n",
       "      <td>Kutaisi</td>\n",
       "      <td>Male</td>\n",
       "      <td>41</td>\n",
       "      <td>Filtered cigarettes</td>\n",
       "      <td>Filtered cigarettes only</td>\n",
       "      <td>Filtered cigarettes only</td>\n",
       "    </tr>\n",
       "    <tr>\n",
       "      <td>2</td>\n",
       "      <td>28</td>\n",
       "      <td>Kutaisi</td>\n",
       "      <td>47</td>\n",
       "      <td>Male</td>\n",
       "      <td>No, I did  not</td>\n",
       "      <td>Kutaisi</td>\n",
       "      <td>28</td>\n",
       "      <td>46</td>\n",
       "      <td>Male</td>\n",
       "      <td>0</td>\n",
       "      <td>Kutaisi</td>\n",
       "      <td>Male</td>\n",
       "      <td>45</td>\n",
       "      <td>Filtered cigarettes</td>\n",
       "      <td>Filtered cigarettes only</td>\n",
       "      <td>Filtered cigarettes only</td>\n",
       "    </tr>\n",
       "    <tr>\n",
       "      <td>3</td>\n",
       "      <td>29</td>\n",
       "      <td>Gori</td>\n",
       "      <td>29</td>\n",
       "      <td>Male</td>\n",
       "      <td>Yes I gave up</td>\n",
       "      <td>Gori</td>\n",
       "      <td>29</td>\n",
       "      <td>30</td>\n",
       "      <td>Male</td>\n",
       "      <td>0</td>\n",
       "      <td>Gori</td>\n",
       "      <td>Male</td>\n",
       "      <td>27</td>\n",
       "      <td>Filtered cigarettes</td>\n",
       "      <td>Filtered cigarettes only</td>\n",
       "      <td>NaN</td>\n",
       "    </tr>\n",
       "    <tr>\n",
       "      <td>4</td>\n",
       "      <td>31</td>\n",
       "      <td>Gori</td>\n",
       "      <td>43</td>\n",
       "      <td>Male</td>\n",
       "      <td>No, I did  not</td>\n",
       "      <td>Gori</td>\n",
       "      <td>31</td>\n",
       "      <td>42</td>\n",
       "      <td>Male</td>\n",
       "      <td>0</td>\n",
       "      <td>Gori</td>\n",
       "      <td>Male</td>\n",
       "      <td>41</td>\n",
       "      <td>Filtered cigarettes</td>\n",
       "      <td>Filtered cigarettes only</td>\n",
       "      <td>Filtered cigarettes only</td>\n",
       "    </tr>\n",
       "  </tbody>\n",
       "</table>\n",
       "</div>"
      ],
      "text/plain": [
       "   pid w3_region  w3_age w3_gen           w3_b1 w2_region  hhid  w2_age  \\\n",
       "0   23   Tbilisi      82   Male  No, I did  not   Tbilisi    23      82   \n",
       "1   26   Kutaisi      45   Male  No, I did  not   Kutaisi    26      44   \n",
       "2   28   Kutaisi      47   Male  No, I did  not   Kutaisi    28      46   \n",
       "3   29      Gori      29   Male   Yes I gave up      Gori    29      30   \n",
       "4   31      Gori      43   Male  No, I did  not      Gori    31      42   \n",
       "\n",
       "  w2_gen w2_b1 w1_region w1_gen  w1_age          w1_smk_type  \\\n",
       "0   Male     0   Tbilisi   Male      81  Filtered cigarettes   \n",
       "1   Male     0   Kutaisi   Male      41  Filtered cigarettes   \n",
       "2   Male     0   Kutaisi   Male      45  Filtered cigarettes   \n",
       "3   Male     0      Gori   Male      27  Filtered cigarettes   \n",
       "4   Male     0      Gori   Male      41  Filtered cigarettes   \n",
       "\n",
       "                w2_smk_type                 w3_smk_type  \n",
       "0  Filtered cigarettes only  Unfiltered cigarettes only  \n",
       "1  Filtered cigarettes only    Filtered cigarettes only  \n",
       "2  Filtered cigarettes only    Filtered cigarettes only  \n",
       "3  Filtered cigarettes only                         NaN  \n",
       "4  Filtered cigarettes only    Filtered cigarettes only  "
      ]
     },
     "execution_count": 277,
     "metadata": {},
     "output_type": "execute_result"
    }
   ],
   "source": [
    "df.head(5)"
   ]
  },
  {
   "cell_type": "code",
   "execution_count": 285,
   "metadata": {},
   "outputs": [
    {
     "data": {
      "text/plain": [
       "<matplotlib.legend.Legend at 0x193113c76a0>"
      ]
     },
     "execution_count": 285,
     "metadata": {},
     "output_type": "execute_result"
    },
    {
     "data": {
      "image/png": "[encoded data removed]",
      "text/plain": [
       "<Figure size 864x432 with 1 Axes>"
      ]
     },
     "metadata": {},
     "output_type": "display_data"
    }
   ],
   "source": [
    "plt.figure(figsize=(12,6))\n",
    "sns.countplot(x='w2_b1',data=df,hue='w1_region',saturation=5)\n",
    "plt.title('Region based Smoking cessation graph')\n",
    "plt.legend()"
   ]
  },
  {
   "cell_type": "code",
   "execution_count": 289,
   "metadata": {},
   "outputs": [
    {
     "data": {
      "text/plain": [
       "<matplotlib.axes._subplots.AxesSubplot at 0x19311706630>"
      ]
     },
     "execution_count": 289,
     "metadata": {},
     "output_type": "execute_result"
    },
    {
     "data": {
      "image/png": "[encoded data removed]",
      "text/plain": [
       "<Figure size 864x432 with 1 Axes>"
      ]
     },
     "metadata": {},
     "output_type": "display_data"
    }
   ],
   "source": [
    "plt.figure(figsize=(12,6))\n",
    "sns.distplot(df['w2_b1'],kde=True,color='red')"
   ]
  },
  {
   "cell_type": "code",
   "execution_count": 302,
   "metadata": {},
   "outputs": [
    {
     "data": {
      "text/plain": [
       "1    25\n",
       "Name: w2_b1, dtype: int64"
      ]
     },
     "execution_count": 302,
     "metadata": {},
     "output_type": "execute_result"
    }
   ],
   "source": [
    "df[(df['w1_region']=='Tbilisi') & (df['w2_b1']==1)]['w2_b1'].value_counts()\n"
   ]
  },
  {
   "cell_type": "code",
   "execution_count": 300,
   "metadata": {},
   "outputs": [
    {
     "data": {
      "text/plain": [
       "Tbilisi    406\n",
       "Name: w1_region, dtype: int64"
      ]
     },
     "execution_count": 300,
     "metadata": {},
     "output_type": "execute_result"
    }
   ],
   "source": [
    "df[(df['w1_region']=='Tbilisi')]['w1_region'].value_counts()"
   ]
  },
  {
   "cell_type": "code",
   "execution_count": 303,
   "metadata": {},
   "outputs": [
    {
     "name": "stdout",
     "output_type": "stream",
     "text": [
      "6.157635467980295\n"
     ]
    }
   ],
   "source": [
    "SC_tbilisi_rate= (25/406)*100\n",
    "print(SC_tbilisi_rate)"
   ]
  },
  {
   "cell_type": "code",
   "execution_count": 304,
   "metadata": {},
   "outputs": [
    {
     "data": {
      "text/plain": [
       "1    10\n",
       "Name: w2_b1, dtype: int64"
      ]
     },
     "execution_count": 304,
     "metadata": {},
     "output_type": "execute_result"
    }
   ],
   "source": [
    "df[(df['w1_region']=='Kutaisi') & (df['w2_b1']==1)]['w2_b1'].value_counts()"
   ]
  },
  {
   "cell_type": "code",
   "execution_count": 305,
   "metadata": {},
   "outputs": [
    {
     "data": {
      "text/plain": [
       "Kutaisi    257\n",
       "Name: w1_region, dtype: int64"
      ]
     },
     "execution_count": 305,
     "metadata": {},
     "output_type": "execute_result"
    }
   ],
   "source": [
    "df[(df['w1_region']=='Kutaisi')]['w1_region'].value_counts()"
   ]
  },
  {
   "cell_type": "code",
   "execution_count": 307,
   "metadata": {},
   "outputs": [
    {
     "name": "stdout",
     "output_type": "stream",
     "text": [
      "3.8910505836575875\n"
     ]
    }
   ],
   "source": [
    "SC_Kutaisi_rate= (10/257)*100\n",
    "print(SC_Kutaisi_rate)"
   ]
  },
  {
   "cell_type": "code",
   "execution_count": 308,
   "metadata": {},
   "outputs": [
    {
     "data": {
      "text/plain": [
       "1    17\n",
       "Name: w2_b1, dtype: int64"
      ]
     },
     "execution_count": 308,
     "metadata": {},
     "output_type": "execute_result"
    }
   ],
   "source": [
    "df[(df['w1_region']=='Gori') & (df['w2_b1']==1)]['w2_b1'].value_counts()"
   ]
  },
  {
   "cell_type": "code",
   "execution_count": 309,
   "metadata": {},
   "outputs": [
    {
     "data": {
      "text/plain": [
       "Gori    370\n",
       "Name: w1_region, dtype: int64"
      ]
     },
     "execution_count": 309,
     "metadata": {},
     "output_type": "execute_result"
    }
   ],
   "source": [
    "df[(df['w1_region']=='Gori')]['w1_region'].value_counts()"
   ]
  },
  {
   "cell_type": "code",
   "execution_count": 310,
   "metadata": {},
   "outputs": [
    {
     "name": "stdout",
     "output_type": "stream",
     "text": [
      "4.594594594594595\n"
     ]
    }
   ],
   "source": [
    "SC_gori_rate= (17/370)*100\n",
    "print(SC_gori_rate)"
   ]
  },
  {
   "cell_type": "code",
   "execution_count": 311,
   "metadata": {},
   "outputs": [
    {
     "data": {
      "text/plain": [
       "1    13\n",
       "Name: w2_b1, dtype: int64"
      ]
     },
     "execution_count": 311,
     "metadata": {},
     "output_type": "execute_result"
    }
   ],
   "source": [
    "df[(df['w1_region']=='Zugdidi') & (df['w2_b1']==1)]['w2_b1'].value_counts()"
   ]
  },
  {
   "cell_type": "code",
   "execution_count": 312,
   "metadata": {},
   "outputs": [
    {
     "data": {
      "text/plain": [
       "Zugdidi    392\n",
       "Name: w1_region, dtype: int64"
      ]
     },
     "execution_count": 312,
     "metadata": {},
     "output_type": "execute_result"
    }
   ],
   "source": [
    "df[(df['w1_region']=='Zugdidi')]['w1_region'].value_counts()"
   ]
  },
  {
   "cell_type": "code",
   "execution_count": 313,
   "metadata": {},
   "outputs": [
    {
     "name": "stdout",
     "output_type": "stream",
     "text": [
      "3.316326530612245\n"
     ]
    }
   ],
   "source": [
    "SC_Zugdidi_rate= (13/392)*100\n",
    "print(SC_Zugdidi_rate)"
   ]
  },
  {
   "cell_type": "code",
   "execution_count": 314,
   "metadata": {},
   "outputs": [
    {
     "data": {
      "text/plain": [
       "1    19\n",
       "Name: w2_b1, dtype: int64"
      ]
     },
     "execution_count": 314,
     "metadata": {},
     "output_type": "execute_result"
    }
   ],
   "source": [
    "df[(df['w1_region']=='Akhaltsikhe') & (df['w2_b1']==1)]['w2_b1'].value_counts()"
   ]
  },
  {
   "cell_type": "code",
   "execution_count": 315,
   "metadata": {},
   "outputs": [
    {
     "data": {
      "text/plain": [
       "Akhaltsikhe    281\n",
       "Name: w1_region, dtype: int64"
      ]
     },
     "execution_count": 315,
     "metadata": {},
     "output_type": "execute_result"
    }
   ],
   "source": [
    "df[(df['w1_region']=='Akhaltsikhe')]['w1_region'].value_counts()"
   ]
  },
  {
   "cell_type": "code",
   "execution_count": 316,
   "metadata": {},
   "outputs": [
    {
     "name": "stdout",
     "output_type": "stream",
     "text": [
      "6.761565836298933\n"
     ]
    }
   ],
   "source": [
    "SC_Akhaltsikhe_rate= (19/281)*100\n",
    "print(SC_Akhaltsikhe_rate)"
   ]
  },
  {
   "cell_type": "code",
   "execution_count": null,
   "metadata": {},
   "outputs": [],
   "source": [
    "#OUT OF 5 REGIONS AKHALTSIKHE REGION SHOWS BEST PERFORMANCE WITH AN IMPRESSIVE SCORE OF 6.7615% IN QUITING SMOKING"
   ]
  },
  {
   "cell_type": "code",
   "execution_count": 376,
   "metadata": {},
   "outputs": [
    {
     "data": {
      "text/html": [
       "<div>\n",
       "<style scoped>\n",
       "    .dataframe tbody tr th:only-of-type {\n",
       "        vertical-align: middle;\n",
       "    }\n",
       "\n",
       "    .dataframe tbody tr th {\n",
       "        vertical-align: top;\n",
       "    }\n",
       "\n",
       "    .dataframe thead th {\n",
       "        text-align: right;\n",
       "    }\n",
       "</style>\n",
       "<table border=\"1\" class=\"dataframe\">\n",
       "  <thead>\n",
       "    <tr style=\"text-align: right;\">\n",
       "      <th></th>\n",
       "      <th>pid</th>\n",
       "      <th>w3_region</th>\n",
       "      <th>w3_age</th>\n",
       "      <th>w3_gen</th>\n",
       "      <th>w3_b1</th>\n",
       "      <th>w2_region</th>\n",
       "      <th>hhid</th>\n",
       "      <th>w2_age</th>\n",
       "      <th>w2_gen</th>\n",
       "      <th>w2_b1</th>\n",
       "      <th>w1_region</th>\n",
       "      <th>w1_gen</th>\n",
       "      <th>w1_age</th>\n",
       "      <th>w1_smk_type</th>\n",
       "      <th>w2_smk_type</th>\n",
       "      <th>w3_smk_type</th>\n",
       "    </tr>\n",
       "  </thead>\n",
       "  <tbody>\n",
       "    <tr>\n",
       "      <td>0</td>\n",
       "      <td>23</td>\n",
       "      <td>Tbilisi</td>\n",
       "      <td>82</td>\n",
       "      <td>Male</td>\n",
       "      <td>No, I did  not</td>\n",
       "      <td>Tbilisi</td>\n",
       "      <td>23</td>\n",
       "      <td>82</td>\n",
       "      <td>Male</td>\n",
       "      <td>No, I did  not</td>\n",
       "      <td>Tbilisi</td>\n",
       "      <td>Male</td>\n",
       "      <td>81</td>\n",
       "      <td>Filtered cigarettes</td>\n",
       "      <td>Filtered cigarettes only</td>\n",
       "      <td>Unfiltered cigarettes only</td>\n",
       "    </tr>\n",
       "    <tr>\n",
       "      <td>1</td>\n",
       "      <td>26</td>\n",
       "      <td>Kutaisi</td>\n",
       "      <td>45</td>\n",
       "      <td>Male</td>\n",
       "      <td>No, I did  not</td>\n",
       "      <td>Kutaisi</td>\n",
       "      <td>26</td>\n",
       "      <td>44</td>\n",
       "      <td>Male</td>\n",
       "      <td>No, I did  not</td>\n",
       "      <td>Kutaisi</td>\n",
       "      <td>Male</td>\n",
       "      <td>41</td>\n",
       "      <td>Filtered cigarettes</td>\n",
       "      <td>Filtered cigarettes only</td>\n",
       "      <td>Filtered cigarettes only</td>\n",
       "    </tr>\n",
       "    <tr>\n",
       "      <td>2</td>\n",
       "      <td>28</td>\n",
       "      <td>Kutaisi</td>\n",
       "      <td>47</td>\n",
       "      <td>Male</td>\n",
       "      <td>No, I did  not</td>\n",
       "      <td>Kutaisi</td>\n",
       "      <td>28</td>\n",
       "      <td>46</td>\n",
       "      <td>Male</td>\n",
       "      <td>No, I did  not</td>\n",
       "      <td>Kutaisi</td>\n",
       "      <td>Male</td>\n",
       "      <td>45</td>\n",
       "      <td>Filtered cigarettes</td>\n",
       "      <td>Filtered cigarettes only</td>\n",
       "      <td>Filtered cigarettes only</td>\n",
       "    </tr>\n",
       "    <tr>\n",
       "      <td>3</td>\n",
       "      <td>29</td>\n",
       "      <td>Gori</td>\n",
       "      <td>29</td>\n",
       "      <td>Male</td>\n",
       "      <td>Yes I gave up</td>\n",
       "      <td>Gori</td>\n",
       "      <td>29</td>\n",
       "      <td>30</td>\n",
       "      <td>Male</td>\n",
       "      <td>No, I did  not</td>\n",
       "      <td>Gori</td>\n",
       "      <td>Male</td>\n",
       "      <td>27</td>\n",
       "      <td>Filtered cigarettes</td>\n",
       "      <td>Filtered cigarettes only</td>\n",
       "      <td>NaN</td>\n",
       "    </tr>\n",
       "    <tr>\n",
       "      <td>4</td>\n",
       "      <td>31</td>\n",
       "      <td>Gori</td>\n",
       "      <td>43</td>\n",
       "      <td>Male</td>\n",
       "      <td>No, I did  not</td>\n",
       "      <td>Gori</td>\n",
       "      <td>31</td>\n",
       "      <td>42</td>\n",
       "      <td>Male</td>\n",
       "      <td>No, I did  not</td>\n",
       "      <td>Gori</td>\n",
       "      <td>Male</td>\n",
       "      <td>41</td>\n",
       "      <td>Filtered cigarettes</td>\n",
       "      <td>Filtered cigarettes only</td>\n",
       "      <td>Filtered cigarettes only</td>\n",
       "    </tr>\n",
       "    <tr>\n",
       "      <td>5</td>\n",
       "      <td>35</td>\n",
       "      <td>Gori</td>\n",
       "      <td>39</td>\n",
       "      <td>Male</td>\n",
       "      <td>No, I did  not</td>\n",
       "      <td>Gori</td>\n",
       "      <td>35</td>\n",
       "      <td>38</td>\n",
       "      <td>Male</td>\n",
       "      <td>No, I did  not</td>\n",
       "      <td>Gori</td>\n",
       "      <td>Male</td>\n",
       "      <td>37</td>\n",
       "      <td>Filtered cigarettes</td>\n",
       "      <td>Unfiltered cigarettes only</td>\n",
       "      <td>Filtered cigarettes only</td>\n",
       "    </tr>\n",
       "    <tr>\n",
       "      <td>6</td>\n",
       "      <td>36</td>\n",
       "      <td>Gori</td>\n",
       "      <td>50</td>\n",
       "      <td>Male</td>\n",
       "      <td>No, I did  not</td>\n",
       "      <td>Gori</td>\n",
       "      <td>36</td>\n",
       "      <td>50</td>\n",
       "      <td>Male</td>\n",
       "      <td>No, I did  not</td>\n",
       "      <td>Gori</td>\n",
       "      <td>Male</td>\n",
       "      <td>49</td>\n",
       "      <td>Filtered cigarettes</td>\n",
       "      <td>Filtered cigarettes only</td>\n",
       "      <td>Filtered cigarettes only</td>\n",
       "    </tr>\n",
       "    <tr>\n",
       "      <td>7</td>\n",
       "      <td>37</td>\n",
       "      <td>Gori</td>\n",
       "      <td>36</td>\n",
       "      <td>Male</td>\n",
       "      <td>Yes I gave up</td>\n",
       "      <td>Gori</td>\n",
       "      <td>37</td>\n",
       "      <td>36</td>\n",
       "      <td>Male</td>\n",
       "      <td>No, I did  not</td>\n",
       "      <td>Gori</td>\n",
       "      <td>Male</td>\n",
       "      <td>34</td>\n",
       "      <td>Both filtered &amp; non-filtered</td>\n",
       "      <td>Unfiltered cigarettes only</td>\n",
       "      <td>NaN</td>\n",
       "    </tr>\n",
       "    <tr>\n",
       "      <td>8</td>\n",
       "      <td>40</td>\n",
       "      <td>Gori</td>\n",
       "      <td>52</td>\n",
       "      <td>Male</td>\n",
       "      <td>No, I did  not</td>\n",
       "      <td>Gori</td>\n",
       "      <td>40</td>\n",
       "      <td>51</td>\n",
       "      <td>Male</td>\n",
       "      <td>No, I did  not</td>\n",
       "      <td>Gori</td>\n",
       "      <td>Male</td>\n",
       "      <td>51</td>\n",
       "      <td>Filtered cigarettes</td>\n",
       "      <td>Unfiltered cigarettes only</td>\n",
       "      <td>RYO only</td>\n",
       "    </tr>\n",
       "    <tr>\n",
       "      <td>9</td>\n",
       "      <td>42</td>\n",
       "      <td>Gori</td>\n",
       "      <td>66</td>\n",
       "      <td>Male</td>\n",
       "      <td>Yes I gave up</td>\n",
       "      <td>Gori</td>\n",
       "      <td>42</td>\n",
       "      <td>66</td>\n",
       "      <td>Male</td>\n",
       "      <td>No, I did  not</td>\n",
       "      <td>Gori</td>\n",
       "      <td>Male</td>\n",
       "      <td>65</td>\n",
       "      <td>Filtered cigarettes</td>\n",
       "      <td>Unfiltered cigarettes only</td>\n",
       "      <td>NaN</td>\n",
       "    </tr>\n",
       "  </tbody>\n",
       "</table>\n",
       "</div>"
      ],
      "text/plain": [
       "   pid w3_region  w3_age w3_gen           w3_b1 w2_region  hhid  w2_age  \\\n",
       "0   23   Tbilisi      82   Male  No, I did  not   Tbilisi    23      82   \n",
       "1   26   Kutaisi      45   Male  No, I did  not   Kutaisi    26      44   \n",
       "2   28   Kutaisi      47   Male  No, I did  not   Kutaisi    28      46   \n",
       "3   29      Gori      29   Male   Yes I gave up      Gori    29      30   \n",
       "4   31      Gori      43   Male  No, I did  not      Gori    31      42   \n",
       "5   35      Gori      39   Male  No, I did  not      Gori    35      38   \n",
       "6   36      Gori      50   Male  No, I did  not      Gori    36      50   \n",
       "7   37      Gori      36   Male   Yes I gave up      Gori    37      36   \n",
       "8   40      Gori      52   Male  No, I did  not      Gori    40      51   \n",
       "9   42      Gori      66   Male   Yes I gave up      Gori    42      66   \n",
       "\n",
       "  w2_gen           w2_b1 w1_region w1_gen  w1_age  \\\n",
       "0   Male  No, I did  not   Tbilisi   Male      81   \n",
       "1   Male  No, I did  not   Kutaisi   Male      41   \n",
       "2   Male  No, I did  not   Kutaisi   Male      45   \n",
       "3   Male  No, I did  not      Gori   Male      27   \n",
       "4   Male  No, I did  not      Gori   Male      41   \n",
       "5   Male  No, I did  not      Gori   Male      37   \n",
       "6   Male  No, I did  not      Gori   Male      49   \n",
       "7   Male  No, I did  not      Gori   Male      34   \n",
       "8   Male  No, I did  not      Gori   Male      51   \n",
       "9   Male  No, I did  not      Gori   Male      65   \n",
       "\n",
       "                    w1_smk_type                 w2_smk_type  \\\n",
       "0           Filtered cigarettes    Filtered cigarettes only   \n",
       "1           Filtered cigarettes    Filtered cigarettes only   \n",
       "2           Filtered cigarettes    Filtered cigarettes only   \n",
       "3           Filtered cigarettes    Filtered cigarettes only   \n",
       "4           Filtered cigarettes    Filtered cigarettes only   \n",
       "5           Filtered cigarettes  Unfiltered cigarettes only   \n",
       "6           Filtered cigarettes    Filtered cigarettes only   \n",
       "7  Both filtered & non-filtered  Unfiltered cigarettes only   \n",
       "8           Filtered cigarettes  Unfiltered cigarettes only   \n",
       "9           Filtered cigarettes  Unfiltered cigarettes only   \n",
       "\n",
       "                  w3_smk_type  \n",
       "0  Unfiltered cigarettes only  \n",
       "1    Filtered cigarettes only  \n",
       "2    Filtered cigarettes only  \n",
       "3                         NaN  \n",
       "4    Filtered cigarettes only  \n",
       "5    Filtered cigarettes only  \n",
       "6    Filtered cigarettes only  \n",
       "7                         NaN  \n",
       "8                    RYO only  \n",
       "9                         NaN  "
      ]
     },
     "execution_count": 376,
     "metadata": {},
     "output_type": "execute_result"
    }
   ],
   "source": [
    "df.head(10)"
   ]
  },
  {
   "cell_type": "code",
   "execution_count": 332,
   "metadata": {},
   "outputs": [
    {
     "name": "stdout",
     "output_type": "stream",
     "text": [
      "[1 2 nan 3 4 5 6]\n"
     ]
    }
   ],
   "source": [
    "print(df['w1_smk_type'].unique())"
   ]
  },
  {
   "cell_type": "code",
   "execution_count": 371,
   "metadata": {},
   "outputs": [],
   "source": [
    "def value(x):\n",
    "    if x=='Filtered cigarettes':\n",
    "        return 1;\n",
    "    elif x=='Both filtered & non-filtered':\n",
    "        return 2;\n",
    "    elif x=='Unfiltered cigarettes':\n",
    "        return 3;\n",
    "    elif x=='Cigarettes & RYO':\n",
    "        return 4;\n",
    "    elif x=='RYO only':\n",
    "        return 5;\n",
    "    elif x=='Only other tobacco':\n",
    "        return 6;\n",
    "    "
   ]
  },
  {
   "cell_type": "code",
   "execution_count": 367,
   "metadata": {},
   "outputs": [],
   "source": [
    "df['w1_smk_type']=df['w1_smk_type'].apply(func=value)"
   ]
  },
  {
   "cell_type": "code",
   "execution_count": 377,
   "metadata": {},
   "outputs": [
    {
     "data": {
      "text/html": [
       "<div>\n",
       "<style scoped>\n",
       "    .dataframe tbody tr th:only-of-type {\n",
       "        vertical-align: middle;\n",
       "    }\n",
       "\n",
       "    .dataframe tbody tr th {\n",
       "        vertical-align: top;\n",
       "    }\n",
       "\n",
       "    .dataframe thead th {\n",
       "        text-align: right;\n",
       "    }\n",
       "</style>\n",
       "<table border=\"1\" class=\"dataframe\">\n",
       "  <thead>\n",
       "    <tr style=\"text-align: right;\">\n",
       "      <th></th>\n",
       "      <th>pid</th>\n",
       "      <th>w3_region</th>\n",
       "      <th>w3_age</th>\n",
       "      <th>w3_gen</th>\n",
       "      <th>w3_b1</th>\n",
       "      <th>w2_region</th>\n",
       "      <th>hhid</th>\n",
       "      <th>w2_age</th>\n",
       "      <th>w2_gen</th>\n",
       "      <th>w2_b1</th>\n",
       "      <th>w1_region</th>\n",
       "      <th>w1_gen</th>\n",
       "      <th>w1_age</th>\n",
       "      <th>w1_smk_type</th>\n",
       "      <th>w2_smk_type</th>\n",
       "      <th>w3_smk_type</th>\n",
       "    </tr>\n",
       "  </thead>\n",
       "  <tbody>\n",
       "    <tr>\n",
       "      <td>0</td>\n",
       "      <td>23</td>\n",
       "      <td>Tbilisi</td>\n",
       "      <td>82</td>\n",
       "      <td>Male</td>\n",
       "      <td>No, I did  not</td>\n",
       "      <td>Tbilisi</td>\n",
       "      <td>23</td>\n",
       "      <td>82</td>\n",
       "      <td>Male</td>\n",
       "      <td>No, I did  not</td>\n",
       "      <td>Tbilisi</td>\n",
       "      <td>Male</td>\n",
       "      <td>81</td>\n",
       "      <td>Filtered cigarettes</td>\n",
       "      <td>Filtered cigarettes only</td>\n",
       "      <td>Unfiltered cigarettes only</td>\n",
       "    </tr>\n",
       "    <tr>\n",
       "      <td>1</td>\n",
       "      <td>26</td>\n",
       "      <td>Kutaisi</td>\n",
       "      <td>45</td>\n",
       "      <td>Male</td>\n",
       "      <td>No, I did  not</td>\n",
       "      <td>Kutaisi</td>\n",
       "      <td>26</td>\n",
       "      <td>44</td>\n",
       "      <td>Male</td>\n",
       "      <td>No, I did  not</td>\n",
       "      <td>Kutaisi</td>\n",
       "      <td>Male</td>\n",
       "      <td>41</td>\n",
       "      <td>Filtered cigarettes</td>\n",
       "      <td>Filtered cigarettes only</td>\n",
       "      <td>Filtered cigarettes only</td>\n",
       "    </tr>\n",
       "    <tr>\n",
       "      <td>2</td>\n",
       "      <td>28</td>\n",
       "      <td>Kutaisi</td>\n",
       "      <td>47</td>\n",
       "      <td>Male</td>\n",
       "      <td>No, I did  not</td>\n",
       "      <td>Kutaisi</td>\n",
       "      <td>28</td>\n",
       "      <td>46</td>\n",
       "      <td>Male</td>\n",
       "      <td>No, I did  not</td>\n",
       "      <td>Kutaisi</td>\n",
       "      <td>Male</td>\n",
       "      <td>45</td>\n",
       "      <td>Filtered cigarettes</td>\n",
       "      <td>Filtered cigarettes only</td>\n",
       "      <td>Filtered cigarettes only</td>\n",
       "    </tr>\n",
       "    <tr>\n",
       "      <td>3</td>\n",
       "      <td>29</td>\n",
       "      <td>Gori</td>\n",
       "      <td>29</td>\n",
       "      <td>Male</td>\n",
       "      <td>Yes I gave up</td>\n",
       "      <td>Gori</td>\n",
       "      <td>29</td>\n",
       "      <td>30</td>\n",
       "      <td>Male</td>\n",
       "      <td>No, I did  not</td>\n",
       "      <td>Gori</td>\n",
       "      <td>Male</td>\n",
       "      <td>27</td>\n",
       "      <td>Filtered cigarettes</td>\n",
       "      <td>Filtered cigarettes only</td>\n",
       "      <td>NaN</td>\n",
       "    </tr>\n",
       "    <tr>\n",
       "      <td>4</td>\n",
       "      <td>31</td>\n",
       "      <td>Gori</td>\n",
       "      <td>43</td>\n",
       "      <td>Male</td>\n",
       "      <td>No, I did  not</td>\n",
       "      <td>Gori</td>\n",
       "      <td>31</td>\n",
       "      <td>42</td>\n",
       "      <td>Male</td>\n",
       "      <td>No, I did  not</td>\n",
       "      <td>Gori</td>\n",
       "      <td>Male</td>\n",
       "      <td>41</td>\n",
       "      <td>Filtered cigarettes</td>\n",
       "      <td>Filtered cigarettes only</td>\n",
       "      <td>Filtered cigarettes only</td>\n",
       "    </tr>\n",
       "  </tbody>\n",
       "</table>\n",
       "</div>"
      ],
      "text/plain": [
       "   pid w3_region  w3_age w3_gen           w3_b1 w2_region  hhid  w2_age  \\\n",
       "0   23   Tbilisi      82   Male  No, I did  not   Tbilisi    23      82   \n",
       "1   26   Kutaisi      45   Male  No, I did  not   Kutaisi    26      44   \n",
       "2   28   Kutaisi      47   Male  No, I did  not   Kutaisi    28      46   \n",
       "3   29      Gori      29   Male   Yes I gave up      Gori    29      30   \n",
       "4   31      Gori      43   Male  No, I did  not      Gori    31      42   \n",
       "\n",
       "  w2_gen           w2_b1 w1_region w1_gen  w1_age          w1_smk_type  \\\n",
       "0   Male  No, I did  not   Tbilisi   Male      81  Filtered cigarettes   \n",
       "1   Male  No, I did  not   Kutaisi   Male      41  Filtered cigarettes   \n",
       "2   Male  No, I did  not   Kutaisi   Male      45  Filtered cigarettes   \n",
       "3   Male  No, I did  not      Gori   Male      27  Filtered cigarettes   \n",
       "4   Male  No, I did  not      Gori   Male      41  Filtered cigarettes   \n",
       "\n",
       "                w2_smk_type                 w3_smk_type  \n",
       "0  Filtered cigarettes only  Unfiltered cigarettes only  \n",
       "1  Filtered cigarettes only    Filtered cigarettes only  \n",
       "2  Filtered cigarettes only    Filtered cigarettes only  \n",
       "3  Filtered cigarettes only                         NaN  \n",
       "4  Filtered cigarettes only    Filtered cigarettes only  "
      ]
     },
     "execution_count": 377,
     "metadata": {},
     "output_type": "execute_result"
    }
   ],
   "source": [
    "df.head(5)"
   ]
  },
  {
   "cell_type": "code",
   "execution_count": 390,
   "metadata": {},
   "outputs": [],
   "source": [
    "df['w1_smk_type'].dropna(inplace=True)"
   ]
  },
  {
   "cell_type": "code",
   "execution_count": 445,
   "metadata": {},
   "outputs": [
    {
     "data": {
      "text/plain": [
       "Text(0.5, 1.0, 'WAVE 1')"
      ]
     },
     "execution_count": 445,
     "metadata": {},
     "output_type": "execute_result"
    },
    {
     "data": {
      "image/png": "[encoded data removed]",
      "text/plain": [
       "<Figure size 864x432 with 1 Axes>"
      ]
     },
     "metadata": {
      "needs_background": "light"
     },
     "output_type": "display_data"
    }
   ],
   "source": [
    "plt.figure(figsize=(12,6))\n",
    "plt.hist(df['w1_smk_type'],bins=40,histtype='barstacked',color='red')\n",
    "plt.title('WAVE 1')"
   ]
  },
  {
   "cell_type": "code",
   "execution_count": 417,
   "metadata": {},
   "outputs": [],
   "source": [
    "#plt.plot(df['pid'],df['w1_smk_type'],df['pid'],df['w2_smk_type'],df['pid'],df['w3_smk_type'])"
   ]
  },
  {
   "cell_type": "code",
   "execution_count": 443,
   "metadata": {},
   "outputs": [],
   "source": [
    "df['w3_smk_type'].apply (pd.to_numeric, errors='coerce')\n",
    "df.dropna(inplace=True)"
   ]
  },
  {
   "cell_type": "code",
   "execution_count": 446,
   "metadata": {},
   "outputs": [
    {
     "data": {
      "text/plain": [
       "Text(0.5, 1.0, 'WAVE 2')"
      ]
     },
     "execution_count": 446,
     "metadata": {},
     "output_type": "execute_result"
    },
    {
     "data": {
      "image/png": "[encoded data removed]",
      "text/plain": [
       "<Figure size 864x432 with 1 Axes>"
      ]
     },
     "metadata": {
      "needs_background": "light"
     },
     "output_type": "display_data"
    }
   ],
   "source": [
    "plt.figure(figsize=(12,6))\n",
    "plt.hist(df['w2_smk_type'],bins=40,histtype='barstacked',color='blue')\n",
    "plt.title('WAVE 2')"
   ]
  },
  {
   "cell_type": "code",
   "execution_count": 447,
   "metadata": {},
   "outputs": [
    {
     "data": {
      "text/plain": [
       "Text(0.5, 1.0, 'WAVE 3')"
      ]
     },
     "execution_count": 447,
     "metadata": {},
     "output_type": "execute_result"
    },
    {
     "data": {
      "image/png": "[encoded data removed]",
      "text/plain": [
       "<Figure size 864x432 with 1 Axes>"
      ]
     },
     "metadata": {
      "needs_background": "light"
     },
     "output_type": "display_data"
    }
   ],
   "source": [
    "plt.figure(figsize=(12,6))\n",
    "plt.hist(df['w3_smk_type'],bins=40,histtype='barstacked',color='violet')\n",
    "plt.title('WAVE 3')"
   ]
  },
  {
   "cell_type": "code",
   "execution_count": null,
   "metadata": {},
   "outputs": [],
   "source": []
  },
  {
   "cell_type": "markdown",
   "metadata": {},
   "source": [
    "\n",
    "\n",
    "# Thank You\n"
   ]
  }
 ],
 "metadata": {
  "kernelspec": {
   "display_name": "Python 3",
   "language": "python",
   "name": "python3"
  },
  "language_info": {
   "codemirror_mode": {
    "name": "ipython",
    "version": 3
   },
   "file_extension": ".py",
   "mimetype": "text/x-python",
   "name": "python",
   "nbconvert_exporter": "python",
   "pygments_lexer": "ipython3",
   "version": "3.7.3"
  }
 },
 "nbformat": 4,
 "nbformat_minor": 2
}
