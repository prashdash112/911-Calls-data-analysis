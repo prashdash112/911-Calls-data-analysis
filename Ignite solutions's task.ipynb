{
 "cells": [
  {
   "cell_type": "markdown",
   "metadata": {},
   "source": [
    "# IGNITE SOLUTION'S ASSESMENT TASK\n",
    "###                                                              SUBMITTED BY - PRASHANT SINGH"
   ]
  },
  {
   "cell_type": "markdown",
   "metadata": {},
   "source": [
    "# Q1 "
   ]
  },
  {
   "cell_type": "code",
   "execution_count": 315,
   "metadata": {},
   "outputs": [
    {
     "name": "stdout",
     "output_type": "stream",
     "text": [
      "Rotated array by 2 position is: [5 6 1 2 3 4]\n"
     ]
    }
   ],
   "source": [
    "import numpy as np \n",
    "\n",
    "def rotate_array(a,n): #function for rotating the array elements \n",
    "    '''\n",
    "    \n",
    "    The rotate_array function rotates the elements of the array by n position\n",
    "    a: The input array should be of dimension (1,k) where k is any natural no\n",
    "    n: the no of positions user wants to rotate the array\n",
    "    \n",
    "    '''\n",
    "    a = np.array(a)\n",
    "    \n",
    "    if a.shape != (len(a),):  #if the shape of array is not 1 dimensional then this block will raise an exception error \n",
    "        raise Exception('The array is not 1 dimensional')\n",
    "    \n",
    "    else:\n",
    "        return(np.concatenate((a[-n:],a[:-n]),axis=0))\n",
    "    \n",
    "if __name__ == '__main__':\n",
    "    \n",
    "    print('Rotated array by {} position is:'.format(n),rotate_array([1,2,3,4,5,6],n=2))"
   ]
  },
  {
   "cell_type": "markdown",
   "metadata": {},
   "source": [
    "# Q2"
   ]
  },
  {
   "cell_type": "markdown",
   "metadata": {},
   "source": [
    "#a\n",
    "“0” == 0 \n",
    "\n",
    "'''\n",
    "Ans - TRUE as javascript tries to parse a string into a number when we're comparing a string to a number  \n",
    "'''\n",
    "\n",
    "#b\n",
    "“” == 0 \n",
    "\n",
    "'''\n",
    "Ans - TRUE, as both values (nullstring & 0) would be false in boolean in JS so false==false hence result obtained will be true \n",
    "'''\n",
    "\n",
    "#c\n",
    "“” == “0” \n",
    "\n",
    "'''\n",
    "Ans - FALSE as here we're comparing 2 strings & both of them are different.  \n",
    "'''"
   ]
  },
  {
   "cell_type": "markdown",
   "metadata": {},
   "source": [
    "# Q3"
   ]
  },
  {
   "cell_type": "code",
   "execution_count": 332,
   "metadata": {},
   "outputs": [
    {
     "name": "stdout",
     "output_type": "stream",
     "text": [
      "['how', 'are', 'you', 'hello', 'Prashant']\n"
     ]
    }
   ],
   "source": [
    "a=['hello','how','are', 'you','Prashant'] #list of string elements \n",
    "\n",
    "def string_array_sort(lst):\n",
    "    '''\n",
    "    \n",
    "    Function aims at sorting strings inside an list on the basis of element length i.e the shorter string first \n",
    "    \n",
    "    '''\n",
    "    \n",
    "    lst2 = sorted(lst, key=len)  #sorted function is used with key=length i.e sorting on the basis of length of element \n",
    "    return lst2 \n",
    "      \n",
    "print(string_array_sort(a)) "
   ]
  },
  {
   "cell_type": "markdown",
   "metadata": {},
   "source": [
    "# Q4"
   ]
  },
  {
   "cell_type": "markdown",
   "metadata": {},
   "source": [
    "'''\n",
    "\n",
    "Ans:- I am not too sure & much familiar with JS but still here I go. var funny has stored the function weird(2) closure to x so the value of x is 2 but now in \n",
    "variable final_answer we're using the funny variable as a function but this time it'll act as a function of y instead of x as the x value is pre-inserted.\n",
    "\n",
    "So the final answer will evaluate (x+y+ ++tmp) where x=2,y=10 (passed to the funny function in last line of code) & tmp=3 so ++tmp will be 4(incremented)\n",
    "hence ans =2+10+4=16\n",
    "\n",
    "'''"
   ]
  },
  {
   "cell_type": "markdown",
   "metadata": {},
   "source": [
    "# Q5"
   ]
  },
  {
   "cell_type": "code",
   "execution_count": 316,
   "metadata": {},
   "outputs": [
    {
     "name": "stdin",
     "output_type": "stream",
     "text": [
      "Input text here:  Vrphwklqj phdqlqjixo\n"
     ]
    },
    {
     "name": "stdout",
     "output_type": "stream",
     "text": [
      "Shifted text:\n",
      " Yuskznotm skgtotmlar\n"
     ]
    },
    {
     "name": "stdin",
     "output_type": "stream",
     "text": [
      "Input text here:  Vrphwklqj phdqlqjixo\n"
     ]
    },
    {
     "name": "stdout",
     "output_type": "stream",
     "text": [
      "Shifted text:\n",
      " Something meaningful\n"
     ]
    }
   ],
   "source": [
    "def shifttext(shift): #function for shifting text by n places basically an decryption function for solving caeser cyper problem \n",
    "    \n",
    "    lower = 'abcdefghijklmnopqrstuvwxyz'\n",
    "    upper = 'ABCDEFGHIJKLMNOPQRSTUVWXYZ'\n",
    "    \n",
    "    inp = input('Input text here: ') #taking input from user \n",
    "    data = []\n",
    "    \n",
    "    for i in inp:\n",
    "        \n",
    "        if i.strip() and i.islower() and i in lower:\n",
    "            data.append(lower[(lower.index(i) + shift) % 26]) #appending shifted values in the data list \n",
    "            \n",
    "        elif i.strip() and i.isupper() and i in upper:\n",
    "            data.append(upper[(upper.index(i) + shift) % 26]) #appending shifted values in the data list \n",
    "            \n",
    "        else:\n",
    "            data.append(i)           \n",
    "\n",
    "            \n",
    "    output = ''.join(data)  #parsing the list into string format\n",
    "    return(output)\n",
    "\n",
    "print('Shifted text:\\n',shifttext(3))\n",
    "\n",
    "# I think there's something wrong with the question  as mapping alphabets with alphabets 3 positions ahead doesn't result in anything meaningful \n",
    "# whilefor shift= -3, a good result can be obtained. \n",
    "\n",
    "print('Shifted text:\\n',shifttext(-3))\n"
   ]
  },
  {
   "cell_type": "markdown",
   "metadata": {},
   "source": [
    "# Q6"
   ]
  },
  {
   "cell_type": "code",
   "execution_count": 309,
   "metadata": {},
   "outputs": [
    {
     "name": "stdin",
     "output_type": "stream",
     "text": [
      "Input text here:  Zulwh d surjudp (lq Sbwkrq, MdydVfulsw ru Uxeb) wr srsxodwh dqg wkhq vruw d udqgrpob glvwulexwhg olvw ri 1 ploolrq lqwhjhuv, hdfk lqwhjhu kdylqj d ydoxh >= 1 dqg <= 100 zlwkrxw xvlqj dqb exlowlq/hawhuqdo oleudub/ixqfwlrq iru vruwlqj. Brxu surjudp vkrxog fduhixoob frqvlghu wkh lqsxw dqg frph xs zlwk wkh prvw hiilflhqw vruwlqj vroxwlrq brx fdq wklqn ri. Surylgh wkh vsdfh dqg wlph frpsohalwb ri brxu dojrulwkp\n"
     ]
    },
    {
     "name": "stdout",
     "output_type": "stream",
     "text": [
      "Write a program (in Python, JavaScript or Ruby) to populate and then sort a randomly distributed list of 1 million integers, each integer having a value >= 1 and <= 100 without using any builtin/external library/function for sorting. Your program should carefully consider the input and come up with the most efficient sorting solution you can think of. Provide the space and time complexity of your algorithm\n"
     ]
    }
   ],
   "source": [
    "print(shifttext(-3))\n",
    "# Used the function I've made for the previous question to decrypt the question 6"
   ]
  },
  {
   "cell_type": "code",
   "execution_count": null,
   "metadata": {},
   "outputs": [],
   "source": [
    "arr = np.random.randint(1,100,1000000) #created an array of 1 million elements having value between 1 & 100\n",
    "\n",
    "def qsort(lst):\n",
    "    \n",
    "    '''\n",
    "    \n",
    "    qsort function sorts the list by setting the pivot at first position & using recurrsive function methodology\n",
    "    \n",
    "    Given an array and an element x of array as pivot, put x at its correct position in sorted array and put all smaller elements(smaller than x) \n",
    "    before x, and put all greater elements (greater than x) after x.\n",
    "    lst- Input list\n",
    "    \n",
    "    '''\n",
    "    \n",
    "    if lst == []: \n",
    "        return []\n",
    "    \n",
    "    else:\n",
    "        pivot = lst[0]\n",
    "        lesser = qsort([x for x in lst[1:] if x < pivot])\n",
    "        greater = qsort([x for x in lst[1:] if x >= pivot])\n",
    "        return lesser + [pivot] + greater\n",
    "print(qsort(arr),end=' ')\n",
    "\n",
    "# The worst time complexity for the algo is O(n^2)\n",
    "# Not too sure about the space complexity but I think it's O(n) "
   ]
  },
  {
   "cell_type": "markdown",
   "metadata": {},
   "source": [
    "# Q7"
   ]
  },
  {
   "cell_type": "code",
   "execution_count": 313,
   "metadata": {},
   "outputs": [
    {
     "name": "stdout",
     "output_type": "stream",
     "text": [
      "Solution is:\n",
      " eW era ta etingI snoituloS! riehT di-liame si sreerac@losetingi.moc\n"
     ]
    }
   ],
   "source": [
    "import re #importing re module for dealing with textual data \n",
    "\n",
    "target = 'We are at Ignite Solutions! Their email-id is careers@ignitesol.com' #target string \n",
    "\n",
    "words = re.split(r'[^\\w-]', target)  #splitting the target string using .split method \n",
    "transformation = ''\n",
    "\n",
    "for word in words:\n",
    "  transformation += ''.join(reversed(word)) #reversing the words & concatenating them to transformation string\n",
    "\n",
    "  if len(transformation) >= len(target): \n",
    "    continue\n",
    "\n",
    "  transformation += target[len(transformation)] \n",
    "\n",
    "print('Solution is:\\n',transformation)"
   ]
  },
  {
   "cell_type": "markdown",
   "metadata": {},
   "source": [
    "# THE END"
   ]
  }
 ],
 "metadata": {
  "kernelspec": {
   "display_name": "Python 3",
   "language": "python",
   "name": "python3"
  },
  "language_info": {
   "codemirror_mode": {
    "name": "ipython",
    "version": 3
   },
   "file_extension": ".py",
   "mimetype": "text/x-python",
   "name": "python",
   "nbconvert_exporter": "python",
   "pygments_lexer": "ipython3",
   "version": "3.7.3"
  }
 },
 "nbformat": 4,
 "nbformat_minor": 4
}
