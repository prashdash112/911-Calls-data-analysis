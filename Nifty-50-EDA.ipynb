{
 "cells": [
  {
   "cell_type": "code",
   "execution_count": 31,
   "metadata": {},
   "outputs": [],
   "source": [
    "import numpy as np\n",
    "import pandas as pd\n",
    "import matplotlib.pyplot as plt \n",
    "import seaborn as sns\n",
    "import datetime\n",
    "%matplotlib inline"
   ]
  },
  {
   "cell_type": "code",
   "execution_count": 2,
   "metadata": {},
   "outputs": [],
   "source": [
    "df=pd.read_csv(r'C:\\Users\\Prashant\\Desktop\\datasets\\NIFTY 500.csv')"
   ]
  },
  {
   "cell_type": "code",
   "execution_count": 3,
   "metadata": {},
   "outputs": [
    {
     "data": {
      "text/html": [
       "<div>\n",
       "<style scoped>\n",
       "    .dataframe tbody tr th:only-of-type {\n",
       "        vertical-align: middle;\n",
       "    }\n",
       "\n",
       "    .dataframe tbody tr th {\n",
       "        vertical-align: top;\n",
       "    }\n",
       "\n",
       "    .dataframe thead th {\n",
       "        text-align: right;\n",
       "    }\n",
       "</style>\n",
       "<table border=\"1\" class=\"dataframe\">\n",
       "  <thead>\n",
       "    <tr style=\"text-align: right;\">\n",
       "      <th></th>\n",
       "      <th>Date</th>\n",
       "      <th>Open</th>\n",
       "      <th>High</th>\n",
       "      <th>Low</th>\n",
       "      <th>Close</th>\n",
       "      <th>Volume</th>\n",
       "      <th>Turnover</th>\n",
       "      <th>P/E</th>\n",
       "      <th>P/B</th>\n",
       "      <th>Div Yield</th>\n",
       "    </tr>\n",
       "  </thead>\n",
       "  <tbody>\n",
       "    <tr>\n",
       "      <th>0</th>\n",
       "      <td>2000-01-03</td>\n",
       "      <td>1205.70</td>\n",
       "      <td>1291.65</td>\n",
       "      <td>1205.70</td>\n",
       "      <td>1291.55</td>\n",
       "      <td>49232614.0</td>\n",
       "      <td>1.566990e+10</td>\n",
       "      <td>27.52</td>\n",
       "      <td>3.15</td>\n",
       "      <td>1.08</td>\n",
       "    </tr>\n",
       "    <tr>\n",
       "      <th>1</th>\n",
       "      <td>2000-01-04</td>\n",
       "      <td>1292.50</td>\n",
       "      <td>1335.75</td>\n",
       "      <td>1292.50</td>\n",
       "      <td>1335.45</td>\n",
       "      <td>75578714.0</td>\n",
       "      <td>3.820770e+10</td>\n",
       "      <td>28.46</td>\n",
       "      <td>3.25</td>\n",
       "      <td>1.04</td>\n",
       "    </tr>\n",
       "    <tr>\n",
       "      <th>2</th>\n",
       "      <td>2000-01-05</td>\n",
       "      <td>1335.35</td>\n",
       "      <td>1347.65</td>\n",
       "      <td>1279.00</td>\n",
       "      <td>1303.80</td>\n",
       "      <td>115223881.0</td>\n",
       "      <td>6.592590e+10</td>\n",
       "      <td>27.78</td>\n",
       "      <td>3.18</td>\n",
       "      <td>1.07</td>\n",
       "    </tr>\n",
       "    <tr>\n",
       "      <th>3</th>\n",
       "      <td>2000-01-06</td>\n",
       "      <td>1321.35</td>\n",
       "      <td>1331.55</td>\n",
       "      <td>1299.80</td>\n",
       "      <td>1306.60</td>\n",
       "      <td>100145169.0</td>\n",
       "      <td>5.008460e+10</td>\n",
       "      <td>27.84</td>\n",
       "      <td>3.18</td>\n",
       "      <td>1.07</td>\n",
       "    </tr>\n",
       "    <tr>\n",
       "      <th>4</th>\n",
       "      <td>2000-01-07</td>\n",
       "      <td>1306.55</td>\n",
       "      <td>1306.55</td>\n",
       "      <td>1270.45</td>\n",
       "      <td>1276.30</td>\n",
       "      <td>35262180.0</td>\n",
       "      <td>1.284470e+10</td>\n",
       "      <td>27.20</td>\n",
       "      <td>3.11</td>\n",
       "      <td>1.09</td>\n",
       "    </tr>\n",
       "  </tbody>\n",
       "</table>\n",
       "</div>"
      ],
      "text/plain": [
       "         Date     Open     High      Low    Close       Volume      Turnover  \\\n",
       "0  2000-01-03  1205.70  1291.65  1205.70  1291.55   49232614.0  1.566990e+10   \n",
       "1  2000-01-04  1292.50  1335.75  1292.50  1335.45   75578714.0  3.820770e+10   \n",
       "2  2000-01-05  1335.35  1347.65  1279.00  1303.80  115223881.0  6.592590e+10   \n",
       "3  2000-01-06  1321.35  1331.55  1299.80  1306.60  100145169.0  5.008460e+10   \n",
       "4  2000-01-07  1306.55  1306.55  1270.45  1276.30   35262180.0  1.284470e+10   \n",
       "\n",
       "     P/E   P/B  Div Yield  \n",
       "0  27.52  3.15       1.08  \n",
       "1  28.46  3.25       1.04  \n",
       "2  27.78  3.18       1.07  \n",
       "3  27.84  3.18       1.07  \n",
       "4  27.20  3.11       1.09  "
      ]
     },
     "execution_count": 3,
     "metadata": {},
     "output_type": "execute_result"
    }
   ],
   "source": [
    "df.head()"
   ]
  },
  {
   "cell_type": "code",
   "execution_count": 4,
   "metadata": {},
   "outputs": [
    {
     "data": {
      "text/html": [
       "<div>\n",
       "<style scoped>\n",
       "    .dataframe tbody tr th:only-of-type {\n",
       "        vertical-align: middle;\n",
       "    }\n",
       "\n",
       "    .dataframe tbody tr th {\n",
       "        vertical-align: top;\n",
       "    }\n",
       "\n",
       "    .dataframe thead th {\n",
       "        text-align: right;\n",
       "    }\n",
       "</style>\n",
       "<table border=\"1\" class=\"dataframe\">\n",
       "  <thead>\n",
       "    <tr style=\"text-align: right;\">\n",
       "      <th></th>\n",
       "      <th>Date</th>\n",
       "      <th>Open</th>\n",
       "      <th>High</th>\n",
       "      <th>Low</th>\n",
       "      <th>Close</th>\n",
       "      <th>Volume</th>\n",
       "      <th>Turnover</th>\n",
       "      <th>P/E</th>\n",
       "      <th>P/B</th>\n",
       "      <th>Div Yield</th>\n",
       "    </tr>\n",
       "  </thead>\n",
       "  <tbody>\n",
       "    <tr>\n",
       "      <th>5056</th>\n",
       "      <td>2020-05-04</td>\n",
       "      <td>7764.95</td>\n",
       "      <td>7765.80</td>\n",
       "      <td>7578.75</td>\n",
       "      <td>7596.90</td>\n",
       "      <td>NaN</td>\n",
       "      <td>NaN</td>\n",
       "      <td>24.06</td>\n",
       "      <td>2.49</td>\n",
       "      <td>1.57</td>\n",
       "    </tr>\n",
       "    <tr>\n",
       "      <th>5057</th>\n",
       "      <td>2020-05-05</td>\n",
       "      <td>7704.50</td>\n",
       "      <td>7727.75</td>\n",
       "      <td>7513.25</td>\n",
       "      <td>7523.05</td>\n",
       "      <td>1.839701e+09</td>\n",
       "      <td>4.587631e+11</td>\n",
       "      <td>23.83</td>\n",
       "      <td>2.47</td>\n",
       "      <td>1.59</td>\n",
       "    </tr>\n",
       "    <tr>\n",
       "      <th>5058</th>\n",
       "      <td>2020-05-06</td>\n",
       "      <td>7544.15</td>\n",
       "      <td>7620.80</td>\n",
       "      <td>7451.20</td>\n",
       "      <td>7575.50</td>\n",
       "      <td>2.096199e+09</td>\n",
       "      <td>4.809224e+11</td>\n",
       "      <td>24.00</td>\n",
       "      <td>2.48</td>\n",
       "      <td>1.58</td>\n",
       "    </tr>\n",
       "    <tr>\n",
       "      <th>5059</th>\n",
       "      <td>2020-05-07</td>\n",
       "      <td>7551.60</td>\n",
       "      <td>7592.45</td>\n",
       "      <td>7509.80</td>\n",
       "      <td>7520.85</td>\n",
       "      <td>1.629284e+09</td>\n",
       "      <td>7.345840e+11</td>\n",
       "      <td>23.82</td>\n",
       "      <td>2.47</td>\n",
       "      <td>1.59</td>\n",
       "    </tr>\n",
       "    <tr>\n",
       "      <th>5060</th>\n",
       "      <td>2020-05-08</td>\n",
       "      <td>7649.35</td>\n",
       "      <td>7654.15</td>\n",
       "      <td>7542.80</td>\n",
       "      <td>7552.00</td>\n",
       "      <td>1.635030e+09</td>\n",
       "      <td>4.581223e+11</td>\n",
       "      <td>23.93</td>\n",
       "      <td>2.47</td>\n",
       "      <td>1.58</td>\n",
       "    </tr>\n",
       "  </tbody>\n",
       "</table>\n",
       "</div>"
      ],
      "text/plain": [
       "            Date     Open     High      Low    Close        Volume  \\\n",
       "5056  2020-05-04  7764.95  7765.80  7578.75  7596.90           NaN   \n",
       "5057  2020-05-05  7704.50  7727.75  7513.25  7523.05  1.839701e+09   \n",
       "5058  2020-05-06  7544.15  7620.80  7451.20  7575.50  2.096199e+09   \n",
       "5059  2020-05-07  7551.60  7592.45  7509.80  7520.85  1.629284e+09   \n",
       "5060  2020-05-08  7649.35  7654.15  7542.80  7552.00  1.635030e+09   \n",
       "\n",
       "          Turnover    P/E   P/B  Div Yield  \n",
       "5056           NaN  24.06  2.49       1.57  \n",
       "5057  4.587631e+11  23.83  2.47       1.59  \n",
       "5058  4.809224e+11  24.00  2.48       1.58  \n",
       "5059  7.345840e+11  23.82  2.47       1.59  \n",
       "5060  4.581223e+11  23.93  2.47       1.58  "
      ]
     },
     "execution_count": 4,
     "metadata": {},
     "output_type": "execute_result"
    }
   ],
   "source": [
    "df.tail()"
   ]
  },
  {
   "cell_type": "code",
   "execution_count": 5,
   "metadata": {},
   "outputs": [
    {
     "data": {
      "text/html": [
       "<div>\n",
       "<style scoped>\n",
       "    .dataframe tbody tr th:only-of-type {\n",
       "        vertical-align: middle;\n",
       "    }\n",
       "\n",
       "    .dataframe tbody tr th {\n",
       "        vertical-align: top;\n",
       "    }\n",
       "\n",
       "    .dataframe thead th {\n",
       "        text-align: right;\n",
       "    }\n",
       "</style>\n",
       "<table border=\"1\" class=\"dataframe\">\n",
       "  <thead>\n",
       "    <tr style=\"text-align: right;\">\n",
       "      <th></th>\n",
       "      <th>Date</th>\n",
       "      <th>Open</th>\n",
       "      <th>High</th>\n",
       "      <th>Low</th>\n",
       "      <th>Close</th>\n",
       "      <th>Volume</th>\n",
       "      <th>Turnover</th>\n",
       "      <th>P/E</th>\n",
       "      <th>P/B</th>\n",
       "      <th>Div Yield</th>\n",
       "    </tr>\n",
       "  </thead>\n",
       "  <tbody>\n",
       "  </tbody>\n",
       "</table>\n",
       "</div>"
      ],
      "text/plain": [
       "Empty DataFrame\n",
       "Columns: [Date, Open, High, Low, Close, Volume, Turnover, P/E, P/B, Div Yield]\n",
       "Index: []"
      ]
     },
     "execution_count": 5,
     "metadata": {},
     "output_type": "execute_result"
    }
   ],
   "source": [
    "df[df['Open']==0]"
   ]
  },
  {
   "cell_type": "code",
   "execution_count": 6,
   "metadata": {},
   "outputs": [
    {
     "data": {
      "text/html": [
       "<div>\n",
       "<style scoped>\n",
       "    .dataframe tbody tr th:only-of-type {\n",
       "        vertical-align: middle;\n",
       "    }\n",
       "\n",
       "    .dataframe tbody tr th {\n",
       "        vertical-align: top;\n",
       "    }\n",
       "\n",
       "    .dataframe thead th {\n",
       "        text-align: right;\n",
       "    }\n",
       "</style>\n",
       "<table border=\"1\" class=\"dataframe\">\n",
       "  <thead>\n",
       "    <tr style=\"text-align: right;\">\n",
       "      <th></th>\n",
       "      <th>Date</th>\n",
       "      <th>Open</th>\n",
       "      <th>High</th>\n",
       "      <th>Low</th>\n",
       "      <th>Close</th>\n",
       "      <th>Volume</th>\n",
       "      <th>Turnover</th>\n",
       "      <th>P/E</th>\n",
       "      <th>P/B</th>\n",
       "      <th>Div Yield</th>\n",
       "    </tr>\n",
       "  </thead>\n",
       "  <tbody>\n",
       "  </tbody>\n",
       "</table>\n",
       "</div>"
      ],
      "text/plain": [
       "Empty DataFrame\n",
       "Columns: [Date, Open, High, Low, Close, Volume, Turnover, P/E, P/B, Div Yield]\n",
       "Index: []"
      ]
     },
     "execution_count": 6,
     "metadata": {},
     "output_type": "execute_result"
    }
   ],
   "source": [
    "df[df['Close']==0]"
   ]
  },
  {
   "cell_type": "code",
   "execution_count": 7,
   "metadata": {},
   "outputs": [
    {
     "name": "stderr",
     "output_type": "stream",
     "text": [
      "C:\\anaconda\\anaconda3\\lib\\site-packages\\pandas\\core\\ops\\array_ops.py:253: FutureWarning: elementwise comparison failed; returning scalar instead, but in the future will perform elementwise comparison\n",
      "  res_values = method(rvalues)\n"
     ]
    },
    {
     "data": {
      "text/html": [
       "<div>\n",
       "<style scoped>\n",
       "    .dataframe tbody tr th:only-of-type {\n",
       "        vertical-align: middle;\n",
       "    }\n",
       "\n",
       "    .dataframe tbody tr th {\n",
       "        vertical-align: top;\n",
       "    }\n",
       "\n",
       "    .dataframe thead th {\n",
       "        text-align: right;\n",
       "    }\n",
       "</style>\n",
       "<table border=\"1\" class=\"dataframe\">\n",
       "  <thead>\n",
       "    <tr style=\"text-align: right;\">\n",
       "      <th></th>\n",
       "      <th>Date</th>\n",
       "      <th>Open</th>\n",
       "      <th>High</th>\n",
       "      <th>Low</th>\n",
       "      <th>Close</th>\n",
       "      <th>Volume</th>\n",
       "      <th>Turnover</th>\n",
       "      <th>P/E</th>\n",
       "      <th>P/B</th>\n",
       "      <th>Div Yield</th>\n",
       "    </tr>\n",
       "  </thead>\n",
       "  <tbody>\n",
       "  </tbody>\n",
       "</table>\n",
       "</div>"
      ],
      "text/plain": [
       "Empty DataFrame\n",
       "Columns: [Date, Open, High, Low, Close, Volume, Turnover, P/E, P/B, Div Yield]\n",
       "Index: []"
      ]
     },
     "execution_count": 7,
     "metadata": {},
     "output_type": "execute_result"
    }
   ],
   "source": [
    "df[df['Volume']=='NaN']"
   ]
  },
  {
   "cell_type": "code",
   "execution_count": 8,
   "metadata": {},
   "outputs": [],
   "source": [
    "open_max=df['Open'].max()\n",
    "#max opening value for a company on nifty 500"
   ]
  },
  {
   "cell_type": "code",
   "execution_count": 9,
   "metadata": {},
   "outputs": [],
   "source": [
    "open_min=df['Open'].min()\n",
    "#min opening value for a company on nifty 500"
   ]
  },
  {
   "cell_type": "code",
   "execution_count": 10,
   "metadata": {},
   "outputs": [
    {
     "data": {
      "text/html": [
       "<div>\n",
       "<style scoped>\n",
       "    .dataframe tbody tr th:only-of-type {\n",
       "        vertical-align: middle;\n",
       "    }\n",
       "\n",
       "    .dataframe tbody tr th {\n",
       "        vertical-align: top;\n",
       "    }\n",
       "\n",
       "    .dataframe thead th {\n",
       "        text-align: right;\n",
       "    }\n",
       "</style>\n",
       "<table border=\"1\" class=\"dataframe\">\n",
       "  <thead>\n",
       "    <tr style=\"text-align: right;\">\n",
       "      <th></th>\n",
       "      <th>Date</th>\n",
       "      <th>Open</th>\n",
       "      <th>High</th>\n",
       "      <th>Low</th>\n",
       "      <th>Close</th>\n",
       "      <th>Volume</th>\n",
       "      <th>Turnover</th>\n",
       "      <th>P/E</th>\n",
       "      <th>P/B</th>\n",
       "      <th>Div Yield</th>\n",
       "    </tr>\n",
       "  </thead>\n",
       "  <tbody>\n",
       "    <tr>\n",
       "      <th>4987</th>\n",
       "      <td>2020-01-20</td>\n",
       "      <td>10174.95</td>\n",
       "      <td>10174.95</td>\n",
       "      <td>10019.05</td>\n",
       "      <td>10025.7</td>\n",
       "      <td>1.570517e+09</td>\n",
       "      <td>3.484132e+11</td>\n",
       "      <td>30.97</td>\n",
       "      <td>3.42</td>\n",
       "      <td>1.19</td>\n",
       "    </tr>\n",
       "  </tbody>\n",
       "</table>\n",
       "</div>"
      ],
      "text/plain": [
       "            Date      Open      High       Low    Close        Volume  \\\n",
       "4987  2020-01-20  10174.95  10174.95  10019.05  10025.7  1.570517e+09   \n",
       "\n",
       "          Turnover    P/E   P/B  Div Yield  \n",
       "4987  3.484132e+11  30.97  3.42       1.19  "
      ]
     },
     "execution_count": 10,
     "metadata": {},
     "output_type": "execute_result"
    }
   ],
   "source": [
    "df[df['Open']==open_max]"
   ]
  },
  {
   "cell_type": "code",
   "execution_count": 11,
   "metadata": {},
   "outputs": [
    {
     "data": {
      "text/html": [
       "<div>\n",
       "<style scoped>\n",
       "    .dataframe tbody tr th:only-of-type {\n",
       "        vertical-align: middle;\n",
       "    }\n",
       "\n",
       "    .dataframe tbody tr th {\n",
       "        vertical-align: top;\n",
       "    }\n",
       "\n",
       "    .dataframe thead th {\n",
       "        text-align: right;\n",
       "    }\n",
       "</style>\n",
       "<table border=\"1\" class=\"dataframe\">\n",
       "  <thead>\n",
       "    <tr style=\"text-align: right;\">\n",
       "      <th></th>\n",
       "      <th>Date</th>\n",
       "      <th>Open</th>\n",
       "      <th>High</th>\n",
       "      <th>Low</th>\n",
       "      <th>Close</th>\n",
       "      <th>Volume</th>\n",
       "      <th>Turnover</th>\n",
       "      <th>P/E</th>\n",
       "      <th>P/B</th>\n",
       "      <th>Div Yield</th>\n",
       "    </tr>\n",
       "  </thead>\n",
       "  <tbody>\n",
       "    <tr>\n",
       "      <th>433</th>\n",
       "      <td>2001-09-24</td>\n",
       "      <td>547.75</td>\n",
       "      <td>563.2</td>\n",
       "      <td>547.75</td>\n",
       "      <td>560.6</td>\n",
       "      <td>78528398.0</td>\n",
       "      <td>1.481000e+10</td>\n",
       "      <td>11.9</td>\n",
       "      <td>1.32</td>\n",
       "      <td>2.51</td>\n",
       "    </tr>\n",
       "  </tbody>\n",
       "</table>\n",
       "</div>"
      ],
      "text/plain": [
       "           Date    Open   High     Low  Close      Volume      Turnover   P/E  \\\n",
       "433  2001-09-24  547.75  563.2  547.75  560.6  78528398.0  1.481000e+10  11.9   \n",
       "\n",
       "      P/B  Div Yield  \n",
       "433  1.32       2.51  "
      ]
     },
     "execution_count": 11,
     "metadata": {},
     "output_type": "execute_result"
    }
   ],
   "source": [
    "df[df['Open']==open_min]"
   ]
  },
  {
   "cell_type": "code",
   "execution_count": 12,
   "metadata": {},
   "outputs": [],
   "source": [
    "avg=df['Open'].mean()"
   ]
  },
  {
   "cell_type": "code",
   "execution_count": 13,
   "metadata": {},
   "outputs": [],
   "source": [
    "stdev=df['Open'].std()"
   ]
  },
  {
   "cell_type": "code",
   "execution_count": 14,
   "metadata": {},
   "outputs": [
    {
     "data": {
      "text/plain": [
       "<matplotlib.axes._subplots.AxesSubplot at 0x28acec507c8>"
      ]
     },
     "execution_count": 14,
     "metadata": {},
     "output_type": "execute_result"
    },
    {
     "data": {
      "image/png": "[encoded data removed]",
      "text/plain": [
       "<Figure size 864x432 with 1 Axes>"
      ]
     },
     "metadata": {
      "needs_background": "light"
     },
     "output_type": "display_data"
    }
   ],
   "source": [
    "df['Open'].plot(x=df['Date'],kind='line',figsize=(12,6))"
   ]
  },
  {
   "cell_type": "code",
   "execution_count": 15,
   "metadata": {},
   "outputs": [
    {
     "name": "stdout",
     "output_type": "stream",
     "text": [
      "[1205.7, 1292.5, 1335.35, 1321.35, 1306.55, 1276.5, 1283.65, 1236.7, 1278.45, 1263.1, 1262.25, 1269.85, 1267.2, 1293.35, 1284.1, 1311.4, 1312.6, 1319.1, 1337.5, 1360.0, 1316.35, 1335.85, 1376.4, 1407.75, 1428.85, 1438.55, 1438.45, 1469.85, 1509.5, 1551.5, 1543.9, 1541.7, 1575.8, 1633.4, 1653.9, 1707.05, 1674.95, 1612.7, 1614.75, 1557.1, 1559.0, 1486.95, 1563.55, 1582.9, 1531.6, 1552.3, 1531.85, 1524.15, 1472.35, 1446.15, 1388.7, 1370.0, 1371.65, 1327.2, 1298.25, 1335.1, 1332.85, 1362.35, 1372.05, 1386.15, 1396.35, 1357.15, 1322.95, 1287.8, 1196.7, 1195.15, 1205.55, 1285.0, 1343.95, 1355.25, 1332.0, 1275.2, 1196.35, 1159.55, 1127.35, 1123.1, 1080.65, 1066.05, 1118.8, 1087.45, 1069.15, 993.65, 969.65, 1023.15, 1066.05, 1018.7, 1042.4, 1014.15, 962.8, 925.6, 935.95, 940.55, 936.9, 927.1, 906.7, 868.75, 871.35, 876.9, 884.5, 887.55, 908.8, 945.75, 967.6, 949.35, 980.2, 1001.4, 1021.35, 1028.2, 1051.9, 1046.25, 1030.4, 1029.0, 1040.0, 1048.35, 1079.85, 1097.4, 1109.25, 1077.7, 1088.55, 1066.45, 1061.9, 1056.4, 1073.4, 1079.75, 1073.8, 1096.05, 1105.0, 1110.05, 1101.85, 1098.05, 1091.55, 1087.05, 1108.9, 1091.65, 1084.6, 1065.55, 1054.8, 1035.2, 1026.6, 1005.3, 939.35, 978.4, 949.15, 968.65, 965.45, 959.8, 951.95, 955.75, 943.05, 925.75, 921.8, 948.95, 957.3, 940.55, 932.05, 937.3, 964.75, 957.75, 972.7, 986.05, 993.6, 992.95, 1008.0, 1009.7, 1001.6, 1004.5, 1013.7, 1026.85, 1051.7, 1052.75, 1059.2, 1062.6, 1070.45, 1069.65, 1074.9, 1067.75, 1059.75, 1027.5, 980.6, 959.15, 978.6, 961.05, 915.0, 951.55, 928.95, 942.65, 923.0, 925.3, 927.35, 936.25, 924.75, 922.85, 905.25, 878.5, 858.0, 864.85, 840.4, 842.65, 825.3, 808.85, 841.55, 844.75, 817.95, 825.6, 851.05, 854.85, 854.15, 842.55, 853.15, 866.9, 879.55, 892.25, 889.6, 894.85, 913.0, 912.1, 892.7, 863.15, 891.25, 896.75, 892.3, 892.85, 898.9, 900.0, 888.15, 888.6, 894.8, 918.75, 925.4, 924.9, 920.9, 936.25, 933.9, 947.2, 954.9, 960.25, 973.8, 987.45, 987.6, 1006.55, 994.95, 958.8, 963.1, 951.8, 942.45, 929.4, 890.55, 865.35, 886.45, 899.0, 912.85, 907.75, 921.85, 929.1, 946.7, 962.75, 940.5, 944.45, 932.7, 919.65, 925.1, 923.85, 928.2, 928.3, 938.1, 963.55, 971.3, 973.9, 984.85, 985.55, 959.9, 989.95, 981.15, 965.95, 984.85, 990.85, 997.0, 989.55, 1008.8, 1016.8, 1019.6, 1008.45, 1008.65, 1022.2, 993.05, 996.15, 993.55, 982.0, 968.0, 965.2, 942.05, 913.35, 941.75, 950.65, 896.3, 897.6, 894.25, 856.0, 840.0, 762.9, 739.15, 776.4, 797.85, 790.0, 788.4, 772.65, 793.2, 786.4, 760.45, 761.3, 785.0, 786.0, 778.6, 733.05, 734.95, 735.9, 753.75, 733.4, 733.1, 721.9, 682.25, 660.55, 677.5, 699.7, 750.0, 758.3, 752.6, 750.65, 765.05, 777.35, 735.7, 725.75, 756.75, 754.8, 744.7, 764.6, 768.0, 781.55, 766.05, 764.4, 761.55, 761.75, 766.9, 775.55, 789.5, 787.6, 790.65, 790.9, 798.4, 803.2, 799.35, 812.4, 816.05, 790.35, 791.95, 781.95, 758.25, 755.55, 755.5, 755.2, 764.2, 762.05, 766.3, 763.9, 748.6, 733.1, 730.9, 740.7, 736.35, 733.95, 717.1, 694.6, 718.05, 719.2, 718.7, 727.75, 710.75, 702.45, 705.15, 694.55, 689.05, 695.45, 698.6, 708.95, 729.8, 719.4, 713.65, 718.05, 713.0, 713.55, 702.45, 695.8, 693.35, 688.55, 681.25, 681.25, 687.9, 697.3, 694.2, 698.45, 701.1, 702.1, 693.65, 694.4, 695.05, 692.95, 688.1, 694.8, 699.4, 689.55, 689.9, 690.4, 693.4, 698.0, 699.1, 694.85, 695.05, 695.1, 686.85, 679.4, 678.65, 675.8, 665.65, 669.05, 668.15, 626.3, 639.2, 632.5, 576.6, 555.65, 578.2, 570.7, 555.15, 547.75, 569.65, 554.35, 565.35, 568.65, 584.2, 579.9, 576.25, 577.05, 567.25, 573.4, 581.25, 600.2, 605.9, 602.3, 606.1, 619.4, 619.65, 616.2, 623.05, 629.2, 637.3, 634.55, 633.65, 622.6, 615.25, 627.25, 636.55, 635.85, 638.3, 647.8, 637.55, 644.75, 647.55, 650.3, 647.85, 656.3, 673.25, 691.9, 682.2, 689.7, 697.05, 698.7, 720.55, 709.95, 701.0, 702.6, 706.55, 726.35, 748.35, 740.95, 745.0, 740.7, 742.1, 740.05, 726.45, 729.65, 720.05, 700.95, 698.45, 686.0, 694.7, 683.3, 670.1, 686.35, 704.45, 699.75, 708.75, 718.7, 730.85, 733.95, 738.1, 721.95, 717.1, 719.9, 729.55, 726.05, 713.2, 735.6, 720.0, 724.05, 722.25, 725.05, 719.2, 716.4, 711.1, 706.1, 709.15, 718.7, 724.2, 718.9, 731.05, 761.75, 748.9, 768.4, 771.95, 768.1, 776.0, 785.05, 794.0, 796.4, 778.7, 780.5, 778.2, 788.5, 790.4, 808.2, 804.2, 771.2, 805.3, 804.7, 799.7, 800.5, 809.3, 806.7, 791.95, 777.35, 784.25, 788.65, 799.3, 798.75, 787.1, 785.95, 782.6, 777.6, 770.3, 775.5, 780.4, 786.75, 781.9, 781.1, 796.55, 796.95, 790.3, 786.4, 797.5, 797.5, 803.45, 791.15, 790.75, 792.25, 791.15, 773.65, 773.85, 782.7, 782.8, 773.8, 773.4, 763.75, 776.35, 777.6, 779.2, 782.95, 793.35, 797.15, 798.35, 792.0, 796.25, 794.25, 784.85, 774.15, 773.6, 751.85, 732.65, 737.05, 739.15, 764.15, 755.6, 744.15, 748.85, 743.65, 743.85, 750.9, 763.15, 775.2, 762.9, 759.65, 776.3, 790.7, 795.05, 787.9, 798.95, 801.3, 787.45, 773.4, 776.75, 774.2, 774.1, 770.2, 764.95, 775.4, 775.7, 783.45, 783.15, 786.95, 790.65, 797.3, 798.75, 797.9, 787.55, 784.2, 784.2, 781.9, 770.05, 768.5, 770.4, 761.2, 746.3, 753.7, 755.85, 742.0, 726.45, 723.1, 702.4, 711.9, 697.45, 711.2, 710.9, 722.95, 719.85, 709.7, 711.65, 718.8, 720.55, 724.5, 727.7, 728.4, 733.7, 736.25, 730.75, 731.0, 741.25, 728.75, 726.35, 726.3, 743.25, 742.9, 729.55, 740.85, 738.35, 723.3, 719.75, 721.55, 722.15, 721.95, 710.3, 709.05, 706.95, 692.65, 698.95, 696.35, 692.0, 700.2, 699.4, 700.1, 689.5, 685.9, 683.95, 687.35, 697.05, 701.05, 694.85, 702.9, 708.4, 711.5, 704.7, 708.35, 709.55, 709.1, 694.2, 692.1, 684.4, 676.65, 671.6, 683.05, 687.35, 695.95, 698.8, 699.95, 698.35, 693.8, 696.75, 693.8, 698.35, 700.1, 702.9, 707.05, 710.15, 714.05, 716.9, 719.45, 729.8, 731.2, 735.7, 740.75, 745.45, 759.3, 742.8, 739.7, 758.2, 770.55, 749.1, 761.7, 758.7, 764.35, 773.35, 768.2, 761.05, 761.6, 762.85, 765.85, 762.95, 770.15, 775.05, 767.5, 771.65, 774.95, 779.2, 781.65, 775.1, 774.35, 773.6, 776.3, 783.5, 771.75, 768.9, 773.95, 775.65, 778.85, 777.9, 778.05, 778.85, 777.95, 773.8, 759.35, 745.35, 752.0, 752.65, 746.65, 752.0, 756.15, 753.15, 752.25, 763.55, 758.55, 755.2, 751.65, 747.0, 750.75, 759.3, 754.9, 761.65, 762.55, 765.45, 765.7, 758.7, 751.75, 763.85, 767.95, 760.6, 751.0, 747.5, 735.95, 729.25, 717.05, 727.9, 722.85, 715.3, 715.75, 718.15, 730.7, 736.95, 738.15, 716.55, 723.05, 720.55, 717.35, 711.4, 701.2, 708.35, 721.2, 725.0, 735.35, 739.65, 737.85, 727.65, 702.8, 703.95, 702.0, 698.6, 696.95, 701.2, 703.95, 695.05, 691.7, 688.5, 697.65, 695.4, 698.9, 709.25, 712.85, 717.95, 716.35, 710.95, 712.9, 717.45, 723.2, 732.25, 742.4, 750.6, 743.05, 758.9, 759.65, 766.65, 773.9, 786.1, 782.65, 788.2, 798.3, 806.95, 812.0, 813.65, 828.1, 828.6, 832.7, 834.75, 824.35, 832.4, 841.25, 841.05, 844.7, 859.8, 867.25, 866.95, 877.1, 858.65, 868.0, 881.25, 884.15, 891.3, 897.85, 895.25, 905.6, 908.75, 915.75, 923.65, 914.65, 911.9, 915.3, 923.25, 927.95, 914.35, 928.8, 906.75, 907.9, 880.85, 887.65, 892.1, 905.05, 922.75, 923.3, 930.95, 940.9, 942.85, 945.35, 964.15, 941.0, 944.2, 971.1, 983.5, 1006.25, 1002.65, 1007.7, 1010.0, 1044.0, 1033.05, 1034.9, 1050.95, 1066.2, 1025.7, 1062.75, 1091.55, 1094.75, 1106.0, 1129.9, 1127.5, 1109.2, 1110.75, 1136.15, 1153.75, 1137.2, 1141.15, 1150.45, 1118.05, 1075.3, 1108.6, 1073.65, 1050.55, 1055.7, 1034.95, 1069.8, 1093.2, 1091.9, 1113.05, 1134.8, 1140.2, 1151.45, 1171.65, 1196.15, 1191.5, 1192.6, 1210.95, 1214.4, 1242.15, 1206.75, 1223.2, 1232.1, 1236.55, 1215.25, 1189.15, 1172.4, 1161.8, 1197.0, 1199.6, 1176.1, 1172.35, 1178.85, 1188.15, 1226.4, 1247.95, 1261.85, 1269.35, 1276.6, 1257.2, 1275.65, 1285.4, 1294.5, 1261.4, 1236.95, 1251.7, 1264.95, 1250.55, 1236.7, 1214.45, 1228.8, 1239.85, 1256.7, 1274.45, 1299.6, 1323.35, 1321.65, 1330.65, 1347.8, 1320.75, 1330.85, 1361.4, 1373.75, 1385.75, 1394.25, 1396.3, 1401.85, 1404.3, 1435.05, 1453.35, 1473.6, 1465.2, 1478.95, 1509.4, 1538.75, 1529.4, 1542.45, 1574.65, 1624.4, 1620.3, 1585.75, 1596.05, 1666.95, 1634.75, 1606.0, 1617.9, 1632.25, 1595.65, 1562.65, 1592.6, 1541.15, 1478.85, 1448.8, 1514.2, 1544.75, 1510.9, 1504.25, 1460.5, 1403.6, 1441.4, 1446.25, 1479.5, 1507.0, 1508.2, 1520.55, 1512.65, 1540.15, 1536.1, 1542.45, 1545.35, 1492.7, 1504.4, 1450.15, 1462.1, 1441.1, 1429.3, 1448.75, 1489.65, 1492.9, 1486.4, 1517.0, 1532.1, 1512.95, 1494.1, 1466.05, 1486.2, 1422.85, 1441.55, 1438.2, 1417.4, 1418.7, 1379.95, 1385.35, 1388.45, 1406.75, 1426.6, 1447.95, 1436.25, 1457.95, 1498.05, 1514.2, 1535.5, 1524.0, 1518.7, 1541.9, 1535.7, 1560.5, 1561.95, 1567.05, 1569.45, 1544.6, 1538.55, 1574.4, 1593.8, 1562.2, 1520.3, 1518.4, 1519.55, 1508.2, 1497.15, 1517.85, 1539.7, 1541.9, 1500.95, 1474.15, 1422.75, 1381.45, 1438.15, 1283.35, 1180.9, 1276.9, 1318.7, 1280.7, 1318.9, 1334.2, 1343.7, 1321.95, 1307.1, 1223.9, 1245.5, 1248.5, 1292.75, 1232.15, 1274.55, 1283.25, 1283.7, 1279.8, 1283.8, 1249.25, 1230.85, 1264.2, 1240.65, 1244.4, 1238.2, 1223.85, 1222.9, 1191.4, 1209.6, 1226.75, 1250.25, 1260.4, 1252.45, 1259.4, 1267.5, 1261.2, 1281.5, 1293.75, 1214.65, 1273.15, 1287.7, 1275.15, 1256.8, 1276.75, 1297.05, 1303.85, 1306.2, 1327.15, 1331.55, 1325.2, 1347.7, 1330.25, 1321.5, 1341.25, 1357.35, 1364.3, 1354.15, 1355.65, 1377.1, 1352.75, 1371.25, 1377.4, 1345.85, 1336.3, 1331.4, 1338.2, 1335.45, 1331.7, 1340.85, 1325.3, 1316.95, 1332.2, 1340.75, 1352.2, 1356.2, 1373.5, 1382.55, 1383.8, 1380.8, 1384.0, 1396.4, 1404.05, 1411.0, 1398.9, 1414.55, 1420.15, 1424.75, 1419.5, 1445.55, 1462.85, 1457.3, 1476.3, 1472.35, 1452.55, 1460.95, 1457.9, 1454.75, 1476.5, 1478.8, 1512.3, 1522.45, 1532.3, 1521.05, 1532.5, 1536.15, 1544.4, 1530.1, 1504.0, 1510.4, 1513.85, 1510.4, 1518.3, 1507.55, 1498.3, 1473.85, 1494.15, 1512.5, 1516.7, 1504.05, 1511.2, 1532.75, 1555.65, 1555.15, 1568.5, 1572.55, 1568.1, 1581.5, 1584.95, 1580.85, 1586.5, 1600.5, 1606.2, 1578.05, 1591.5, 1611.55, 1619.35, 1614.75, 1657.0, 1661.55, 1671.05, 1697.3, 1701.55, 1690.85, 1702.2, 1685.6, 1694.3, 1681.6, 1698.1, 1715.55, 1731.95, 1740.05, 1725.9, 1748.95, 1763.65, 1753.15, 1772.4, 1769.6, 1780.2, 1802.55, 1794.8, 1789.85, 1818.55, 1838.35, 1822.45, 1768.95, 1743.9, 1761.35, 1739.25, 1706.6, 1679.0, 1704.6, 1693.3, 1689.3, 1688.35, 1679.4, 1671.4, 1651.3, 1681.35, 1700.55, 1749.75, 1769.45, 1778.7, 1778.9, 1810.9, 1806.6, 1788.1, 1798.05, 1808.25, 1805.35, 1825.5, 1830.35, 1822.35, 1800.3, 1801.0, 1800.25, 1781.15, 1793.55, 1802.35, 1809.95, 1801.95, 1825.05, 1817.65, 1825.9, 1863.65, 1875.75, 1888.2, 1894.6, 1882.5, 1896.5, 1876.9, 1874.5, 1864.3, 1854.5, 1837.05, 1845.0, 1829.45, 1791.7, 1766.95, 1760.15, 1764.2, 1728.7, 1745.1, 1786.2, 1809.95, 1808.35, 1798.3, 1819.5, 1802.2, 1782.9, 1765.0, 1781.75, 1771.7, 1698.25, 1714.5, 1696.1, 1696.65, 1738.55, 1740.45, 1747.6, 1739.55, 1722.35, 1716.75, 1698.5, 1696.85, 1700.8, 1732.45, 1742.3, 1754.15, 1771.65, 1763.25, 1760.3, 1766.6, 1772.75, 1789.75, 1760.75, 1778.75, 1772.35, 1777.5, 1796.25, 1789.0, 1809.45, 1829.9, 1830.05, 1819.6, 1836.75, 1840.15, 1823.7, 1844.85, 1848.0, 1853.55, 1861.6, 1871.15, 1870.7, 1856.55, 1862.8, 1865.3, 1879.95, 1866.7, 1871.25, 1864.55, 1882.35, 1893.1, 1881.95, 1898.55, 1906.95, 1880.8, 1897.35, 1900.85, 1913.1, 1933.75, 1928.75, 1940.5, 1917.05, 1932.25, 1941.9, 1956.35, 1948.95, 1944.7, 1968.85, 1985.85, 1991.4, 1998.75, 1970.75, 2017.15, 2032.25, 2029.35, 2013.5, 2027.5, 2042.5, 2086.75, 2083.95, 2090.5, 2093.4, 2061.8, 2062.2, 2095.9, 2109.5, 2097.3, 2102.75, 2132.9, 2122.7, 2117.95, 2105.15, 2067.35, 2059.0, 2086.35, 2091.3, 2085.45, 2111.6, 2134.55, 2145.85, 2153.5, 2160.95, 2167.3, 2181.95, 2186.95, 2208.4, 2220.5, 2218.5, 2244.75, 2262.8, 2274.25, 2277.6, 2258.65, 2183.55, 2195.75, 2246.25, 2261.3, 2289.55, 2284.1, 2282.5, 2300.05, 2331.35, 2284.9, 2268.35, 2272.9, 2266.85, 2254.4, 2229.15, 2189.6, 2178.4, 2141.45, 2112.75, 2092.95, 2131.85, 2105.5, 2110.05, 2098.2, 2052.8, 2035.9, 2096.65, 2084.55, 2111.55, 2151.1, 2178.6, 2174.75, 2189.95, 2235.6, 2236.5, 2231.9, 2265.85, 2267.3, 2248.4, 2237.8, 2269.45, 2275.25, 2306.4, 2327.8, 2345.95, 2345.55, 2314.05, 2358.45, 2354.2, 2322.8, 2321.5, 2348.0, 2355.15, 2393.9, 2403.65, 2432.05, 2437.3, 2413.1, 2431.6, 2455.4, 2452.75, 2454.75, 2462.1, 2418.2, 2369.45, 2426.55, 2429.55, 2442.05, 2465.15, 2471.8, 2514.55, 2527.65, 2534.3, 2547.65, 2540.25, 2491.75, 2506.6, 2502.7, 2493.65, 2452.45, 2472.95, 2515.0, 2516.2, 2532.0, 2543.0, 2557.95, 2598.6, 2580.3, 2593.0, 2573.8, 2553.2, 2553.55, 2599.1, 2600.5, 2612.95, 2624.1, 2642.55, 2636.3, 2633.55, 2637.85, 2594.1, 2608.15, 2625.6, 2642.5, 2648.25, 2646.95, 2673.75, 2655.0, 2715.1, 2730.9, 2731.5, 2763.7, 2769.95, 2719.55, 2744.25, 2776.95, 2788.0, 2785.25, 2802.3, 2807.95, 2809.8, 2805.4, 2802.0, 2803.95, 2828.1, 2861.3, 2854.95, 2875.35, 2903.65, 2918.6, 2988.55, 3008.1, 3048.95, 2983.75, 2996.1, 2927.2, 2924.5, 2973.7, 3030.95, 3032.75, 3049.3, 3036.6, 3024.1, 2967.4, 3048.9, 2911.45, 3037.4, 3093.7, 3100.15, 3139.0, 3140.15, 3166.8, 3177.95, 3194.9, 3223.15, 3137.5, 3120.15, 3010.9, 3054.8, 3061.1, 2960.3, 2794.7, 2612.6, 2736.55, 2625.3, 2724.0, 2725.2, 2747.65, 2636.35, 2665.75, 2554.35, 2627.5, 2488.95, 2463.2, 2354.55, 2236.8, 2372.85, 2246.8, 2226.25, 2213.5, 2362.0, 2394.25, 2397.1, 2384.55, 2491.75, 2486.95, 2558.25, 2546.3, 2453.1, 2413.15, 2486.5, 2512.85, 2580.55, 2593.4, 2565.3, 2587.65, 2610.05, 2536.3, 2572.45, 2539.8, 2600.55, 2546.3, 2545.5, 2481.5, 2468.4, 2449.0, 2437.45, 2366.45, 2431.45, 2468.4, 2537.05, 2551.75, 2575.9, 2553.95, 2556.6, 2605.35, 2607.85, 2576.8, 2584.4, 2611.65, 2657.5, 2687.2, 2711.6, 2763.2, 2790.65, 2767.1, 2768.4, 2780.05, 2774.4, 2731.0, 2792.75, 2794.35, 2826.85, 2837.2, 2840.5, 2810.55, 2846.35, 2873.8, 2876.7, 2867.25, 2874.85, 2894.35, 2800.45, 2855.15, 2898.0, 2896.35, 2913.85, 2920.7, 2856.75, 2929.4, 2929.85, 2942.15, 2935.1, 2970.85, 2971.35, 2978.05, 2994.55, 2994.35, 2951.15, 3005.9, 2988.05, 3019.9, 3026.6, 2996.7, 3063.05, 3078.0, 3101.75, 3076.3, 3088.5, 3065.85, 3076.1, 3075.9, 3053.4, 3082.85, 3109.1, 3143.4, 3130.9, 3131.25, 3156.8, 3165.05, 3196.1, 3170.65, 3156.55, 3164.75, 3195.55, 3233.6, 3233.8, 3230.1, 3243.6, 3174.95, 3204.45, 3259.35, 3281.35, 3282.65, 3294.75, 3274.15, 3288.6, 3297.4, 3298.3, 3333.45, 3354.4, 3344.95, 3333.4, 3336.2, 3294.3, 3181.7, 3081.45, 3147.05, 3233.3, 3255.7, 3239.75, 3206.5, 3152.85, 3180.45, 3215.9, 3278.25, 3307.7, 3295.0, 3299.9, 3335.3, 3353.35, 3328.55, 3312.6, 3299.95, 3262.1, 3210.8, 3306.95, 3393.3, 3395.55, 3397.1, 3410.7, 3435.2, 3412.1, 3399.3, 3383.5, 3405.3, 3434.35, 3433.0, 3411.55, 3448.7, 3466.75, 3491.15, 3479.0, 3500.7, 3500.0, 3427.15, 3317.1, 3266.9, 3362.65, 3412.8, 3421.35, 3370.35, 3373.2, 3335.75, 3247.4, 3255.1, 3059.35, 3118.75, 3141.7, 2999.3, 3011.45, 3031.0, 2980.2, 3093.05, 3058.35, 3074.7, 3029.9, 3055.35, 3034.35, 3010.15, 3065.7, 3078.8, 3141.8, 3179.4, 3170.35, 3117.85, 3105.25, 3123.35, 3067.3, 3027.25, 3059.3, 3086.35, 3120.1, 3182.3, 3191.0, 3160.6, 3186.9, 3253.5, 3312.35, 3299.5, 3264.15, 3327.35, 3379.25, 3342.2, 3393.15, 3447.35, 3410.25, 3336.05, 3421.0, 3442.5, 3439.8, 3396.2, 3373.2, 3399.75, 3322.45, 3427.3, 3424.95, 3435.15, 3497.8, 3497.35, 3516.5, 3546.5, 3559.2, 3525.95, 3462.3, 3555.2, 3552.7, 3561.7, 3553.35, 3586.0, 3595.85, 3558.15, 3572.5, 3490.55, 3449.15, 3484.8, 3469.95, 3456.6, 3462.2, 3491.55, 3500.75, 3470.9, 3543.85, 3567.3, 3581.85, 3575.35, 3573.55, 3599.4, 3593.35, 3600.65, 3630.0, 3645.95, 3683.4, 3677.15, 3653.2, 3690.5, 3712.4, 3681.2, 3710.8, 3771.9, 3790.0, 3815.8, 3779.45, 3789.0, 3842.5, 3813.95, 3879.05, 3834.9, 3830.05, 3812.55, 3710.65, 3740.15, 3739.3, 3644.9, 3660.6, 3628.85, 3689.0, 3687.75, 3783.2, 3571.4, 3662.3, 3668.75, 3563.35, 3479.75, 3550.1, 3537.3, 3433.05, 3506.4, 3436.05, 3519.95, 3577.45, 3528.7, 3663.0, 3662.75, 3730.6, 3764.1, 3774.7, 3734.5, 3807.8, 3744.8, 3810.6, 3801.8, 3805.55, 3846.1, 3816.15, 3787.55, 3917.5, 3976.35, 3983.55, 4073.45, 4114.8, 4129.1, 4163.95, 4172.25, 4206.7, 4278.8, 4151.2, 4287.4, 4159.25, 3996.15, 4269.0, 4295.3, 4128.0, 4054.2, 4257.65, 4274.4, 4292.4, 4236.55, 4148.05, 4035.95, 3974.2, 3838.45, 3908.1, 4133.0, 3980.0, 3807.0, 3754.8, 3623.5, 3779.85, 3681.3, 3736.85, 3883.9, 3841.25, 3884.9, 3953.35, 3860.15, 3929.6, 3842.6, 3842.45, 3777.55, 3830.5, 3783.3, 3834.15, 3866.25, 3841.85, 3986.6, 4005.15, 4069.3, 4075.8, 4140.6, 4111.0, 4102.4, 4185.2, 4162.65, 4253.9, 4290.95, 4298.3, 4260.0, 4217.9, 4151.9, 4131.2, 4038.95, 4101.4, 4022.1, 4103.85, 4190.9, 4170.5, 4119.6, 4166.55, 4122.9, 3987.45, 4004.55, 3959.2, 4021.0, 3973.25, 3987.85, 3810.4, 3837.5, 3724.75, 3816.75, 3661.7, 3588.6, 3587.65, 3533.3, 3659.3, 3677.8, 3680.85, 3770.5, 3648.45, 3644.25, 3471.8, 3423.15, 3306.0, 3429.95, 3374.2, 3296.85, 3204.4, 3085.55, 3174.6, 3102.0, 3216.6, 3108.05, 3275.1, 3307.4, 3346.9, 3206.95, 3151.25, 3099.9, 3136.35, 3168.75, 3265.15, 3288.9, 3503.35, 3595.15, 3446.75, 3460.7, 3408.05, 3400.0, 3461.9, 3432.6, 3512.25, 3530.4, 3666.45, 3608.05, 3609.45, 3691.6, 3721.3, 3627.25, 3626.85, 3525.9, 3495.75, 3523.3, 3527.45, 3413.0, 3513.7, 3437.0, 3483.7, 3436.25, 3438.5, 3455.2, 3496.55, 3561.95, 3494.25, 3613.3, 3556.5, 3532.1, 3478.5, 3457.1, 3274.85, 3135.0, 3249.65, 3017.5, 3241.05, 3343.45, 3259.35, 3254.8, 3261.6, 3205.3, 3115.0, 2914.6, 3084.0, 3049.45, 2941.4, 2873.45, 2683.65, 2573.35, 2559.55, 2763.7, 2633.6, 2473.6, 2549.55, 2422.0, 2438.2, 2446.65, 2284.75, 2237.8, 2013.3, 2063.5, 2150.35, 2160.3, 2318.8, 2323.25, 2489.7, 2261.8, 2253.3, 2351.0, 2410.15, 2269.35, 2296.55, 2217.3, 2123.7, 2110.1, 1983.5, 2015.65, 2056.4, 2123.55, 2051.65, 2061.95, 2099.5, 1990.2, 2051.25, 2045.45, 2123.45, 2087.2, 2146.2, 2216.85, 2149.75, 2269.0, 2277.3, 2362.2, 2269.35, 2343.3, 2370.0, 2326.85, 2281.6, 2275.5, 2212.1, 2280.45, 2318.45, 2305.95, 2379.65, 2410.4, 2428.35, 2445.75, 2222.0, 2205.45, 2146.65, 2168.4, 2141.25, 2158.9, 2190.2, 2161.4, 2138.4, 2133.3, 2097.5, 2097.35, 2147.0, 2203.3, 2150.85, 2185.45, 2154.0, 2160.55, 2157.45, 2158.75, 2192.55, 2239.7, 2211.35, 2232.35, 2236.95, 2257.65, 2166.8, 2118.5, 2150.25, 2120.05, 2071.65, 2116.5, 2108.55, 2115.35, 2070.05, 2049.8, 2026.55, 2039.6, 1960.45, 1993.65, 1992.85, 2021.55, 2073.7, 2114.85, 2128.8, 2148.2, 2134.6, 2169.85, 2254.95, 2224.65, 2280.25, 2310.7, 2299.5, 2270.55, 2282.1, 2390.2, 2486.75, 2404.35, 2558.25, 2564.25, 2556.4, 2707.1, 2623.25, 2628.35, 2580.45, 2630.4, 2596.05, 2650.4, 2671.15, 2675.2, 2621.8, 2707.45, 2786.2, 2805.7, 2809.35, 2831.4, 2822.65, 2738.7, 2836.6, 2735.15, 2813.65, 3197.95, 3354.85, 3277.45, 3336.85, 3314.85, 3379.0, 3414.15, 3369.05, 3460.65, 3516.95, 3649.85, 3689.4, 3671.2, 3619.95, 3737.4, 3728.5, 3537.8, 3717.5, 3743.3, 3741.25, 3639.1, 3545.2, 3634.8, 3500.2, 3449.45, 3474.45, 3367.95, 3451.45, 3484.8, 3464.1, 3534.75, 3582.45, 3486.1, 3529.9, 3498.6, 3583.9, 3384.7, 3356.9, 3303.05, 3317.65, 3202.8, 3256.35, 3351.75, 3489.25, 3480.4, 3591.35, 3618.9, 3625.2, 3589.0, 3678.05, 3694.85, 3727.95, 3711.3, 3680.8, 3760.6, 3778.05, 3816.6, 3824.8, 3816.05, 3709.25, 3685.25, 3620.1, 3606.3, 3701.5, 3762.5, 3713.35, 3620.95, 3673.85, 3654.8, 3627.85, 3748.75, 3758.45, 3813.3, 3809.6, 3843.6, 3819.05, 3871.0, 3779.1, 3819.45, 3803.9, 3875.6, 3954.95, 3925.4, 3958.4, 3941.5, 3900.65, 3939.65, 4002.45, 4042.05, 4015.6, 4058.6, 4070.6, 3991.05, 4017.3, 4078.3, 4085.1, 4128.5, 4084.4, 4065.45, 4083.45, 4074.75, 4080.75, 4045.8, 4132.45, 4186.65, 4171.2, 4215.75, 4231.55, 4189.8, 4141.6, 4140.8, 4114.3, 4035.8, 3941.65, 3885.0, 3950.4, 3837.0, 3768.55, 3833.8, 3940.2, 3976.5, 4061.55, 4043.2, 4124.6, 4078.95, 4152.35, 4158.9, 4155.95, 4165.45, 4092.85, 4166.85, 4185.9, 4181.4, 4184.7, 4033.05, 4132.6, 4176.15, 4247.5, 4245.8, 4224.2, 4243.95, 4209.65, 4234.1, 4242.85, 4291.2, 4241.2, 4243.2, 4169.15, 4177.25, 4174.15, 4159.3, 4154.6, 4189.0, 4300.0, 4254.55, 4283.55, 4239.85, 4173.2, 4095.9, 4130.45, 4238.45, 4173.3, 4206.55, 4029.65, 4059.05, 4066.65, 4069.45, 4129.8, 4109.35, 4136.4, 4111.8, 4173.75, 4163.9, 4105.65, 4151.2, 4079.1, 4072.95, 4094.85, 4088.1, 4170.35, 4210.6, 4248.0, 4283.3, 4280.65, 4248.65, 4248.85, 4262.05, 4237.45, 4234.65, 4298.25, 4273.35, 4274.5, 4283.9, 4216.4, 4266.7, 4192.1, 4229.25, 4298.1, 4254.1, 4287.6, 4282.05, 4192.1, 4208.95, 4179.2, 4144.05, 4052.3, 4159.95, 4066.4, 4050.25, 4064.6, 4171.6, 4188.9, 4221.7, 4163.75, 4240.15, 4259.75, 4165.45, 4188.4, 4154.55, 4191.75, 4268.55, 4268.65, 4245.0, 4174.2, 4160.95, 4257.05, 4233.25, 4241.4, 4273.9, 4275.65, 4283.95, 4253.6, 4293.8, 4242.6, 4150.2, 4057.2, 4175.8, 4164.3, 4195.55, 4150.55, 4078.55, 4093.25, 3947.65, 3924.95, 3984.8, 4002.25, 3984.1, 3929.6, 3883.6, 4006.95, 4097.9, 4048.15, 4050.15, 4101.95, 4154.25, 4168.5, 4055.9, 4027.75, 4020.4, 4078.9, 4123.1, 4096.3, 4077.9, 4150.5, 4107.45, 3966.8, 3957.95, 3953.35, 4028.95, 3975.6, 4011.25, 3940.85, 3888.85, 3854.3, 3894.4, 3913.35, 3999.85, 4001.9, 4085.7, 4047.15, 4103.75, 4046.45, 4046.6, 4064.95, 4065.35, 4059.95, 4068.05, 4114.15, 4195.25, 4228.7, 4189.75, 4148.3, 4162.25, 4212.1, 4205.55, 4214.1, 4113.85, 4127.05, 4065.2, 3991.85, 3963.75, 3875.35, 3851.65, 3787.6, 3782.7, 3720.8, 3749.15, 3774.6, 3846.65, 3782.85, 3886.95, 3880.85, 3954.75, 3963.8, 3956.9, 3843.95, 3852.75, 3734.15, 3760.6, 3709.0, 3723.6, 3632.45, 3616.25, 3594.4, 3610.25, 3690.55, 3662.85, 3704.55, 3683.3, 3630.6, 3615.1, 3606.4, 3623.85, 3706.05, 3694.7, 3682.05, 3695.65, 3698.05, 3717.1, 3792.8, 3794.6, 3814.1, 3815.25, 3849.95, 3905.75, 3903.45, 3946.45, 3940.0, 3962.85, 4030.05, 4083.65, 4062.95, 4016.5, 4082.25, 4137.4, 4149.9, 4217.75, 4255.0, 4203.9, 4219.2, 4265.55, 4258.55, 4259.55, 4294.8, 4181.15, 4285.65, 4265.05, 4260.0, 4254.8, 4246.85, 4187.6, 4143.0, 4187.15, 4286.25, 4282.6, 4275.75, 4236.7, 4177.05, 4192.9, 4268.8, 4180.15, 4200.15, 4163.5, 4162.25, 4102.4, 4139.65, 4222.2, 4266.25, 4266.7, 4240.05, 4204.75, 4177.9, 4190.3, 4205.1, 4160.35, 4208.75, 4249.05, 4253.25, 4249.8, 4219.0, 4163.2, 4163.7, 4153.2, 4133.25, 4141.75, 4143.15, 4182.0, 4155.75, 4116.5, 4012.3, 4075.4, 3974.65, 3968.85, 3944.65, 3931.35, 3885.65, 3895.15, 3882.75, 3837.95, 3887.7, 3931.6, 3859.95, 3864.25, 3896.35, 3917.15, 3972.05, 3946.65, 3893.7, 3905.7, 3827.3, 3862.65, 3875.55, 3980.4, 3993.35, 4026.95, 3976.55, 4041.9, 4034.75, 4000.5, 4067.05, 3983.2, 4022.4, 4024.85, 4038.9, 4070.75, 4040.8, 4069.3, 4073.8, 4098.6, 4173.6, 4192.35, 4209.15, 4210.1, 4235.55, 4205.6, 4190.45, 4219.05, 4173.9, 4168.85, 4159.65, 4151.9, 4126.3, 4158.5, 4152.0, 4111.3, 4074.95, 4073.65, 4071.7, 4048.9, 4044.95, 4112.55, 4121.9, 4137.65, 4121.0, 4154.25, 4179.65, 4211.0, 4207.4, 4181.95, 4184.75, 4210.4, 4237.7, 4225.9, 4225.05, 4243.8, 4256.8, 4235.35, 4226.65, 4193.7, 4181.45, 4132.95, 4153.6, 4140.0, 4125.6, 4131.6, 4110.8, 4165.4, 4196.6, 4212.6, 4202.6, 4242.65, 4262.5, 4217.8, 4208.45, 4279.1, 4286.75, 4214.55, 4109.75, 4202.25, 4052.95, 4152.05, 4203.95, 4163.3, 4022.8, 4068.5, 4134.7, 4182.65, 4253.85, 4104.1, 4234.15, 4281.6]\n",
      "\n",
      "\n",
      "\n",
      "[4311.2, 4354.35, 4335.55, 4413.25, 4470.0, 4482.1, 4478.55, 4633.6, 4576.6, 4373.7, 4329.2, 4521.5, 4495.65, 4566.65, 4705.35, 4831.8, 4772.35, 4859.7, 4675.75, 4800.75, 4837.75, 4818.6, 4652.15, 4739.45, 4570.9, 4643.45, 4833.8, 4915.5, 4870.65, 4977.6, 4949.35, 4882.05, 4704.75, 4669.45, 4793.1, 4793.5, 4817.65, 4841.25, 4795.0, 4895.85, 4996.0, 5028.45, 5142.5, 5143.6, 5118.6, 5143.4, 5130.4, 5288.0, 5217.45, 5217.1, 4997.55, 5035.5, 4996.55, 5042.2, 5163.55, 5264.3, 5203.55, 5337.8, 5370.35, 5407.65, 5412.95, 5488.75, 5443.05, 5543.15, 5454.85, 5455.05, 5355.0, 5365.0, 5393.7, 5195.25, 5187.6, 5103.55, 4834.0, 4383.3, 4532.15, 4404.8, 4560.65, 4494.4, 4399.0, 4404.1, 4555.95, 4569.2, 4448.1, 4515.8, 4365.35, 4462.7, 4470.2, 4394.1, 4379.75, 4332.25, 4377.65, 4462.85, 4400.05, 4385.0, 4313.45, 4318.05, 4334.4, 4343.1, 4406.5, 4430.05, 4431.0, 4415.5, 4439.8, 4442.2, 4364.35, 4440.45, 4468.3, 4462.3, 4506.65, 4499.95, 4436.9, 4308.7, 4312.35, 4316.25, 4300.5, 4305.4, 4314.3, 4341.4, 4328.2, 4337.2, 4372.35, 4417.05, 4424.1, 4419.75, 4397.85, 4426.1, 4397.0, 4418.15, 4345.55, 4310.0, 4340.0, 4337.0, 4360.0, 4383.9, 4382.3, 4323.55, 4329.5, 4365.15, 4346.25, 4359.05, 4306.95, 4330.6, 4326.55, 4351.2, 4374.85, 4370.85, 4355.1, 4382.9, 4363.45, 4387.65, 4416.05, 4352.2, 4391.95, 4392.15, 4381.0, 4382.15, 4417.05, 4423.15, 4448.95, 4470.5, 4470.15, 4528.1, 4481.95, 4473.5, 4472.35, 4509.75, 4483.35, 4492.65, 4554.9, 4534.45, 4505.05, 4520.0, 4489.1, 4476.6, 4501.8, 4540.2, 4543.6, 4562.7, 4542.6, 4549.8, 4580.95, 4563.0, 4503.0, 4563.3, 4585.7, 4556.0, 4577.5, 4617.3, 4619.3, 4641.7, 4663.7, 4617.8, 4597.35, 4589.65, 4598.15, 4542.4, 4561.6, 4631.15, 4624.35, 4655.1, 4702.15, 4689.55, 4740.25, 4765.85, 4823.6, 4840.15, 4860.55, 4846.5, 4894.85, 4947.25, 4945.6, 4921.1, 4890.45, 4969.3, 4961.5, 4987.6, 4930.1, 4945.4, 5052.15, 5039.85, 5100.65, 5104.65, 5076.65, 5075.9, 5065.05, 5047.55, 5146.4, 5100.5, 5026.2, 5022.8, 4961.9, 4960.75, 5042.4, 5038.0, 5052.7, 5027.55, 5001.65, 4980.75, 5013.8, 5058.4, 5078.2, 5117.9, 5192.75, 5209.5, 5178.55, 5199.2, 5192.0, 5112.95, 5016.8, 5054.75, 4983.9, 4946.85, 4867.3, 4915.8, 4883.65, 4829.0, 4758.65, 4698.3, 4726.35, 4785.95, 4910.4, 4917.15, 4898.2, 4868.7, 4831.9, 4785.7, 4636.1, 4727.15, 4777.2, 4801.65, 4770.3, 4782.9, 4800.1, 4844.85, 4839.5, 4799.35, 4840.85, 4831.85, 4832.6, 4874.65, 4906.4, 4964.5, 4975.6, 4954.35, 4918.05, 4855.5, 4748.95, 4639.05, 4650.15, 4703.0, 4639.95, 4563.6, 4568.9, 4605.65, 4564.65, 4587.0, 4604.0, 4639.7, 4610.3, 4519.35, 4394.85, 4441.85, 4380.85, 4361.5, 4426.15, 4358.4, 4352.05, 4372.2, 4377.2, 4402.3, 4446.1, 4364.0, 4395.4, 4354.25, 4323.05, 4367.75, 4428.1, 4377.05, 4348.15, 4402.45, 4396.1, 4361.25, 4338.8, 4338.5, 4349.15, 4355.9, 4362.65, 4317.65, 4303.6, 4325.15, 4385.2, 4442.85, 4488.4, 4517.95, 4559.65, 4606.9, 4627.15, 4648.75, 4715.65, 4721.75, 4716.8, 4728.0, 4664.6, 4622.55, 4723.55, 4679.75, 4601.95, 4642.4, 4711.65, 4697.85, 4709.7, 4713.45, 4697.5, 4648.85, 4624.75, 4567.35, 4473.35, 4445.65, 4400.25, 4473.35, 4466.35, 4461.45, 4465.9, 4427.95, 4469.0, 4434.55, 4400.95, 4390.2, 4384.3, 4395.85, 4337.45, 4344.1, 4330.8, 4355.65, 4419.4, 4431.9, 4493.45, 4484.1, 4490.85, 4451.15, 4453.15, 4478.6, 4471.5, 4466.7, 4434.2, 4445.9, 4457.3, 4407.9, 4393.2, 4360.95, 4375.95, 4451.35, 4465.85, 4499.9, 4554.5, 4550.3, 4554.2, 4532.05, 4539.55, 4610.9, 4548.0, 4491.1, 4467.9, 4499.55, 4527.25, 4515.0, 4511.25, 4554.15, 4491.35, 4494.9, 4544.2, 4582.2, 4512.2, 4461.95, 4440.15, 4448.85, 4428.05, 4363.45, 4363.5, 4313.9, 4371.45, 4414.5, 4412.8, 4449.0, 4332.4, 4320.65, 4351.15, 4342.2, 4311.6, 4378.9, 4378.95, 4355.95, 4371.85, 4456.55, 4454.35, 4448.95, 4463.75, 4478.3, 4505.3, 4528.1, 4551.15, 4595.15, 4550.65, 4517.85, 4504.25, 4483.7, 4509.05, 4505.1, 4522.25, 4499.2, 4497.05, 4526.35, 4499.95, 4527.55, 4508.75, 4505.95, 4480.85, 4469.85, 4423.4, 4443.4, 4502.8, 4507.5, 4505.45, 4525.15, 4530.3, 4544.7, 4509.95, 4522.7, 4508.6, 4493.45, 4453.05, 4456.2, 4434.65, 4466.3, 4476.1, 4486.45, 4506.3, 4567.8, 4638.3, 4674.55, 4682.8, 4711.4, 4726.65, 4742.1, 4729.3, 4740.4, 4727.0, 4716.85, 4671.55, 4688.2, 4702.7, 4739.65, 4757.75, 4730.35, 4698.75, 4700.25, 4745.5, 4716.05, 4734.35, 4761.8, 4804.15, 4831.65, 4837.15, 4858.65, 4828.7, 4840.65, 4831.25, 4833.6, 4787.0, 4844.35, 4854.7, 4807.3, 4842.85, 4855.9, 4854.9, 4824.95, 4809.95, 4766.9, 4820.7, 4812.7, 4803.35, 4791.5, 4798.9, 4790.7, 4737.4, 4751.15, 4725.2, 4707.9, 4691.85, 4675.9, 4701.85, 4688.5, 4634.8, 4647.95, 4660.75, 4712.0, 4679.4, 4613.75, 4633.4, 4602.25, 4550.45, 4589.25, 4483.0, 4491.35, 4483.65, 4557.1, 4560.8, 4613.0, 4661.0, 4662.65, 4620.4, 4582.15, 4629.15, 4566.95, 4586.1, 4497.75, 4452.65, 4413.95, 4436.1, 4379.0, 4397.85, 4449.35, 4460.9, 4504.0, 4433.2, 4373.6, 4365.65, 4379.15, 4349.1, 4393.65, 4343.65, 4338.55, 4368.65, 4471.2, 4457.7, 4531.75, 4581.05, 4586.15, 4615.95, 4595.55, 4640.05, 4630.4, 4692.1, 4659.55, 4694.7, 4751.7, 4760.0, 4735.6, 4765.1, 4773.9, 4694.8, 4718.55, 4799.8, 4832.75, 4854.95, 4819.05, 4798.3, 4737.3, 4695.4, 4690.45, 4759.0, 4781.75, 4745.1, 4759.2, 4688.6, 4662.0, 4644.35, 4634.55, 4640.7, 4638.75, 4582.7, 4516.0, 4464.05, 4480.85, 4533.9, 4553.05, 4534.95, 4504.65, 4415.25, 4400.8, 4356.45, 4365.5, 4377.0, 4441.35, 4509.35, 4564.65, 4511.2, 4490.55, 4555.45, 4511.15, 4518.9, 4548.6, 4562.3, 4626.05, 4619.55, 4586.15, 4609.1, 4606.15, 4661.8, 4618.65, 4652.9, 4629.4, 4574.15, 4552.1, 4496.3, 4462.5, 4376.95, 4402.7, 4369.35, 4320.15, 4305.15, 4372.5, 4365.6, 4361.05, 4458.9, 4503.7, 4433.1, 4507.15, 4429.95, 4457.55, 4576.0, 4622.35, 4516.3, 4459.8, 4490.05, 4476.75, 4497.65, 4433.85, 4405.0, 4448.0, 4499.35, 4505.9, 4569.15, 4512.3, 4589.8, 4661.35, 4651.45, 4689.9, 4646.45, 4628.5, 4715.55, 4723.95, 4746.1, 4715.35, 4705.35, 4699.5, 4660.4, 4751.05, 4755.45, 4798.4, 4843.2, 4815.85, 4813.1, 4794.2, 4741.6, 4710.0, 4686.8, 4623.65, 4648.3, 4706.9, 4764.75, 4762.45, 4702.65, 4653.25, 4661.35, 4706.35, 4683.0, 4704.55, 4717.15, 4770.85, 4796.2, 4787.65, 4836.5, 4811.9, 4938.75, 4893.4, 4857.7, 4834.8, 4785.6, 4759.05, 4774.8, 4743.45, 4834.7, 4788.6, 4857.75, 4888.15, 4880.6, 4900.45, 4931.3, 4914.2, 4928.8, 4922.5, 4830.15, 4858.85, 4854.65, 4832.9, 4839.4, 4828.4, 4825.1, 4861.3, 4867.15, 4913.2, 4883.45, 4840.3, 4889.9, 4884.05, 4894.25, 4875.25, 4780.95, 4723.25, 4746.05, 4680.9, 4685.3, 4690.15, 4609.8, 4656.35, 4680.55, 4711.15, 4709.45, 4705.0, 4717.15, 4715.45, 4664.4, 4685.15, 4689.65, 4735.3, 4733.1, 4728.15, 4755.3, 4797.6, 4796.9, 4814.45, 4842.3, 4815.2, 4896.2, 4913.75, 4971.05, 5010.35, 5048.65, 5017.05, 5016.6, 4977.45, 5031.6, 5047.7, 5032.85, 5037.55, 5036.8, 5049.9, 5071.05, 5121.9, 5121.65, 5170.5, 5224.45, 5244.15, 5261.7, 5281.6, 5257.3, 5236.3, 5254.7, 5322.25, 5302.4, 5330.25, 5275.0, 5246.3, 5321.45, 5354.3, 5352.8, 5372.8, 5327.55, 5330.05, 5294.8, 5271.05, 5253.75, 5275.4, 5269.5, 5246.3, 5232.25, 5380.25, 5526.8, 5569.25, 5588.9, 5689.3, 5711.85, 5804.9, 5799.9, 5828.7, 5872.85, 5976.85, 5888.4, 5853.3, 5855.85, 5813.95, 5829.1, 5926.2, 5960.95, 5979.2, 6078.05, 6164.55, 6218.3, 6207.2, 6161.7, 6184.45, 6050.0, 6051.25, 6146.25, 6103.05, 6066.45, 6044.4, 6054.2, 6123.05, 6107.8, 6083.3, 6102.4, 6192.0, 6240.1, 6289.9, 6273.05, 6319.8, 6336.45, 6159.2, 6105.95, 6116.0, 5993.65, 6020.25, 6096.15, 6140.55, 6167.45, 6213.05, 6219.55, 6272.95, 6263.9, 6278.75, 6231.55, 6196.1, 6227.4, 6146.55, 6138.2, 6192.3, 6210.4, 6160.3, 6104.05, 6113.95, 6158.6, 6177.7, 6178.25, 6208.9, 6316.2, 6342.2, 6324.9, 6351.85, 6366.0, 6311.25, 6352.1, 6363.75, 6388.1, 6447.8, 6506.5, 6515.6, 6506.6, 6537.6, 6574.65, 6562.45, 6558.4, 6559.8, 6547.25, 6538.6, 6445.25, 6426.8, 6574.45, 6532.55, 6577.7, 6463.3, 6438.7, 6319.85, 6403.95, 6399.05, 6413.2, 6369.35, 6308.7, 6348.65, 6377.95, 6307.7, 6380.2, 6317.2, 6221.9, 6346.95, 6355.5, 6431.4, 6468.25, 6498.75, 6444.0, 6500.65, 6510.35, 6598.05, 6705.25, 6726.6, 6717.45, 6728.2, 6739.15, 6767.8, 6797.55, 6758.95, 6781.55, 6835.8, 6850.85, 6815.15, 6813.05, 6863.6, 6882.85, 6799.4, 6825.95, 6864.15, 6931.5, 6882.75, 6903.25, 6968.0, 6975.75, 6941.9, 6855.2, 6751.6, 6784.4, 6756.1, 6632.4, 6630.25, 6501.8, 6579.1, 6684.15, 6690.85, 6748.35, 6706.95, 6672.15, 6688.75, 6730.65, 6730.5, 6767.6, 6792.4, 6877.35, 6817.65, 6653.65, 6715.35, 6798.45, 6790.6, 6835.25, 6810.2, 6897.15, 6945.1, 6988.3, 7013.15, 7100.5, 7111.65, 7176.0, 7197.75, 7224.75, 7234.4, 7293.25, 7164.6, 7196.75, 7164.8, 7116.8, 7070.05, 6973.35, 6889.25, 6990.45, 7071.15, 7134.1, 7200.6, 7182.2, 7245.55, 7250.75, 7233.35, 7162.55, 7177.45, 7154.75, 7111.1, 7262.7, 7281.85, 7309.5, 7426.8, 7287.8, 7267.15, 7184.4, 7156.15, 7158.85, 7253.75, 7111.05, 7122.1, 7172.65, 7189.55, 7096.2, 7045.8, 6991.7, 7005.25, 6934.2, 6889.1, 6889.35, 7001.7, 6975.8, 7087.05, 7148.85, 7176.7, 7229.9, 7236.0, 7266.15, 7299.55, 7233.85, 7180.4, 7104.65, 6943.5, 6928.3, 6978.35, 6931.55, 6846.7, 6720.65, 6793.7, 6771.05, 6790.8, 6880.65, 6869.95, 6667.5, 6676.15, 6771.35, 6842.6, 6733.3, 6778.5, 6813.1, 6845.85, 6901.7, 6933.8, 6956.2, 6951.35, 6953.25, 6919.5, 6858.55, 6895.35, 6878.5, 6947.7, 6966.5, 6798.4, 6719.55, 6693.25, 6710.25, 6617.8, 6617.75, 6721.85, 6562.05, 6584.7, 6598.25, 6657.55, 6698.65, 6770.35, 6813.35, 6909.3, 6926.9, 6871.35, 6913.25, 6792.9, 6844.2, 6908.6, 6992.55, 6984.65, 6922.9, 7052.65, 6993.65, 6947.7, 6948.9, 6964.15, 7030.65, 7030.85, 7086.0, 7154.25, 7161.5, 7151.65, 7058.6, 7164.4, 7131.0, 7055.7, 6968.15, 6960.15, 7008.75, 7045.7, 7099.75, 7150.2, 7166.75, 7203.3, 7200.2, 7197.3, 7179.2, 7086.75, 7017.85, 7015.8, 7125.5, 7126.35, 7108.3, 7111.85, 6955.9, 6753.45, 6567.55, 6560.15, 6622.45, 6738.8, 6700.1, 6617.0, 6577.65, 6523.45, 6548.45, 6444.8, 6344.85, 6501.75, 6447.4, 6544.7, 6536.2, 6583.65, 6589.7, 6628.15, 6586.8, 6680.3, 6468.15, 6553.5, 6595.35, 6465.1, 6614.0, 6685.65, 6700.8, 6835.95, 6817.65, 6850.4, 6840.1, 6861.4, 6794.55, 6782.5, 6810.75, 6850.55, 6891.05, 6916.95, 6908.8, 6944.1, 6943.55, 6863.0, 6843.55, 6833.1, 6796.05, 6747.4, 6771.95, 6790.1, 6734.8, 6663.4, 6516.2, 6618.0, 6585.65, 6540.25, 6506.6, 6586.4, 6574.8, 6551.35, 6599.0, 6630.3, 6610.15, 6618.5, 6667.9, 6686.55, 6707.55, 6731.35, 6680.0, 6612.8, 6615.25, 6556.6, 6510.0, 6451.7, 6499.3, 6389.7, 6467.1, 6524.9, 6565.6, 6611.35, 6563.65, 6629.75, 6630.3, 6672.6, 6663.45, 6707.65, 6715.8, 6690.65, 6723.1, 6729.5, 6659.85, 6645.05, 6550.4, 6483.95, 6434.0, 6471.0, 6445.65, 6334.8, 6400.9, 6247.2, 6172.45, 6163.2, 6171.2, 6157.7, 6259.8, 6263.25, 6235.05, 6228.05, 6367.35, 6351.6, 6198.55, 6213.25, 6201.45, 6277.75, 6146.0, 6100.8, 6042.4, 5878.8, 5903.8, 6028.05, 5897.9, 5986.85, 5973.35, 6007.15, 6031.6, 5906.5, 5871.5, 5870.55, 5869.85, 5866.65, 6095.3, 6183.9, 6242.6, 6242.4, 6208.2, 6289.1, 6242.6, 6287.3, 6282.7, 6221.1, 6287.05, 6273.0, 6336.7, 6406.8, 6421.2, 6441.0, 6329.2, 6366.05, 6437.1, 6438.4, 6465.95, 6462.9, 6381.95, 6391.75, 6327.1, 6363.55, 6433.7, 6524.65, 6610.9, 6663.25, 6675.4, 6621.85, 6627.0, 6577.2, 6660.45, 6680.0, 6583.55, 6569.55, 6597.15, 6515.65, 6503.15, 6488.45, 6525.55, 6610.4, 6549.65, 6611.9, 6628.45, 6595.55, 6638.0, 6600.1, 6626.25, 6555.65, 6560.55, 6502.65, 6547.35, 6655.3, 6739.2, 6811.15, 6842.65, 6820.0, 6802.85, 6871.85, 6853.35, 6859.2, 6899.05, 6908.3, 6846.05, 6778.25, 6804.6, 6819.15, 6851.05, 6851.25, 6798.2, 6906.65, 6885.9, 6871.8, 6722.25, 6743.7, 6811.5, 6874.35, 6951.85, 7003.9, 7067.05, 7078.45, 7058.85, 7062.25, 7111.65, 7179.5, 7208.9, 7178.4, 7223.6, 7214.3, 7169.25, 7174.0, 7241.85, 7197.0, 7222.55, 7309.1, 7282.5, 7315.7, 7344.5, 7350.25, 7346.15, 7321.55, 7281.7, 7289.55, 7391.3, 7411.9, 7377.6, 7277.65, 7301.0, 7350.6, 7341.25, 7364.65, 7408.15, 7400.6, 7363.85, 7372.95, 7404.1, 7363.3, 7344.6, 7393.0, 7473.9, 7498.25, 7491.5, 7540.8, 7638.15, 7610.55, 7634.5, 7459.7, 7423.4, 7471.0, 7499.1, 7500.1, 7522.9, 7504.65, 7570.4, 7587.7, 7540.95, 7503.5, 7478.25, 7555.7, 7326.6, 7443.15, 7560.6, 7599.4, 7588.85, 7552.4, 7559.5, 7508.3, 7437.9, 7464.15, 7416.15, 7533.65, 7539.35, 7550.0, 7559.0, 7561.05, 7519.3, 7467.15, 7464.55, 7528.65, 7525.25, 7433.55, 7382.75, 7359.7, 7360.75, 7366.35, 6924.95, 7358.05, 7280.45, 7120.9, 7002.0, 6928.45, 6920.55, 6934.35, 6811.75, 6881.2, 6863.25, 6873.9, 6940.0, 6993.5, 7030.25, 7099.6, 7005.5, 6951.8, 7007.15, 7026.6, 7015.8, 7111.75, 7083.1, 7040.5, 7053.9, 6957.45, 7009.4, 6973.05, 6948.9, 6929.75, 6883.4, 6814.05, 6800.2, 6730.9, 6849.45, 6846.8, 6931.85, 7007.4, 7019.0, 7042.25, 7063.15, 7119.05, 7099.55, 7108.35, 7163.9, 7225.35, 7268.95, 7224.0, 7255.7, 7252.25, 7271.95, 7267.1, 7191.4, 7259.8, 7338.9, 7426.85, 7451.7, 7453.8, 7390.55, 7525.45, 7555.7, 7610.8, 7637.55, 7615.15, 7636.3, 7651.9, 7655.3, 7640.6, 7597.4, 7543.3, 7672.8, 7640.1, 7704.4, 7745.1, 7741.6, 7733.3, 7713.4, 7733.3, 7787.95, 7679.1, 7716.15, 7758.75, 7740.95, 7704.05, 7732.5, 7844.3, 7842.15, 7893.5, 7967.7, 7944.9, 7927.5, 7849.65, 7852.05, 7900.5, 7899.75, 7895.3, 7935.65, 7950.0, 7975.05, 8028.55, 8077.85, 8081.5, 8064.05, 8070.45, 8056.55, 8115.2, 8080.7, 8044.0, 8065.1, 8008.4, 8036.25, 8099.95, 8075.2, 8183.6, 8244.7, 8241.95, 8226.4, 8244.7, 8259.55, 8263.85, 8277.7, 8216.95, 8246.3, 8266.65, 8354.65, 8343.15, 8329.75, 8367.25, 8402.0, 8334.3, 8318.2, 8304.9, 8242.8, 8178.35, 8130.7, 8238.95, 8315.7, 8286.0, 8344.25, 8343.85, 8403.95, 8418.65, 8457.45, 8420.1, 8451.75, 8427.15, 8439.0, 8415.75, 8421.05, 8420.85, 8416.55, 8446.95, 8467.3, 8451.55, 8455.9, 8435.6, 8372.35, 8286.7, 8308.4, 8280.1, 8380.0, 8442.9, 8419.4, 8470.25, 8480.15, 8521.15, 8580.0, 8564.3, 8620.55, 8664.3, 8659.7, 8605.4, 8617.95, 8678.05, 8663.85, 8687.9, 8735.2, 8727.35, 8783.3, 8715.75, 8767.05, 8815.25, 8831.5, 8788.35, 8722.7, 8789.85, 8820.85, 8709.1, 8603.7, 8395.4, 8479.45, 8575.0, 8674.15, 8607.05, 8618.5, 8558.95, 8536.65, 8610.2, 8646.3, 8648.7, 8628.45, 8683.4, 8717.05, 8763.75, 8723.0, 8703.3, 8766.2, 8785.7, 8789.3, 8854.85, 8900.75, 8894.75, 8864.0, 8932.9, 8967.8, 8970.35, 8942.0, 8886.7, 8737.85, 8641.1, 8700.35, 8529.15, 8597.8, 8689.75, 8687.8, 8721.75, 8729.95, 8799.8, 8823.45, 8865.75, 8818.6, 8916.65, 8974.25, 8988.75, 8991.65, 8992.95, 8961.95, 9002.7, 9089.5, 9067.2, 9128.85, 9137.55, 9173.95, 9203.95, 9243.3, 9272.1, 9254.3, 9303.15, 9183.9, 9169.65, 9144.75, 9163.05, 9085.7, 9039.85, 9005.1, 9161.8, 9143.5, 9192.05, 9210.85, 9212.35, 9226.75, 9228.2, 9266.3, 9265.5, 9220.35, 9191.45, 9106.7, 9052.45, 9034.85, 9005.75, 9136.6, 9232.25, 9237.15, 9155.85, 9135.25, 9217.8, 9162.55, 9300.85, 9386.65, 9391.3, 9408.75, 9452.0, 9478.15, 9450.25, 9456.8, 9500.2, 9474.1, 9455.55, 9468.1, 9536.75, 9608.15, 9661.1, 9655.75, 9635.9, 9681.85, 9700.95, 9720.1, 9612.1, 9761.1, 9658.4, 9721.45, 9816.4, 9865.7, 9866.85, 9829.0, 9809.95, 9716.7, 9717.3, 9606.1, 9254.55, 8985.8, 9300.15, 9246.05, 9167.0, 9314.3, 9397.8, 9360.45, 9369.25, 9265.0, 9171.2, 9205.1, 9133.9, 9165.45, 9291.05, 9360.9, 9244.5, 9254.4, 9202.1, 9191.45, 9025.1, 8992.4, 9032.55, 9053.7, 9102.7, 9126.9, 9151.35, 9127.8, 9026.4, 8854.0, 8970.85, 8961.95, 8765.65, 8795.05, 8968.35, 8940.2, 8949.45, 9004.9, 9105.5, 9069.05, 9148.45, 9179.2, 9237.8, 9242.3, 9226.45, 9276.65, 9205.05, 9339.4, 9359.1, 9345.65, 9349.2, 9366.8, 9375.95, 9387.45, 9368.75, 9412.95, 9464.0, 9531.6, 9442.1, 9402.5, 9371.7, 9451.9, 9401.2, 9444.65, 9385.8, 9425.25, 9391.1, 9324.7, 9359.15, 9298.95, 9221.1, 9110.65, 9136.65, 9098.75, 9135.05, 9256.8, 9309.95, 9220.8, 9299.4, 9317.8, 9308.3, 9176.65, 9114.2, 9244.7, 9275.2, 9334.45, 9355.65, 9421.0, 9372.3, 9358.35, 9350.65, 9305.4, 9255.0, 9305.05, 9241.15, 9297.65, 9217.05, 9246.5, 9119.85, 9065.9, 9185.2, 9113.85, 9158.8, 9207.6, 9160.7, 9250.4, 9321.45, 9362.6, 9392.75, 9406.0, 9350.1, 9232.55, 9359.5, 9284.85, 9238.6, 9301.7, 9385.95, 9466.95, 9455.85, 9537.0, 9598.5, 9615.1, 9661.7, 9642.1, 9631.4, 9723.05, 9740.65, 9723.8, 9779.35, 9776.7, 9673.0, 9678.7, 9696.9, 9730.85, 9800.8, 9862.9, 9900.05, 9860.9, 9893.45, 9990.25, 9995.1, 9979.35, 9978.25, 10049.85, 9933.0, 9795.7, 9801.95, 9834.55, 9862.8, 9770.9, 9641.65, 9724.2, 9754.6, 9701.3, 9633.9, 9585.1, 9445.2, 9238.3, 9367.6, 9319.8, 9230.1, 9107.0, 9147.25, 8963.7, 8793.2, 8611.35, 8635.85, 8590.45, 8501.4, 8649.3, 8815.15, 8849.25, 8982.55, 8676.5, 8717.25, 8502.6, 8585.9, 8476.1, 8473.2, 8457.5, 8607.4, 8617.4, 8798.3, 8844.1, 8904.25, 8902.75, 8938.7, 8947.6, 8967.8, 8834.55, 8967.25, 8926.55, 8975.55, 9031.8, 9033.2, 8973.9, 8952.45, 8913.95, 8938.3, 9001.3, 9051.85, 9107.8, 9153.6, 9125.2, 9075.05, 8975.4, 8917.35, 8789.75, 8655.1, 8882.2, 9078.75, 9072.45, 9127.55, 9126.5, 9203.05, 9188.35, 9236.55, 9100.9, 8977.95, 9110.85, 9111.95, 9194.65, 9186.7, 9169.7, 9106.65, 9034.25, 9117.2, 9090.8, 9143.2, 9132.8, 9130.7, 9102.4, 9082.5, 9167.45, 9182.0, 9173.2, 9150.6, 9146.3, 9138.75, 9080.25, 9085.6, 8999.3, 8865.3, 8913.45, 8916.4, 9024.95, 9045.0, 9039.7, 9056.9, 9125.5, 9112.7, 9026.1, 8961.9, 8955.35, 8878.85, 8887.55, 8836.0, 8753.7, 8781.4, 8857.5, 8899.6, 8941.15, 8899.0, 8991.8, 8990.35, 8995.45, 9042.9, 9211.8, 9251.65, 9213.3, 9240.8, 9399.6, 9461.25, 9481.85, 9473.85, 9536.05, 9549.75, 9587.5, 9572.35, 9446.85, 9431.9, 9552.2, 9518.7, 9647.75, 9703.0, 9735.05, 9742.35, 9674.0, 9659.65, 9715.45, 9641.9, 9661.55, 9630.15, 9646.6, 9697.65, 9751.35, 9826.45, 9715.95, 9614.85, 9607.4, 9697.8, 9661.1, 9684.8, 9646.4, 9637.5, 9544.95, 9573.3, 9433.1, 9313.55, 9309.35, 9274.05, 9156.0, 9247.15, 9176.5, 9224.75, 9538.3, 9701.0, 9595.6, 9730.0, 9618.75, 9732.65, 9834.95, 9802.4, 9762.8, 9855.55, 9827.75, 9898.0, 9889.55, 9736.05, 9784.45, 9791.9, 9801.95, 9727.15, 9742.8, 9681.9, 9547.5, 9592.15, 9501.55, 9641.15, 9585.95, 9548.65, 9611.95, 9694.55, 9707.45, 9697.0, 9734.75, 9762.85, 9767.8, 9793.65, 9619.4, 9428.05, 9443.65, 9447.15, 9480.05, 9499.25, 9473.85, 9535.25, 9534.15, 9484.55, 9282.6, 9265.85, 9228.8, 9173.75, 9156.0, 9205.35, 9123.65, 8963.3, 9001.7, 8890.5, 8866.9, 8792.65, 8928.6, 8888.45, 9022.5, 9066.35, 8942.0, 8971.65, 9022.6, 9004.75, 8957.85, 8851.35, 8687.45, 8933.05, 9004.0, 9023.8, 8938.05, 8936.45, 8927.9, 8798.75, 8848.0, 8873.75, 8914.7, 8992.7, 9036.95, 8992.65, 8992.15, 9010.55, 8898.95, 8884.5, 8799.45, 9425.4, 9489.1, 9458.05, 9365.5, 9435.55, 9384.65, 9372.7, 9207.15, 9253.1, 9104.5, 9059.1, 9153.5, 9132.4, 9187.7, 9208.7, 9282.95, 9286.65, 9391.85, 9481.05, 9457.25, 9501.35, 9478.45, 9493.7, 9490.1, 9666.6, 9686.4, 9703.1, 9736.75, 9757.75, 9694.85, 9768.9, 9753.25, 9665.65, 9698.1, 9648.85, 9676.95, 9685.85, 9692.2, 9748.4, 9768.05, 9715.05, 9688.85, 9833.6, 9787.3, 9838.45, 9871.1, 9863.1, 9814.75, 9722.25, 9801.1, 9781.9, 9682.0, 9680.55, 9605.6, 9666.5, 9732.35, 9815.25, 9776.45, 9854.75, 9866.15, 9899.5, 9882.95, 9905.35, 9871.45, 9852.15, 9931.6, 9921.5, 9897.95, 9903.25, 9966.8, 9896.45, 9814.45, 9708.7, 9894.05, 9985.0, 10012.8, 10051.2, 10070.0, 10099.95, 10096.4, 10174.95, 10001.85, 10029.55, 9961.8, 10019.95, 10046.45, 10023.5, 10006.95, 10025.35, 9968.4, 9844.9, 9578.5, 9711.95, 9880.15, 9979.65, 10019.45, 10008.75, 10004.05, 10020.6, 10049.85, 10031.25, 9976.15, 9876.7, 9921.3, 9969.9, 9904.5, 9796.45, 9680.1, 9612.4, 9372.7, 9380.4, 9251.4, 9362.9, 9305.55, 8997.05, 8862.7, 8556.1, 8272.4, 7425.05, 7867.0, 7642.35, 7512.3, 6676.85, 6833.65, 6522.8, 6421.0, 6299.75, 6826.05, 7230.55, 6810.5, 6938.05, 6995.55, 6831.65, 6913.5, 7090.4, 7335.2, 7450.2, 7503.0, 7297.8, 7665.4, 7712.2, 7436.5, 7421.85, 7575.55, 7519.6, 7578.0, 7690.55, 7702.6, 7947.15, 7764.95, 7704.5, 7544.15, 7551.6, 7649.35]\n"
     ]
    }
   ],
   "source": [
    "arr1=[]\n",
    "arr2=[]\n",
    "for item in df['Open']:\n",
    "    if (item<=df['Open'].mean()):\n",
    "        arr1.append(item)\n",
    "    else:\n",
    "        arr2.append(item)\n",
    "print(arr1)\n",
    "print('\\n\\n')\n",
    "print(arr2)\n",
    "        "
   ]
  },
  {
   "cell_type": "code",
   "execution_count": 16,
   "metadata": {},
   "outputs": [
    {
     "data": {
      "text/html": [
       "<div>\n",
       "<style scoped>\n",
       "    .dataframe tbody tr th:only-of-type {\n",
       "        vertical-align: middle;\n",
       "    }\n",
       "\n",
       "    .dataframe tbody tr th {\n",
       "        vertical-align: top;\n",
       "    }\n",
       "\n",
       "    .dataframe thead th {\n",
       "        text-align: right;\n",
       "    }\n",
       "</style>\n",
       "<table border=\"1\" class=\"dataframe\">\n",
       "  <thead>\n",
       "    <tr style=\"text-align: right;\">\n",
       "      <th></th>\n",
       "      <th>open_low_vals</th>\n",
       "    </tr>\n",
       "  </thead>\n",
       "  <tbody>\n",
       "    <tr>\n",
       "      <th>0</th>\n",
       "      <td>1205.70</td>\n",
       "    </tr>\n",
       "    <tr>\n",
       "      <th>1</th>\n",
       "      <td>1292.50</td>\n",
       "    </tr>\n",
       "    <tr>\n",
       "      <th>2</th>\n",
       "      <td>1335.35</td>\n",
       "    </tr>\n",
       "    <tr>\n",
       "      <th>3</th>\n",
       "      <td>1321.35</td>\n",
       "    </tr>\n",
       "    <tr>\n",
       "      <th>4</th>\n",
       "      <td>1306.55</td>\n",
       "    </tr>\n",
       "    <tr>\n",
       "      <th>...</th>\n",
       "      <td>...</td>\n",
       "    </tr>\n",
       "    <tr>\n",
       "      <th>2761</th>\n",
       "      <td>4182.65</td>\n",
       "    </tr>\n",
       "    <tr>\n",
       "      <th>2762</th>\n",
       "      <td>4253.85</td>\n",
       "    </tr>\n",
       "    <tr>\n",
       "      <th>2763</th>\n",
       "      <td>4104.10</td>\n",
       "    </tr>\n",
       "    <tr>\n",
       "      <th>2764</th>\n",
       "      <td>4234.15</td>\n",
       "    </tr>\n",
       "    <tr>\n",
       "      <th>2765</th>\n",
       "      <td>4281.60</td>\n",
       "    </tr>\n",
       "  </tbody>\n",
       "</table>\n",
       "<p>2766 rows × 1 columns</p>\n",
       "</div>"
      ],
      "text/plain": [
       "      open_low_vals\n",
       "0           1205.70\n",
       "1           1292.50\n",
       "2           1335.35\n",
       "3           1321.35\n",
       "4           1306.55\n",
       "...             ...\n",
       "2761        4182.65\n",
       "2762        4253.85\n",
       "2763        4104.10\n",
       "2764        4234.15\n",
       "2765        4281.60\n",
       "\n",
       "[2766 rows x 1 columns]"
      ]
     },
     "execution_count": 16,
     "metadata": {},
     "output_type": "execute_result"
    }
   ],
   "source": [
    "open_low_df=pd.DataFrame(data=arr1,columns=['open_low_vals'])\n",
    "open_low_df"
   ]
  },
  {
   "cell_type": "code",
   "execution_count": 17,
   "metadata": {},
   "outputs": [
    {
     "data": {
      "text/html": [
       "<div>\n",
       "<style scoped>\n",
       "    .dataframe tbody tr th:only-of-type {\n",
       "        vertical-align: middle;\n",
       "    }\n",
       "\n",
       "    .dataframe tbody tr th {\n",
       "        vertical-align: top;\n",
       "    }\n",
       "\n",
       "    .dataframe thead th {\n",
       "        text-align: right;\n",
       "    }\n",
       "</style>\n",
       "<table border=\"1\" class=\"dataframe\">\n",
       "  <thead>\n",
       "    <tr style=\"text-align: right;\">\n",
       "      <th></th>\n",
       "      <th>open_high_val</th>\n",
       "    </tr>\n",
       "  </thead>\n",
       "  <tbody>\n",
       "    <tr>\n",
       "      <th>0</th>\n",
       "      <td>4311.20</td>\n",
       "    </tr>\n",
       "    <tr>\n",
       "      <th>1</th>\n",
       "      <td>4354.35</td>\n",
       "    </tr>\n",
       "    <tr>\n",
       "      <th>2</th>\n",
       "      <td>4335.55</td>\n",
       "    </tr>\n",
       "    <tr>\n",
       "      <th>3</th>\n",
       "      <td>4413.25</td>\n",
       "    </tr>\n",
       "    <tr>\n",
       "      <th>4</th>\n",
       "      <td>4470.00</td>\n",
       "    </tr>\n",
       "    <tr>\n",
       "      <th>...</th>\n",
       "      <td>...</td>\n",
       "    </tr>\n",
       "    <tr>\n",
       "      <th>2290</th>\n",
       "      <td>7764.95</td>\n",
       "    </tr>\n",
       "    <tr>\n",
       "      <th>2291</th>\n",
       "      <td>7704.50</td>\n",
       "    </tr>\n",
       "    <tr>\n",
       "      <th>2292</th>\n",
       "      <td>7544.15</td>\n",
       "    </tr>\n",
       "    <tr>\n",
       "      <th>2293</th>\n",
       "      <td>7551.60</td>\n",
       "    </tr>\n",
       "    <tr>\n",
       "      <th>2294</th>\n",
       "      <td>7649.35</td>\n",
       "    </tr>\n",
       "  </tbody>\n",
       "</table>\n",
       "<p>2295 rows × 1 columns</p>\n",
       "</div>"
      ],
      "text/plain": [
       "      open_high_val\n",
       "0           4311.20\n",
       "1           4354.35\n",
       "2           4335.55\n",
       "3           4413.25\n",
       "4           4470.00\n",
       "...             ...\n",
       "2290        7764.95\n",
       "2291        7704.50\n",
       "2292        7544.15\n",
       "2293        7551.60\n",
       "2294        7649.35\n",
       "\n",
       "[2295 rows x 1 columns]"
      ]
     },
     "execution_count": 17,
     "metadata": {},
     "output_type": "execute_result"
    }
   ],
   "source": [
    "open_high_df=pd.DataFrame(data=arr2,columns=['open_high_val'])\n",
    "open_high_df"
   ]
  },
  {
   "cell_type": "code",
   "execution_count": 18,
   "metadata": {},
   "outputs": [
    {
     "data": {
      "text/plain": [
       "5061"
      ]
     },
     "execution_count": 18,
     "metadata": {},
     "output_type": "execute_result"
    }
   ],
   "source": [
    "df['Date'].count()"
   ]
  },
  {
   "cell_type": "code",
   "execution_count": 19,
   "metadata": {},
   "outputs": [
    {
     "name": "stdout",
     "output_type": "stream",
     "text": [
      "['2000-01-03', '2000-01-04', '2000-01-05', '2000-01-06', '2000-01-07', '2000-01-10', '2000-01-11', '2000-01-12', '2000-01-13', '2000-01-14', '2000-01-17', '2000-01-18', '2000-01-19', '2000-01-20', '2000-01-21', '2000-01-24', '2000-01-25', '2000-01-27', '2000-01-28', '2000-01-31', '2000-02-01', '2000-02-02', '2000-02-03', '2000-02-04', '2000-02-07', '2000-02-08', '2000-02-09', '2000-02-10', '2000-02-11', '2000-02-14', '2000-02-15', '2000-02-16', '2000-02-17', '2000-02-18', '2000-02-21', '2000-02-22', '2000-02-23', '2000-02-24', '2000-02-25', '2000-02-28', '2000-02-29', '2000-03-01', '2000-03-02', '2000-03-03', '2000-03-06', '2000-03-07', '2000-03-08', '2000-03-09', '2000-03-10', '2000-03-13', '2000-03-14', '2000-03-15', '2000-03-16', '2000-03-21', '2000-03-22', '2000-03-23', '2000-03-24', '2000-03-27', '2000-03-28', '2000-03-29', '2000-03-30', '2000-03-31', '2000-04-03', '2000-04-04', '2000-04-05', '2000-04-06', '2000-04-07', '2000-04-10', '2000-04-11', '2000-04-12', '2000-04-13', '2000-04-17', '2000-04-18', '2000-04-19', '2000-04-20', '2000-04-24', '2000-04-25', '2000-04-26', '2000-04-27', '2000-04-28', '2000-05-02', '2000-05-03', '2000-05-04', '2000-05-05', '2000-05-08', '2000-05-09', '2000-05-10', '2000-05-11', '2000-05-12', '2000-05-15', '2000-05-16', '2000-05-17', '2000-05-18', '2000-05-19', '2000-05-22', '2000-05-23', '2000-05-24', '2000-05-25', '2000-05-26', '2000-05-29', '2000-05-30', '2000-05-31', '2000-06-01', '2000-06-02', '2000-06-05', '2000-06-06', '2000-06-07', '2000-06-08', '2000-06-09', '2000-06-12', '2000-06-13', '2000-06-14', '2000-06-15', '2000-06-16', '2000-06-19', '2000-06-20', '2000-06-21', '2000-06-22', '2000-06-23', '2000-06-26', '2000-06-27', '2000-06-28', '2000-06-29', '2000-06-30', '2000-07-03', '2000-07-04', '2000-07-05', '2000-07-06', '2000-07-07', '2000-07-10', '2000-07-11', '2000-07-12', '2000-07-13', '2000-07-14', '2000-07-17', '2000-07-18', '2000-07-19', '2000-07-20', '2000-07-21', '2000-07-24', '2000-07-25', '2000-07-26', '2000-07-27', '2000-07-28', '2000-07-31', '2000-08-01', '2000-08-02', '2000-08-03', '2000-08-04', '2000-08-07', '2000-08-08', '2000-08-09', '2000-08-10', '2000-08-11', '2000-08-14', '2000-08-16', '2000-08-17', '2000-08-18', '2000-08-21', '2000-08-22', '2000-08-23', '2000-08-24', '2000-08-25', '2000-08-28', '2000-08-29', '2000-08-30', '2000-08-31', '2000-09-04', '2000-09-05', '2000-09-06', '2000-09-07', '2000-09-08', '2000-09-11', '2000-09-12', '2000-09-13', '2000-09-14', '2000-09-15', '2000-09-18', '2000-09-19', '2000-09-20', '2000-09-21', '2000-09-22', '2000-09-25', '2000-09-26', '2000-09-27', '2000-09-28', '2000-09-29', '2000-10-03', '2000-10-04', '2000-10-05', '2000-10-06', '2000-10-09', '2000-10-10', '2000-10-11', '2000-10-12', '2000-10-13', '2000-10-16', '2000-10-17', '2000-10-18', '2000-10-19', '2000-10-20', '2000-10-23', '2000-10-24', '2000-10-25', '2000-10-26', '2000-10-27', '2000-10-30', '2000-10-31', '2000-11-01', '2000-11-02', '2000-11-03', '2000-11-06', '2000-11-07', '2000-11-08', '2000-11-09', '2000-11-10', '2000-11-13', '2000-11-14', '2000-11-15', '2000-11-16', '2000-11-17', '2000-11-20', '2000-11-21', '2000-11-22', '2000-11-23', '2000-11-24', '2000-11-27', '2000-11-28', '2000-11-29', '2000-11-30', '2000-12-01', '2000-12-04', '2000-12-05', '2000-12-06', '2000-12-07', '2000-12-08', '2000-12-11', '2000-12-12', '2000-12-13', '2000-12-14', '2000-12-15', '2000-12-18', '2000-12-19', '2000-12-20', '2000-12-21', '2000-12-22', '2000-12-26', '2000-12-27', '2000-12-28', '2000-12-29', '2001-01-01', '2001-01-02', '2001-01-03', '2001-01-04', '2001-01-05', '2001-01-08', '2001-01-09', '2001-01-10', '2001-01-11', '2001-01-12', '2001-01-15', '2001-01-16', '2001-01-17', '2001-01-18', '2001-01-19', '2001-01-22', '2001-01-23', '2001-01-24', '2001-01-25', '2001-01-29', '2001-01-30', '2001-01-31', '2001-02-01', '2001-02-02', '2001-02-05', '2001-02-06', '2001-02-07', '2001-02-08', '2001-02-09', '2001-02-12', '2001-02-13', '2001-02-14', '2001-02-15', '2001-02-16', '2001-02-19', '2001-02-20', '2001-02-21', '2001-02-22', '2001-02-23', '2001-02-26', '2001-02-27', '2001-02-28', '2001-03-01', '2001-03-02', '2001-03-05', '2001-03-07', '2001-03-08', '2001-03-09', '2001-03-12', '2001-03-13', '2001-03-14', '2001-03-15', '2001-03-16', '2001-03-19', '2001-03-20', '2001-03-21', '2001-03-22', '2001-03-23', '2001-03-26', '2001-03-27', '2001-03-28', '2001-03-29', '2001-03-30', '2001-04-02', '2001-04-03', '2001-04-04', '2001-04-06', '2001-04-09', '2001-04-10', '2001-04-11', '2001-04-12', '2001-04-16', '2001-04-17', '2001-04-18', '2001-04-19', '2001-04-20', '2001-04-23', '2001-04-24', '2001-04-25', '2001-04-26', '2001-04-27', '2001-04-30', '2001-05-02', '2001-05-03', '2001-05-04', '2001-05-07', '2001-05-08', '2001-05-09', '2001-05-10', '2001-05-11', '2001-05-14', '2001-05-15', '2001-05-16', '2001-05-17', '2001-05-18', '2001-05-21', '2001-05-22', '2001-05-23', '2001-05-24', '2001-05-25', '2001-05-28', '2001-05-29', '2001-05-30', '2001-05-31', '2001-06-01', '2001-06-04', '2001-06-05', '2001-06-06', '2001-06-07', '2001-06-08', '2001-06-11', '2001-06-12', '2001-06-13', '2001-06-14', '2001-06-15', '2001-06-18', '2001-06-19', '2001-06-20', '2001-06-21', '2001-06-22', '2001-06-25', '2001-06-26', '2001-06-27', '2001-06-28', '2001-06-29', '2001-07-02', '2001-07-03', '2001-07-04', '2001-07-05', '2001-07-06', '2001-07-09', '2001-07-10', '2001-07-11', '2001-07-12', '2001-07-13', '2001-07-16', '2001-07-17', '2001-07-18', '2001-07-19', '2001-07-20', '2001-07-23', '2001-07-24', '2001-07-25', '2001-07-26', '2001-07-27', '2001-07-30', '2001-07-31', '2001-08-01', '2001-08-02', '2001-08-03', '2001-08-06', '2001-08-07', '2001-08-08', '2001-08-09', '2001-08-10', '2001-08-13', '2001-08-14', '2001-08-16', '2001-08-17', '2001-08-20', '2001-08-21', '2001-08-23', '2001-08-24', '2001-08-27', '2001-08-28', '2001-08-29', '2001-08-30', '2001-08-31', '2001-09-03', '2001-09-04', '2001-09-05', '2001-09-06', '2001-09-07', '2001-09-10', '2001-09-11', '2001-09-12', '2001-09-13', '2001-09-14', '2001-09-17', '2001-09-18', '2001-09-19', '2001-09-20', '2001-09-21', '2001-09-24', '2001-09-25', '2001-09-26', '2001-09-27', '2001-09-28', '2001-10-01', '2001-10-03', '2001-10-04', '2001-10-05', '2001-10-08', '2001-10-09', '2001-10-10', '2001-10-11', '2001-10-12', '2001-10-15', '2001-10-16', '2001-10-17', '2001-10-18', '2001-10-19', '2001-10-22', '2001-10-23', '2001-10-24', '2001-10-25', '2001-10-29', '2001-10-30', '2001-10-31', '2001-11-01', '2001-11-02', '2001-11-05', '2001-11-06', '2001-11-07', '2001-11-08', '2001-11-09', '2001-11-12', '2001-11-13', '2001-11-14', '2001-11-15', '2001-11-19', '2001-11-20', '2001-11-21', '2001-11-22', '2001-11-23', '2001-11-26', '2001-11-27', '2001-11-28', '2001-11-29', '2001-12-03', '2001-12-04', '2001-12-05', '2001-12-06', '2001-12-07', '2001-12-10', '2001-12-11', '2001-12-12', '2001-12-13', '2001-12-14', '2001-12-18', '2001-12-19', '2001-12-20', '2001-12-21', '2001-12-24', '2001-12-26', '2001-12-27', '2001-12-28', '2001-12-31', '2002-01-01', '2002-01-02', '2002-01-03', '2002-01-04', '2002-01-07', '2002-01-08', '2002-01-09', '2002-01-10', '2002-01-11', '2002-01-14', '2002-01-15', '2002-01-16', '2002-01-17', '2002-01-18', '2002-01-21', '2002-01-22', '2002-01-23', '2002-01-24', '2002-01-25', '2002-01-28', '2002-01-29', '2002-01-30', '2002-01-31', '2002-02-01', '2002-02-04', '2002-02-05', '2002-02-06', '2002-02-07', '2002-02-08', '2002-02-11', '2002-02-12', '2002-02-13', '2002-02-14', '2002-02-15', '2002-02-18', '2002-02-19', '2002-02-20', '2002-02-21', '2002-02-22', '2002-02-25', '2002-02-26', '2002-02-27', '2002-02-28', '2002-03-01', '2002-03-04', '2002-03-05', '2002-03-06', '2002-03-07', '2002-03-08', '2002-03-11', '2002-03-12', '2002-03-13', '2002-03-14', '2002-03-15', '2002-03-18', '2002-03-19', '2002-03-20', '2002-03-21', '2002-03-22', '2002-03-26', '2002-03-27', '2002-03-28', '2002-04-01', '2002-04-02', '2002-04-03', '2002-04-04', '2002-04-05', '2002-04-08', '2002-04-09', '2002-04-10', '2002-04-11', '2002-04-12', '2002-04-15', '2002-04-16', '2002-04-17', '2002-04-18', '2002-04-19', '2002-04-22', '2002-04-23', '2002-04-24', '2002-04-25', '2002-04-26', '2002-04-29', '2002-04-30', '2002-05-02', '2002-05-03', '2002-05-06', '2002-05-07', '2002-05-08', '2002-05-09', '2002-05-10', '2002-05-13', '2002-05-14', '2002-05-15', '2002-05-16', '2002-05-17', '2002-05-20', '2002-05-21', '2002-05-22', '2002-05-23', '2002-05-24', '2002-05-27', '2002-05-28', '2002-05-29', '2002-05-30', '2002-05-31', '2002-06-03', '2002-06-04', '2002-06-05', '2002-06-06', '2002-06-07', '2002-06-10', '2002-06-11', '2002-06-12', '2002-06-13', '2002-06-14', '2002-06-17', '2002-06-18', '2002-06-19', '2002-06-20', '2002-06-21', '2002-06-24', '2002-06-25', '2002-06-26', '2002-06-27', '2002-06-28', '2002-07-01', '2002-07-02', '2002-07-03', '2002-07-04', '2002-07-05', '2002-07-08', '2002-07-09', '2002-07-10', '2002-07-11', '2002-07-12', '2002-07-15', '2002-07-16', '2002-07-17', '2002-07-18', '2002-07-19', '2002-07-22', '2002-07-23', '2002-07-24', '2002-07-25', '2002-07-26', '2002-07-29', '2002-07-30', '2002-07-31', '2002-08-01', '2002-08-02', '2002-08-05', '2002-08-06', '2002-08-07', '2002-08-08', '2002-08-09', '2002-08-12', '2002-08-13', '2002-08-14', '2002-08-16', '2002-08-19', '2002-08-20', '2002-08-21', '2002-08-22', '2002-08-23', '2002-08-26', '2002-08-27', '2002-08-28', '2002-08-29', '2002-08-30', '2002-09-02', '2002-09-03', '2002-09-04', '2002-09-05', '2002-09-06', '2002-09-09', '2002-09-11', '2002-09-12', '2002-09-13', '2002-09-16', '2002-09-17', '2002-09-18', '2002-09-19', '2002-09-20', '2002-09-23', '2002-09-24', '2002-09-25', '2002-09-26', '2002-09-27', '2002-09-30', '2002-10-01', '2002-10-03', '2002-10-04', '2002-10-07', '2002-10-08', '2002-10-09', '2002-10-10', '2002-10-11', '2002-10-14', '2002-10-16', '2002-10-17', '2002-10-18', '2002-10-21', '2002-10-22', '2002-10-23', '2002-10-24', '2002-10-25', '2002-10-28', '2002-10-29', '2002-10-30', '2002-10-31', '2002-11-01', '2002-11-04', '2002-11-05', '2002-11-07', '2002-11-08', '2002-11-11', '2002-11-12', '2002-11-13', '2002-11-14', '2002-11-15', '2002-11-18', '2002-11-20', '2002-11-21', '2002-11-22', '2002-11-25', '2002-11-26', '2002-11-27', '2002-11-28', '2002-11-29', '2002-12-02', '2002-12-03', '2002-12-04', '2002-12-05', '2002-12-06', '2002-12-09', '2002-12-10', '2002-12-11', '2002-12-12', '2002-12-13', '2002-12-16', '2002-12-17', '2002-12-18', '2002-12-19', '2002-12-20', '2002-12-23', '2002-12-24', '2002-12-26', '2002-12-27', '2002-12-30', '2002-12-31', '2003-01-01', '2003-01-02', '2003-01-03', '2003-01-06', '2003-01-07', '2003-01-08', '2003-01-09', '2003-01-10', '2003-01-13', '2003-01-14', '2003-01-15', '2003-01-16', '2003-01-17', '2003-01-20', '2003-01-21', '2003-01-22', '2003-01-23', '2003-01-24', '2003-01-27', '2003-01-28', '2003-01-29', '2003-01-30', '2003-01-31', '2003-02-03', '2003-02-04', '2003-02-05', '2003-02-06', '2003-02-07', '2003-02-10', '2003-02-11', '2003-02-12', '2003-02-14', '2003-02-17', '2003-02-18', '2003-02-19', '2003-02-20', '2003-02-21', '2003-02-24', '2003-02-25', '2003-02-26', '2003-02-27', '2003-02-28', '2003-03-03', '2003-03-04', '2003-03-05', '2003-03-06', '2003-03-07', '2003-03-10', '2003-03-11', '2003-03-12', '2003-03-13', '2003-03-17', '2003-03-19', '2003-03-20', '2003-03-21', '2003-03-22', '2003-03-24', '2003-03-25', '2003-03-26', '2003-03-27', '2003-03-28', '2003-03-31', '2003-04-01', '2003-04-02', '2003-04-03', '2003-04-04', '2003-04-07', '2003-04-08', '2003-04-09', '2003-04-10', '2003-04-11', '2003-04-15', '2003-04-16', '2003-04-17', '2003-04-21', '2003-04-22', '2003-04-23', '2003-04-24', '2003-04-25', '2003-04-28', '2003-04-29', '2003-04-30', '2003-05-02', '2003-05-05', '2003-05-06', '2003-05-07', '2003-05-08', '2003-05-09', '2003-05-12', '2003-05-13', '2003-05-14', '2003-05-15', '2003-05-16', '2003-05-19', '2003-05-20', '2003-05-21', '2003-05-22', '2003-05-23', '2003-05-26', '2003-05-27', '2003-05-28', '2003-05-29', '2003-05-30', '2003-06-02', '2003-06-03', '2003-06-04', '2003-06-05', '2003-06-06', '2003-06-09', '2003-06-10', '2003-06-11', '2003-06-12', '2003-06-13', '2003-06-16', '2003-06-17', '2003-06-18', '2003-06-19', '2003-06-20', '2003-06-23', '2003-06-24', '2003-06-25', '2003-06-26', '2003-06-27', '2003-06-30', '2003-07-01', '2003-07-02', '2003-07-03', '2003-07-04', '2003-07-07', '2003-07-08', '2003-07-09', '2003-07-10', '2003-07-11', '2003-07-14', '2003-07-15', '2003-07-16', '2003-07-17', '2003-07-18', '2003-07-21', '2003-07-22', '2003-07-23', '2003-07-24', '2003-07-25', '2003-07-28', '2003-07-29', '2003-07-30', '2003-07-31', '2003-08-01', '2003-08-04', '2003-08-05', '2003-08-06', '2003-08-07', '2003-08-08', '2003-08-11', '2003-08-12', '2003-08-13', '2003-08-14', '2003-08-18', '2003-08-19', '2003-08-20', '2003-08-21', '2003-08-22', '2003-08-25', '2003-08-26', '2003-08-27', '2003-08-28', '2003-08-29', '2003-09-01', '2003-09-02', '2003-09-03', '2003-09-04', '2003-09-05', '2003-09-08', '2003-09-09', '2003-09-10', '2003-09-11', '2003-09-12', '2003-09-15', '2003-09-16', '2003-09-17', '2003-09-18', '2003-09-19', '2003-09-22', '2003-09-23', '2003-09-24', '2003-09-25', '2003-09-26', '2003-09-29', '2003-09-30', '2003-10-01', '2003-10-03', '2003-10-06', '2003-10-07', '2003-10-08', '2003-10-09', '2003-10-10', '2003-10-13', '2003-10-14', '2003-10-15', '2003-10-16', '2003-10-17', '2003-10-20', '2003-10-21', '2003-10-22', '2003-10-23', '2003-10-24', '2003-10-25', '2003-10-27', '2003-10-28', '2003-10-29', '2003-10-30', '2003-10-31', '2003-11-03', '2003-11-04', '2003-11-05', '2003-11-06', '2003-11-07', '2003-11-10', '2003-11-11', '2003-11-12', '2003-11-13', '2003-11-14', '2003-11-15', '2003-11-17', '2003-11-18', '2003-11-19', '2003-11-20', '2003-11-21', '2003-11-24', '2003-11-25', '2003-11-27', '2003-11-28', '2003-12-01', '2003-12-02', '2003-12-03', '2003-12-04', '2003-12-05', '2003-12-08', '2003-12-09', '2003-12-10', '2003-12-11', '2003-12-12', '2003-12-15', '2003-12-16', '2003-12-17', '2003-12-18', '2003-12-19', '2003-12-22', '2003-12-23', '2003-12-24', '2003-12-26', '2003-12-29', '2003-12-30', '2003-12-31', '2004-01-01', '2004-01-02', '2004-01-05', '2004-01-06', '2004-01-07', '2004-01-08', '2004-01-09', '2004-01-12', '2004-01-13', '2004-01-14', '2004-01-15', '2004-01-16', '2004-01-19', '2004-01-20', '2004-01-21', '2004-01-22', '2004-01-23', '2004-01-27', '2004-01-28', '2004-01-29', '2004-01-30', '2004-02-03', '2004-02-04', '2004-02-05', '2004-02-06', '2004-02-09', '2004-02-10', '2004-02-11', '2004-02-12', '2004-02-13', '2004-02-16', '2004-02-17', '2004-02-18', '2004-02-19', '2004-02-20', '2004-02-23', '2004-02-24', '2004-02-25', '2004-02-26', '2004-02-27', '2004-03-01', '2004-03-03', '2004-03-04', '2004-03-05', '2004-03-08', '2004-03-09', '2004-03-10', '2004-03-11', '2004-03-12', '2004-03-15', '2004-03-16', '2004-03-17', '2004-03-18', '2004-03-19', '2004-03-22', '2004-03-23', '2004-03-24', '2004-03-25', '2004-03-26', '2004-03-29', '2004-03-30', '2004-03-31', '2004-04-01', '2004-04-02', '2004-04-05', '2004-04-06', '2004-04-07', '2004-04-08', '2004-04-12', '2004-04-13', '2004-04-15', '2004-04-16', '2004-04-17', '2004-04-19', '2004-04-20', '2004-04-21', '2004-04-22', '2004-04-23', '2004-04-27', '2004-04-28', '2004-04-29', '2004-04-30', '2004-05-03', '2004-05-04', '2004-05-05', '2004-05-06', '2004-05-07', '2004-05-10', '2004-05-11', '2004-05-12', '2004-05-13', '2004-05-14', '2004-05-17', '2004-05-18', '2004-05-19', '2004-05-20', '2004-05-21', '2004-05-24', '2004-05-25', '2004-05-26', '2004-05-27', '2004-05-28', '2004-05-31', '2004-06-01', '2004-06-02', '2004-06-03', '2004-06-04', '2004-06-07', '2004-06-08', '2004-06-09', '2004-06-10', '2004-06-11', '2004-06-14', '2004-06-15', '2004-06-16', '2004-06-17', '2004-06-18', '2004-06-21', '2004-06-22', '2004-06-23', '2004-06-24', '2004-06-25', '2004-06-28', '2004-06-29', '2004-06-30', '2004-07-01', '2004-07-02', '2004-07-05', '2004-07-06', '2004-07-07', '2004-07-08', '2004-07-09', '2004-07-12', '2004-07-13', '2004-07-14', '2004-07-15', '2004-07-16', '2004-07-19', '2004-07-20', '2004-07-21', '2004-07-22', '2004-07-23', '2004-07-26', '2004-07-27', '2004-07-28', '2004-07-29', '2004-07-30', '2004-08-02', '2004-08-03', '2004-08-04', '2004-08-05', '2004-08-06', '2004-08-09', '2004-08-10', '2004-08-11', '2004-08-12', '2004-08-13', '2004-08-16', '2004-08-17', '2004-08-18', '2004-08-19', '2004-08-20', '2004-08-23', '2004-08-24', '2004-08-25', '2004-08-26', '2004-08-27', '2004-08-30', '2004-08-31', '2004-09-01', '2004-09-02', '2004-09-03', '2004-09-06', '2004-09-07', '2004-09-08', '2004-09-09', '2004-09-10', '2004-09-13', '2004-09-14', '2004-09-15', '2004-09-16', '2004-09-17', '2004-09-20', '2004-09-21', '2004-09-22', '2004-09-23', '2004-09-24', '2004-09-27', '2004-09-28', '2004-09-29', '2004-09-30', '2004-10-01', '2004-10-04', '2004-10-05', '2004-10-06', '2004-10-07', '2004-10-08', '2004-10-09', '2004-10-11', '2004-10-12', '2004-10-14', '2004-10-15', '2004-10-18', '2004-10-19', '2004-10-20', '2004-10-21', '2004-10-25', '2004-10-26', '2004-10-27', '2004-10-28', '2004-10-29', '2004-11-01', '2004-11-02', '2004-11-03', '2004-11-04', '2004-11-05', '2004-11-08', '2004-11-09', '2004-11-10', '2004-11-11', '2004-11-12', '2004-11-16', '2004-11-17', '2004-11-18', '2004-11-19', '2004-11-22', '2004-11-23', '2004-11-24', '2004-11-25', '2004-11-29', '2004-11-30', '2004-12-01', '2004-12-02', '2004-12-03', '2004-12-06', '2004-12-07', '2004-12-08', '2004-12-09', '2004-12-10', '2004-12-13', '2004-12-14', '2004-12-15', '2004-12-16', '2004-12-17', '2004-12-20', '2004-12-21', '2004-12-22', '2004-12-23', '2004-12-24', '2004-12-27', '2004-12-28', '2004-12-29', '2004-12-30', '2004-12-31', '2005-01-03', '2005-01-04', '2005-01-05', '2005-01-06', '2005-01-07', '2005-01-10', '2005-01-11', '2005-01-12', '2005-01-13', '2005-01-14', '2005-01-17', '2005-01-18', '2005-01-19', '2005-01-20', '2005-01-24', '2005-01-25', '2005-01-27', '2005-01-28', '2005-01-31', '2005-02-01', '2005-02-02', '2005-02-03', '2005-02-04', '2005-02-07', '2005-02-08', '2005-02-09', '2005-02-10', '2005-02-11', '2005-02-14', '2005-02-15', '2005-02-16', '2005-02-17', '2005-02-18', '2005-02-21', '2005-02-22', '2005-02-23', '2005-02-24', '2005-02-25', '2005-02-28', '2005-03-01', '2005-03-02', '2005-03-03', '2005-03-04', '2005-03-07', '2005-03-08', '2005-03-09', '2005-03-10', '2005-03-11', '2005-03-14', '2005-03-15', '2005-03-16', '2005-03-17', '2005-03-18', '2005-03-21', '2005-03-22', '2005-03-23', '2005-03-24', '2005-03-28', '2005-03-29', '2005-03-30', '2005-03-31', '2005-04-01', '2005-04-04', '2005-04-05', '2005-04-06', '2005-04-07', '2005-04-08', '2005-04-11', '2005-04-12', '2005-04-13', '2005-04-15', '2005-04-18', '2005-04-19', '2005-04-20', '2005-04-21', '2005-04-22', '2005-04-25', '2005-04-26', '2005-04-27', '2005-04-28', '2005-04-29', '2005-05-02', '2005-05-03', '2005-05-04', '2005-05-05', '2005-05-06', '2005-05-09', '2005-05-10', '2005-05-11', '2005-05-12', '2005-05-13', '2005-05-16', '2005-05-17', '2005-05-18', '2005-05-19', '2005-05-20', '2005-05-23', '2005-05-24', '2005-05-25', '2005-05-26', '2005-05-27', '2005-05-30', '2005-05-31', '2005-06-01', '2005-06-02', '2005-06-03', '2005-06-04', '2005-06-06', '2005-06-07', '2005-06-08', '2005-06-09', '2005-06-10', '2005-06-13', '2005-06-14', '2005-06-15', '2005-06-16', '2005-06-17', '2005-06-20', '2005-06-21', '2005-06-22', '2005-06-23', '2005-06-24', '2005-06-27', '2005-06-28', '2005-06-29', '2005-06-30', '2005-07-01', '2005-07-04', '2005-07-05', '2005-07-06', '2005-07-07', '2005-07-08', '2005-07-11', '2005-07-12', '2005-07-13', '2005-07-14', '2005-07-15', '2005-07-18', '2005-07-19', '2005-07-20', '2005-07-21', '2005-07-22', '2005-07-25', '2005-07-26', '2005-07-27', '2005-07-29', '2005-08-01', '2005-08-02', '2005-08-03', '2005-08-04', '2005-08-05', '2005-08-08', '2005-08-09', '2005-08-10', '2005-08-11', '2005-08-12', '2005-08-16', '2005-08-17', '2005-08-18', '2005-08-19', '2005-08-22', '2005-08-23', '2005-08-24', '2005-08-25', '2005-08-26', '2005-08-29', '2005-08-30', '2005-08-31', '2005-09-01', '2005-09-02', '2005-09-05', '2005-09-06', '2005-09-08', '2005-09-09', '2005-09-12', '2005-09-13', '2005-09-14', '2005-09-15', '2005-09-16', '2005-09-19', '2005-09-20', '2005-09-21', '2005-09-22', '2005-09-23', '2005-09-26', '2005-09-27', '2005-09-28', '2005-09-29', '2005-09-30', '2005-10-03', '2005-10-04', '2005-10-05', '2005-10-06', '2005-10-07', '2005-10-10', '2005-10-11', '2005-10-13', '2005-10-14', '2005-10-17', '2005-10-18', '2005-10-19', '2005-10-20', '2005-10-21', '2005-10-24', '2005-10-25', '2005-10-26', '2005-10-27', '2005-10-28', '2005-10-31', '2005-11-01', '2005-11-02', '2005-11-07', '2005-11-08', '2005-11-09', '2005-11-10', '2005-11-11', '2005-11-14', '2005-11-16', '2005-11-17', '2005-11-18', '2005-11-21', '2005-11-22', '2005-11-23', '2005-11-24', '2005-11-25', '2005-11-26', '2005-11-28', '2005-11-29', '2005-11-30', '2005-12-01', '2005-12-02', '2005-12-05', '2005-12-06', '2005-12-07', '2005-12-08', '2005-12-09', '2005-12-12', '2005-12-13', '2005-12-14', '2005-12-15', '2005-12-16', '2005-12-19', '2005-12-20', '2005-12-21', '2005-12-22', '2005-12-23', '2005-12-26', '2005-12-27', '2005-12-28', '2005-12-29', '2005-12-30', '2006-01-02', '2006-01-03', '2006-01-04', '2006-01-05', '2006-01-06', '2006-01-09', '2006-01-10', '2006-01-12', '2006-01-13', '2006-01-16', '2006-01-17', '2006-01-18', '2006-01-19', '2006-01-20', '2006-01-23', '2006-01-24', '2006-01-25', '2006-01-27', '2006-01-30', '2006-01-31', '2006-02-01', '2006-02-02', '2006-02-03', '2006-02-06', '2006-02-07', '2006-02-08', '2006-02-10', '2006-02-13', '2006-02-14', '2006-02-15', '2006-02-16', '2006-02-17', '2006-02-20', '2006-02-21', '2006-02-22', '2006-02-23', '2006-02-24', '2006-02-27', '2006-02-28', '2006-03-01', '2006-03-02', '2006-03-03', '2006-03-06', '2006-03-07', '2006-03-08', '2006-03-09', '2006-03-10', '2006-03-13', '2006-03-14', '2006-03-16', '2006-03-17', '2006-03-20', '2006-03-21', '2006-03-22', '2006-03-23', '2006-03-24', '2006-03-27', '2006-03-28', '2006-03-29', '2006-03-30', '2006-03-31', '2006-04-03', '2006-04-04', '2006-04-05', '2006-04-07', '2006-04-10', '2006-04-12', '2006-04-13', '2006-04-17', '2006-04-18', '2006-04-19', '2006-04-20', '2006-04-21', '2006-04-24', '2006-04-25', '2006-04-26', '2006-04-27', '2006-04-28', '2006-04-29', '2006-05-02', '2006-05-03', '2006-05-04', '2006-05-05', '2006-05-08', '2006-05-09', '2006-05-10', '2006-05-11', '2006-05-12', '2006-05-15', '2006-05-16', '2006-05-17', '2006-05-18', '2006-05-19', '2006-05-22', '2006-05-23', '2006-05-24', '2006-05-25', '2006-05-26', '2006-05-29', '2006-05-30', '2006-05-31', '2006-06-01', '2006-06-02', '2006-06-05', '2006-06-06', '2006-06-07', '2006-06-08', '2006-06-09', '2006-06-12', '2006-06-13', '2006-06-14', '2006-06-15', '2006-06-16', '2006-06-19', '2006-06-20', '2006-06-21', '2006-06-22', '2006-06-23', '2006-06-25', '2006-06-26', '2006-06-27', '2006-06-28', '2006-06-29', '2006-06-30', '2006-07-03', '2006-07-04', '2006-07-05', '2006-07-06', '2006-07-07', '2006-07-10', '2006-07-11', '2006-07-12', '2006-07-13', '2006-07-14', '2006-07-17', '2006-07-18', '2006-07-19', '2006-07-20', '2006-07-21', '2006-07-24', '2006-07-25', '2006-07-26', '2006-07-27', '2006-07-28', '2006-07-31', '2006-08-01', '2006-08-02', '2006-08-03', '2006-08-04', '2006-08-07', '2006-08-08', '2006-08-09', '2006-08-10', '2006-08-11', '2006-08-14', '2006-08-16', '2006-08-17', '2006-08-18', '2006-08-21', '2006-08-22', '2006-08-23', '2006-08-24', '2006-08-25', '2006-08-28', '2006-08-29', '2006-08-30', '2006-08-31', '2006-09-01', '2006-09-04', '2006-09-05', '2006-09-06', '2006-09-07', '2006-09-08', '2006-09-11', '2006-09-12', '2006-09-13', '2006-09-14', '2006-09-15', '2006-09-18', '2006-09-19', '2006-09-20', '2006-09-21', '2006-09-22', '2006-09-25', '2006-09-26', '2006-09-27', '2006-09-28', '2006-09-29', '2006-10-03', '2006-10-04', '2006-10-05', '2006-10-06', '2006-10-09', '2006-10-10', '2006-10-11', '2006-10-12', '2006-10-13', '2006-10-16', '2006-10-17', '2006-10-18', '2006-10-19', '2006-10-20', '2006-10-21', '2006-10-23', '2006-10-26', '2006-10-27', '2006-10-30', '2006-10-31', '2006-11-01', '2006-11-02', '2006-11-03', '2006-11-06', '2006-11-07', '2006-11-08', '2006-11-09', '2006-11-10', '2006-11-13', '2006-11-14', '2006-11-15', '2006-11-16', '2006-11-17', '2006-11-20', '2006-11-21', '2006-11-22', '2006-11-23', '2006-11-24', '2006-11-27', '2006-11-28', '2006-11-29', '2006-11-30', '2006-12-01', '2006-12-04', '2006-12-05', '2006-12-06', '2006-12-07', '2006-12-08', '2006-12-11', '2006-12-12', '2006-12-13', '2006-12-14', '2006-12-15', '2006-12-18', '2006-12-19', '2006-12-20', '2006-12-21', '2006-12-22', '2006-12-26', '2006-12-27', '2006-12-28', '2006-12-29', '2007-01-02', '2007-01-03', '2007-01-04', '2007-01-05', '2007-01-08', '2007-01-09', '2007-01-10', '2007-01-11', '2007-01-12', '2007-01-15', '2007-01-16', '2007-01-17', '2007-01-18', '2007-01-19', '2007-01-22', '2007-01-23', '2007-01-24', '2007-01-25', '2007-01-29', '2007-01-31', '2007-02-01', '2007-02-02', '2007-02-05', '2007-02-06', '2007-02-07', '2007-02-08', '2007-02-09', '2007-02-12', '2007-02-13', '2007-02-14', '2007-02-15', '2007-02-19', '2007-02-20', '2007-02-21', '2007-02-22', '2007-02-23', '2007-02-26', '2007-02-27', '2007-02-28', '2007-03-01', '2007-03-02', '2007-03-05', '2007-03-06', '2007-03-07', '2007-03-08', '2007-03-09', '2007-03-12', '2007-03-13', '2007-03-14', '2007-03-15', '2007-03-16', '2007-03-19', '2007-03-20', '2007-03-21', '2007-03-22', '2007-03-23', '2007-03-26', '2007-03-28', '2007-03-29', '2007-03-30', '2007-04-02', '2007-04-03', '2007-04-04', '2007-04-05', '2007-04-09', '2007-04-10', '2007-04-11', '2007-04-12', '2007-04-13', '2007-04-16', '2007-04-17', '2007-04-18', '2007-04-19', '2007-04-20', '2007-04-23', '2007-04-24', '2007-04-25', '2007-04-26', '2007-04-27', '2007-04-30', '2007-05-03', '2007-05-04', '2007-05-07', '2007-05-08', '2007-05-09', '2007-05-10', '2007-05-11', '2007-05-14', '2007-05-15', '2007-05-16', '2007-05-17', '2007-05-18', '2007-05-21', '2007-05-22', '2007-05-23', '2007-05-24', '2007-05-25', '2007-05-28', '2007-05-29', '2007-05-30', '2007-05-31', '2007-06-01', '2007-06-04', '2007-06-05', '2007-06-06', '2007-06-07', '2007-06-08', '2007-06-11', '2007-06-12', '2007-06-13', '2007-06-14', '2007-06-15', '2007-06-18', '2007-06-19', '2007-06-20', '2007-06-21', '2007-06-22', '2007-06-25', '2007-06-26', '2007-06-27', '2007-06-28', '2007-06-29', '2007-07-02', '2007-07-03', '2007-07-04', '2007-07-05', '2007-07-06', '2007-07-09', '2007-07-10', '2007-07-11', '2007-07-12', '2007-07-13', '2007-07-16', '2007-07-17', '2007-07-18', '2007-07-19', '2007-07-20', '2007-07-23', '2007-07-24', '2007-07-25', '2007-07-26', '2007-07-27', '2007-07-30', '2007-07-31', '2007-08-01', '2007-08-02', '2007-08-03', '2007-08-06', '2007-08-07', '2007-08-08', '2007-08-09', '2007-08-10', '2007-08-13', '2007-08-14', '2007-08-16', '2007-08-17', '2007-08-20', '2007-08-21', '2007-08-22', '2007-08-23', '2007-08-24', '2007-08-27', '2007-08-28', '2007-08-29', '2007-08-30', '2007-08-31', '2007-09-03', '2007-09-04', '2007-09-05', '2007-09-06', '2007-09-07', '2007-09-10', '2007-09-11', '2007-09-12', '2007-09-13', '2007-09-14', '2007-09-17', '2007-09-18', '2007-09-19', '2007-09-20', '2007-09-21', '2007-09-24', '2007-09-25', '2007-09-26', '2007-09-27', '2007-09-28', '2007-10-01', '2007-10-03', '2007-10-04', '2007-10-05', '2007-10-08', '2007-10-09', '2007-10-10', '2007-10-11', '2007-10-12', '2007-10-15', '2007-10-16', '2007-10-17', '2007-10-18', '2007-10-19', '2007-10-22', '2007-10-23', '2007-10-24', '2007-10-25', '2007-10-26', '2007-10-29', '2007-10-30', '2007-10-31', '2007-11-01', '2007-11-02', '2007-11-05', '2007-11-06', '2007-11-07', '2007-11-08', '2007-11-09', '2007-11-12', '2007-11-13', '2007-11-14', '2007-11-15', '2007-11-16', '2007-11-19', '2007-11-20', '2007-11-21', '2007-11-22', '2007-11-23', '2007-11-26', '2007-11-27', '2007-11-28', '2007-11-29', '2007-11-30', '2007-12-03', '2007-12-04', '2007-12-05', '2007-12-06', '2007-12-07', '2007-12-10', '2007-12-11', '2007-12-12', '2007-12-13', '2007-12-14', '2007-12-17', '2007-12-18', '2007-12-19', '2007-12-20', '2007-12-24', '2007-12-26', '2007-12-27', '2007-12-28', '2007-12-31', '2008-01-01', '2008-01-02', '2008-01-03', '2008-01-04', '2008-01-07', '2008-01-08', '2008-01-09', '2008-01-10', '2008-01-11', '2008-01-14', '2008-01-15', '2008-01-16', '2008-01-17', '2008-01-18', '2008-01-21', '2008-01-22', '2008-01-23', '2008-01-24', '2008-01-25', '2008-01-28', '2008-01-29', '2008-01-30', '2008-01-31', '2008-02-01', '2008-02-04', '2008-02-05', '2008-02-06', '2008-02-07', '2008-02-08', '2008-02-11', '2008-02-12', '2008-02-13', '2008-02-14', '2008-02-15', '2008-02-18', '2008-02-19', '2008-02-20', '2008-02-21', '2008-02-22', '2008-02-25', '2008-02-26', '2008-02-27', '2008-02-28', '2008-02-29', '2008-03-03', '2008-03-04', '2008-03-05', '2008-03-07', '2008-03-10', '2008-03-11', '2008-03-12', '2008-03-13', '2008-03-14', '2008-03-17', '2008-03-18', '2008-03-19', '2008-03-24', '2008-03-25', '2008-03-26', '2008-03-27', '2008-03-28', '2008-03-31', '2008-04-01', '2008-04-02', '2008-04-03', '2008-04-04', '2008-04-07', '2008-04-08', '2008-04-09', '2008-04-10', '2008-04-11', '2008-04-15', '2008-04-16', '2008-04-17', '2008-04-21', '2008-04-22', '2008-04-23', '2008-04-24', '2008-04-25', '2008-04-28', '2008-04-29', '2008-04-30', '2008-05-02', '2008-05-05', '2008-05-06', '2008-05-07', '2008-05-08', '2008-05-09', '2008-05-12', '2008-05-13', '2008-05-14', '2008-05-15', '2008-05-16', '2008-05-20', '2008-05-21', '2008-05-22', '2008-05-23', '2008-05-26', '2008-05-27', '2008-05-28', '2008-05-29', '2008-05-30', '2008-06-02', '2008-06-03', '2008-06-04', '2008-06-05', '2008-06-06', '2008-06-09', '2008-06-10', '2008-06-11', '2008-06-12', '2008-06-13', '2008-06-16', '2008-06-17', '2008-06-18', '2008-06-19', '2008-06-20', '2008-06-23', '2008-06-24', '2008-06-25', '2008-06-26', '2008-06-27', '2008-06-30', '2008-07-01', '2008-07-02', '2008-07-03', '2008-07-04', '2008-07-07', '2008-07-08', '2008-07-09', '2008-07-10', '2008-07-11', '2008-07-14', '2008-07-15', '2008-07-16', '2008-07-17', '2008-07-18', '2008-07-21', '2008-07-22', '2008-07-23', '2008-07-24', '2008-07-25', '2008-07-28', '2008-07-29', '2008-07-30', '2008-07-31', '2008-08-01', '2008-08-04', '2008-08-05', '2008-08-06', '2008-08-07', '2008-08-08', '2008-08-11', '2008-08-12', '2008-08-13', '2008-08-14', '2008-08-18', '2008-08-19', '2008-08-20', '2008-08-21', '2008-08-22', '2008-08-25', '2008-08-26', '2008-08-27', '2008-08-28', '2008-08-29', '2008-09-01', '2008-09-02', '2008-09-04', '2008-09-05', '2008-09-08', '2008-09-09', '2008-09-10', '2008-09-11', '2008-09-12', '2008-09-15', '2008-09-16', '2008-09-17', '2008-09-18', '2008-09-19', '2008-09-22', '2008-09-23', '2008-09-24', '2008-09-25', '2008-09-26', '2008-09-29', '2008-09-30', '2008-10-01', '2008-10-03', '2008-10-06', '2008-10-07', '2008-10-08', '2008-10-10', '2008-10-13', '2008-10-14', '2008-10-15', '2008-10-16', '2008-10-17', '2008-10-20', '2008-10-21', '2008-10-22', '2008-10-23', '2008-10-24', '2008-10-27', '2008-10-28', '2008-10-29', '2008-10-31', '2008-11-03', '2008-11-04', '2008-11-05', '2008-11-06', '2008-11-07', '2008-11-10', '2008-11-11', '2008-11-12', '2008-11-14', '2008-11-17', '2008-11-18', '2008-11-19', '2008-11-20', '2008-11-21', '2008-11-24', '2008-11-25', '2008-11-26', '2008-11-28', '2008-12-01', '2008-12-02', '2008-12-03', '2008-12-04', '2008-12-05', '2008-12-08', '2008-12-10', '2008-12-11', '2008-12-12', '2008-12-15', '2008-12-16', '2008-12-17', '2008-12-18', '2008-12-19', '2008-12-22', '2008-12-23', '2008-12-24', '2008-12-26', '2008-12-29', '2008-12-30', '2008-12-31', '2009-01-01', '2009-01-02', '2009-01-05', '2009-01-06', '2009-01-07', '2009-01-09', '2009-01-12', '2009-01-13', '2009-01-14', '2009-01-15', '2009-01-16', '2009-01-19', '2009-01-20', '2009-01-21', '2009-01-22', '2009-01-23', '2009-01-27', '2009-01-28', '2009-01-29', '2009-01-30', '2009-02-02', '2009-02-03', '2009-02-04', '2009-02-05', '2009-02-06', '2009-02-09', '2009-02-10', '2009-02-11', '2009-02-12', '2009-02-13', '2009-02-16', '2009-02-17', '2009-02-18', '2009-02-19', '2009-02-20', '2009-02-24', '2009-02-25', '2009-02-26', '2009-02-27', '2009-03-02', '2009-03-03', '2009-03-04', '2009-03-05', '2009-03-06', '2009-03-09', '2009-03-12', '2009-03-13', '2009-03-16', '2009-03-17', '2009-03-18', '2009-03-19', '2009-03-20', '2009-03-23', '2009-03-24', '2009-03-25', '2009-03-26', '2009-03-27', '2009-03-30', '2009-03-31', '2009-04-01', '2009-04-02', '2009-04-06', '2009-04-08', '2009-04-09', '2009-04-13', '2009-04-15', '2009-04-16', '2009-04-17', '2009-04-20', '2009-04-21', '2009-04-22', '2009-04-23', '2009-04-24', '2009-04-27', '2009-04-28', '2009-04-29', '2009-05-04', '2009-05-05', '2009-05-06', '2009-05-07', '2009-05-08', '2009-05-11', '2009-05-12', '2009-05-13', '2009-05-14', '2009-05-15', '2009-05-18', '2009-05-19', '2009-05-20', '2009-05-21', '2009-05-22', '2009-05-25', '2009-05-26', '2009-05-27', '2009-05-28', '2009-05-29', '2009-06-01', '2009-06-02', '2009-06-03', '2009-06-04', '2009-06-05', '2009-06-08', '2009-06-09', '2009-06-10', '2009-06-11', '2009-06-12', '2009-06-15', '2009-06-16', '2009-06-17', '2009-06-18', '2009-06-19', '2009-06-22', '2009-06-23', '2009-06-24', '2009-06-25', '2009-06-26', '2009-06-29', '2009-06-30', '2009-07-01', '2009-07-02', '2009-07-03', '2009-07-06', '2009-07-07', '2009-07-08', '2009-07-09', '2009-07-10', '2009-07-13', '2009-07-14', '2009-07-15', '2009-07-16', '2009-07-17', '2009-07-20', '2009-07-21', '2009-07-22', '2009-07-23', '2009-07-24', '2009-07-27', '2009-07-28', '2009-07-29', '2009-07-30', '2009-07-31', '2009-08-03', '2009-08-04', '2009-08-05', '2009-08-06', '2009-08-07', '2009-08-10', '2009-08-11', '2009-08-12', '2009-08-13', '2009-08-14', '2009-08-17', '2009-08-18', '2009-08-19', '2009-08-20', '2009-08-21', '2009-08-24', '2009-08-25', '2009-08-26', '2009-08-27', '2009-08-28', '2009-08-31', '2009-09-01', '2009-09-02', '2009-09-03', '2009-09-04', '2009-09-07', '2009-09-08', '2009-09-09', '2009-09-10', '2009-09-11', '2009-09-14', '2009-09-15', '2009-09-16', '2009-09-17', '2009-09-18', '2009-09-22', '2009-09-23', '2009-09-24', '2009-09-25', '2009-09-29', '2009-09-30', '2009-10-01', '2009-10-05', '2009-10-06', '2009-10-07', '2009-10-08', '2009-10-09', '2009-10-12', '2009-10-14', '2009-10-15', '2009-10-16', '2009-10-17', '2009-10-20', '2009-10-21', '2009-10-22', '2009-10-23', '2009-10-26', '2009-10-27', '2009-10-28', '2009-10-29', '2009-10-30', '2009-11-03', '2009-11-04', '2009-11-05', '2009-11-06', '2009-11-09', '2009-11-10', '2009-11-11', '2009-11-12', '2009-11-13', '2009-11-16', '2009-11-17', '2009-11-18', '2009-11-19', '2009-11-20', '2009-11-23', '2009-11-24', '2009-11-25', '2009-11-26', '2009-11-27', '2009-11-30', '2009-12-01', '2009-12-02', '2009-12-03', '2009-12-04', '2009-12-07', '2009-12-08', '2009-12-09', '2009-12-10', '2009-12-11', '2009-12-14', '2009-12-15', '2009-12-16', '2009-12-17', '2009-12-18', '2009-12-21', '2009-12-22', '2009-12-23', '2009-12-24', '2009-12-29', '2009-12-30', '2009-12-31', '2010-01-04', '2010-01-05', '2010-01-06', '2010-01-07', '2010-01-08', '2010-01-11', '2010-01-12', '2010-01-13', '2010-01-14', '2010-01-15', '2010-01-18', '2010-01-19', '2010-01-20', '2010-01-21', '2010-01-22', '2010-01-25', '2010-01-27', '2010-01-28', '2010-01-29', '2010-02-01', '2010-02-02', '2010-02-03', '2010-02-04', '2010-02-05', '2010-02-06', '2010-02-08', '2010-02-09', '2010-02-10', '2010-02-11', '2010-02-15', '2010-02-16', '2010-02-17', '2010-02-18', '2010-02-19', '2010-02-22']\n",
      "\n",
      "\n",
      "\n",
      "\n",
      "['2010-02-23', '2010-02-24', '2010-02-25', '2010-02-26', '2010-03-02', '2010-03-03', '2010-03-04', '2010-03-05', '2010-03-08', '2010-03-09', '2010-03-10', '2010-03-11', '2010-03-12', '2010-03-15', '2010-03-16', '2010-03-17', '2010-03-18', '2010-03-19', '2010-03-22', '2010-03-23', '2010-03-25', '2010-03-26', '2010-03-29', '2010-03-30', '2010-03-31', '2010-04-01', '2010-04-05', '2010-04-06', '2010-04-07', '2010-04-08', '2010-04-09', '2010-04-12', '2010-04-13', '2010-04-15', '2010-04-16', '2010-04-19', '2010-04-20', '2010-04-21', '2010-04-22', '2010-04-23', '2010-04-26', '2010-04-27', '2010-04-28', '2010-04-29', '2010-04-30', '2010-05-03', '2010-05-04', '2010-05-05', '2010-05-06', '2010-05-07', '2010-05-10', '2010-05-11', '2010-05-12', '2010-05-13', '2010-05-14', '2010-05-17', '2010-05-18', '2010-05-19', '2010-05-20', '2010-05-21', '2010-05-24', '2010-05-25', '2010-05-26', '2010-05-27', '2010-05-28', '2010-05-31', '2010-06-01', '2010-06-02', '2010-06-03', '2010-06-04', '2010-06-07', '2010-06-08', '2010-06-09', '2010-06-10', '2010-06-11', '2010-06-14', '2010-06-15', '2010-06-16', '2010-06-17', '2010-06-18', '2010-06-21', '2010-06-22', '2010-06-23', '2010-06-24', '2010-06-25', '2010-06-28', '2010-06-29', '2010-06-30', '2010-07-01', '2010-07-02', '2010-07-05', '2010-07-06', '2010-07-07', '2010-07-08', '2010-07-09', '2010-07-12', '2010-07-13', '2010-07-14', '2010-07-15', '2010-07-16', '2010-07-19', '2010-07-20', '2010-07-21', '2010-07-22', '2010-07-23', '2010-07-26', '2010-07-27', '2010-07-28', '2010-07-29', '2010-07-30', '2010-08-02', '2010-08-03', '2010-08-04', '2010-08-05', '2010-08-06', '2010-08-09', '2010-08-10', '2010-08-11', '2010-08-12', '2010-08-13', '2010-08-16', '2010-08-17', '2010-08-18', '2010-08-19', '2010-08-20', '2010-08-23', '2010-08-24', '2010-08-25', '2010-08-26', '2010-08-27', '2010-08-30', '2010-08-31', '2010-09-01', '2010-09-02', '2010-09-03', '2010-09-06', '2010-09-07', '2010-09-08', '2010-09-09', '2010-09-13', '2010-09-14', '2010-09-15', '2010-09-16', '2010-09-17', '2010-09-20', '2010-09-21', '2010-09-22', '2010-09-23', '2010-09-24', '2010-09-27', '2010-09-28', '2010-09-29', '2010-09-30', '2010-10-01', '2010-10-04', '2010-10-05', '2010-10-06', '2010-10-07', '2010-10-08', '2010-10-11', '2010-10-12', '2010-10-13', '2010-10-14', '2010-10-15', '2010-10-18', '2010-10-19', '2010-10-20', '2010-10-21', '2010-10-22', '2010-10-25', '2010-10-26', '2010-10-27', '2010-10-28', '2010-10-29', '2010-11-01', '2010-11-02', '2010-11-03', '2010-11-04', '2010-11-05', '2010-11-08', '2010-11-09', '2010-11-10', '2010-11-11', '2010-11-12', '2010-11-15', '2010-11-16', '2010-11-18', '2010-11-19', '2010-11-22', '2010-11-23', '2010-11-24', '2010-11-25', '2010-11-26', '2010-11-29', '2010-11-30', '2010-12-01', '2010-12-02', '2010-12-03', '2010-12-06', '2010-12-07', '2010-12-08', '2010-12-09', '2010-12-10', '2010-12-13', '2010-12-14', '2010-12-15', '2010-12-16', '2010-12-20', '2010-12-21', '2010-12-22', '2010-12-23', '2010-12-24', '2010-12-27', '2010-12-28', '2010-12-29', '2010-12-30', '2010-12-31', '2011-01-03', '2011-01-04', '2011-01-05', '2011-01-06', '2011-01-07', '2011-01-10', '2011-01-11', '2011-01-12', '2011-01-13', '2011-01-14', '2011-01-17', '2011-01-18', '2011-01-19', '2011-01-20', '2011-01-21', '2011-01-24', '2011-01-25', '2011-01-27', '2011-01-28', '2011-01-31', '2011-02-01', '2011-02-02', '2011-02-03', '2011-02-04', '2011-02-07', '2011-02-08', '2011-02-09', '2011-02-10', '2011-02-11', '2011-02-14', '2011-02-15', '2011-02-16', '2011-02-17', '2011-02-18', '2011-02-21', '2011-02-22', '2011-02-23', '2011-02-24', '2011-02-25', '2011-02-28', '2011-03-01', '2011-03-03', '2011-03-04', '2011-03-07', '2011-03-08', '2011-03-09', '2011-03-10', '2011-03-11', '2011-03-14', '2011-03-15', '2011-03-16', '2011-03-17', '2011-03-18', '2011-03-21', '2011-03-22', '2011-03-23', '2011-03-24', '2011-03-25', '2011-03-28', '2011-03-29', '2011-03-30', '2011-03-31', '2011-04-01', '2011-04-04', '2011-04-05', '2011-04-06', '2011-04-07', '2011-04-08', '2011-04-11', '2011-04-13', '2011-04-15', '2011-04-18', '2011-04-19', '2011-04-20', '2011-04-21', '2011-04-25', '2011-04-26', '2011-04-27', '2011-04-28', '2011-04-29', '2011-05-02', '2011-05-03', '2011-05-04', '2011-05-05', '2011-05-06', '2011-05-09', '2011-05-10', '2011-05-11', '2011-05-12', '2011-05-13', '2011-05-16', '2011-05-17', '2011-05-18', '2011-05-19', '2011-05-20', '2011-05-23', '2011-05-24', '2011-05-25', '2011-05-26', '2011-05-27', '2011-05-30', '2011-05-31', '2011-06-01', '2011-06-02', '2011-06-03', '2011-06-06', '2011-06-07', '2011-06-08', '2011-06-09', '2011-06-10', '2011-06-13', '2011-06-14', '2011-06-15', '2011-06-16', '2011-06-17', '2011-06-20', '2011-06-21', '2011-06-22', '2011-06-23', '2011-06-24', '2011-06-27', '2011-06-28', '2011-06-29', '2011-06-30', '2011-07-01', '2011-07-04', '2011-07-05', '2011-07-06', '2011-07-07', '2011-07-08', '2011-07-11', '2011-07-12', '2011-07-13', '2011-07-14', '2011-07-15', '2011-07-18', '2011-07-19', '2011-07-20', '2011-07-21', '2011-07-22', '2011-07-25', '2011-07-26', '2011-07-27', '2011-07-28', '2011-07-29', '2011-08-01', '2011-08-02', '2011-08-03', '2011-08-04', '2011-08-05', '2011-08-08', '2011-08-09', '2011-08-10', '2011-08-11', '2011-08-12', '2011-08-16', '2011-08-17', '2011-08-18', '2011-08-19', '2011-08-22', '2011-08-23', '2011-08-24', '2011-08-25', '2011-08-26', '2011-08-29', '2011-08-30', '2011-09-02', '2011-09-05', '2011-09-06', '2011-09-07', '2011-09-08', '2011-09-09', '2011-09-12', '2011-09-13', '2011-09-14', '2011-09-15', '2011-09-16', '2011-09-19', '2011-09-20', '2011-09-21', '2011-09-22', '2011-09-23', '2011-09-26', '2011-09-27', '2011-09-28', '2011-09-29', '2011-09-30', '2011-10-03', '2011-10-04', '2011-10-05', '2011-10-07', '2011-10-10', '2011-10-11', '2011-10-12', '2011-10-13', '2011-10-14', '2011-10-17', '2011-10-18', '2011-10-19', '2011-10-20', '2011-10-21', '2011-10-24', '2011-10-25', '2011-10-26', '2011-10-28', '2011-10-31', '2011-11-01', '2011-11-02', '2011-11-03', '2011-11-04', '2011-11-08', '2011-11-09', '2011-11-11', '2011-11-14', '2011-11-15', '2011-11-16', '2011-11-17', '2011-11-18', '2011-11-21', '2011-11-22', '2011-11-23', '2011-11-24', '2011-11-25', '2011-11-28', '2011-11-29', '2011-11-30', '2011-12-01', '2011-12-02', '2011-12-05', '2011-12-07', '2011-12-08', '2011-12-09', '2011-12-12', '2011-12-13', '2011-12-14', '2011-12-15', '2011-12-16', '2011-12-19', '2011-12-20', '2011-12-21', '2011-12-22', '2011-12-23', '2011-12-26', '2011-12-27', '2011-12-28', '2011-12-29', '2011-12-30', '2012-01-02', '2012-01-03', '2012-01-04', '2012-01-05', '2012-01-06', '2012-01-07', '2012-01-09', '2012-01-10', '2012-01-11', '2012-01-12', '2012-01-13', '2012-01-16', '2012-01-17', '2012-01-18', '2012-01-19', '2012-01-20', '2012-01-23', '2012-01-24', '2012-01-25', '2012-01-27', '2012-01-30', '2012-01-31', '2012-02-01', '2012-02-02', '2012-02-03', '2012-02-06', '2012-02-07', '2012-02-08', '2012-02-09', '2012-02-10', '2012-02-13', '2012-02-14', '2012-02-15', '2012-02-16', '2012-02-17', '2012-02-21', '2012-02-22', '2012-02-23', '2012-02-24', '2012-02-27', '2012-02-28', '2012-02-29', '2012-03-01', '2012-03-02', '2012-03-03', '2012-03-05', '2012-03-06', '2012-03-07', '2012-03-09', '2012-03-12', '2012-03-13', '2012-03-14', '2012-03-15', '2012-03-16', '2012-03-19', '2012-03-20', '2012-03-21', '2012-03-22', '2012-03-23', '2012-03-26', '2012-03-27', '2012-03-28', '2012-03-29', '2012-03-30', '2012-04-02', '2012-04-03', '2012-04-04', '2012-04-09', '2012-04-10', '2012-04-11', '2012-04-12', '2012-04-13', '2012-04-16', '2012-04-17', '2012-04-18', '2012-04-19', '2012-04-20', '2012-04-23', '2012-04-24', '2012-04-25', '2012-04-26', '2012-04-27', '2012-04-28', '2012-04-30', '2012-05-02', '2012-05-03', '2012-05-04', '2012-05-07', '2012-05-08', '2012-05-09', '2012-05-10', '2012-05-11', '2012-05-14', '2012-05-15', '2012-05-16', '2012-05-17', '2012-05-18', '2012-05-21', '2012-05-22', '2012-05-23', '2012-05-24', '2012-05-25', '2012-05-28', '2012-05-29', '2012-05-30', '2012-05-31', '2012-06-01', '2012-06-04', '2012-06-05', '2012-06-06', '2012-06-07', '2012-06-08', '2012-06-11', '2012-06-12', '2012-06-13', '2012-06-14', '2012-06-15', '2012-06-18', '2012-06-19', '2012-06-20', '2012-06-21', '2012-06-22', '2012-06-25', '2012-06-26', '2012-06-27', '2012-06-28', '2012-06-29', '2012-07-02', '2012-07-03', '2012-07-04', '2012-07-05', '2012-07-06', '2012-07-09', '2012-07-10', '2012-07-11', '2012-07-12', '2012-07-13', '2012-07-16', '2012-07-17', '2012-07-18', '2012-07-19', '2012-07-20', '2012-07-23', '2012-07-24', '2012-07-25', '2012-07-26', '2012-07-27', '2012-07-30', '2012-07-31', '2012-08-01', '2012-08-02', '2012-08-03', '2012-08-06', '2012-08-07', '2012-08-08', '2012-08-09', '2012-08-10', '2012-08-13', '2012-08-14', '2012-08-16', '2012-08-17', '2012-08-21', '2012-08-22', '2012-08-23', '2012-08-24', '2012-08-27', '2012-08-28', '2012-08-29', '2012-08-30', '2012-08-31', '2012-09-03', '2012-09-04', '2012-09-05', '2012-09-06', '2012-09-07', '2012-09-08', '2012-09-10', '2012-09-11', '2012-09-12', '2012-09-13', '2012-09-14', '2012-09-17', '2012-09-18', '2012-09-20', '2012-09-21', '2012-09-24', '2012-09-25', '2012-09-26', '2012-09-27', '2012-09-28', '2012-10-01', '2012-10-03', '2012-10-04', '2012-10-05', '2012-10-08', '2012-10-09', '2012-10-10', '2012-10-11', '2012-10-12', '2012-10-15', '2012-10-16', '2012-10-17', '2012-10-18', '2012-10-19', '2012-10-22', '2012-10-23', '2012-10-25', '2012-10-26', '2012-10-29', '2012-10-30', '2012-10-31', '2012-11-01', '2012-11-02', '2012-11-05', '2012-11-06', '2012-11-07', '2012-11-08', '2012-11-09', '2012-11-12', '2012-11-13', '2012-11-15', '2012-11-16', '2012-11-19', '2012-11-20', '2012-11-21', '2012-11-22', '2012-11-23', '2012-11-26', '2012-11-27', '2012-11-29', '2012-11-30', '2012-12-03', '2012-12-04', '2012-12-05', '2012-12-06', '2012-12-07', '2012-12-10', '2012-12-11', '2012-12-12', '2012-12-13', '2012-12-14', '2012-12-17', '2012-12-18', '2012-12-19', '2012-12-20', '2012-12-21', '2012-12-24', '2012-12-26', '2012-12-27', '2012-12-28', '2012-12-31', '2013-01-01', '2013-01-02', '2013-01-03', '2013-01-04', '2013-01-07', '2013-01-08', '2013-01-09', '2013-01-10', '2013-01-11', '2013-01-14', '2013-01-15', '2013-01-16', '2013-01-17', '2013-01-18', '2013-01-21', '2013-01-22', '2013-01-23', '2013-01-24', '2013-01-25', '2013-01-28', '2013-01-29', '2013-01-30', '2013-01-31', '2013-02-01', '2013-02-04', '2013-02-05', '2013-02-06', '2013-02-07', '2013-02-08', '2013-02-11', '2013-02-12', '2013-02-13', '2013-02-14', '2013-02-15', '2013-02-18', '2013-02-19', '2013-02-20', '2013-02-21', '2013-02-22', '2013-02-25', '2013-02-26', '2013-02-27', '2013-02-28', '2013-03-01', '2013-03-04', '2013-03-05', '2013-03-06', '2013-03-07', '2013-03-08', '2013-03-11', '2013-03-12', '2013-03-13', '2013-03-14', '2013-03-15', '2013-03-18', '2013-03-19', '2013-03-20', '2013-03-21', '2013-03-22', '2013-03-25', '2013-03-26', '2013-03-28', '2013-04-01', '2013-04-02', '2013-04-03', '2013-04-04', '2013-04-05', '2013-04-08', '2013-04-09', '2013-04-10', '2013-04-11', '2013-04-12', '2013-04-15', '2013-04-16', '2013-04-17', '2013-04-18', '2013-04-22', '2013-04-23', '2013-04-25', '2013-04-26', '2013-04-29', '2013-04-30', '2013-05-02', '2013-05-03', '2013-05-06', '2013-05-07', '2013-05-08', '2013-05-09', '2013-05-10', '2013-05-11', '2013-05-13', '2013-05-14', '2013-05-15', '2013-05-16', '2013-05-17', '2013-05-20', '2013-05-21', '2013-05-22', '2013-05-23', '2013-05-24', '2013-05-27', '2013-05-28', '2013-05-29', '2013-05-30', '2013-05-31', '2013-06-03', '2013-06-04', '2013-06-05', '2013-06-06', '2013-06-07', '2013-06-10', '2013-06-11', '2013-06-12', '2013-06-13', '2013-06-14', '2013-06-17', '2013-06-18', '2013-06-19', '2013-06-20', '2013-06-21', '2013-06-24', '2013-06-25', '2013-06-26', '2013-06-27', '2013-06-28', '2013-07-01', '2013-07-02', '2013-07-03', '2013-07-04', '2013-07-05', '2013-07-08', '2013-07-09', '2013-07-10', '2013-07-11', '2013-07-12', '2013-07-15', '2013-07-16', '2013-07-17', '2013-07-18', '2013-07-19', '2013-07-22', '2013-07-23', '2013-07-24', '2013-07-25', '2013-07-26', '2013-07-29', '2013-07-30', '2013-07-31', '2013-08-01', '2013-08-02', '2013-08-05', '2013-08-06', '2013-08-07', '2013-08-08', '2013-08-12', '2013-08-13', '2013-08-14', '2013-08-16', '2013-08-19', '2013-08-20', '2013-08-21', '2013-08-22', '2013-08-23', '2013-08-26', '2013-08-27', '2013-08-28', '2013-08-29', '2013-08-30', '2013-09-02', '2013-09-03', '2013-09-04', '2013-09-05', '2013-09-06', '2013-09-10', '2013-09-11', '2013-09-12', '2013-09-13', '2013-09-16', '2013-09-17', '2013-09-18', '2013-09-19', '2013-09-20', '2013-09-23', '2013-09-24', '2013-09-25', '2013-09-26', '2013-09-27', '2013-09-30', '2013-10-01', '2013-10-03', '2013-10-04', '2013-10-07', '2013-10-08', '2013-10-09', '2013-10-10', '2013-10-11', '2013-10-14', '2013-10-15', '2013-10-17', '2013-10-18', '2013-10-21', '2013-10-22', '2013-10-23', '2013-10-24', '2013-10-25', '2013-10-28', '2013-10-29', '2013-10-30', '2013-10-31', '2013-11-01', '2013-11-03', '2013-11-05', '2013-11-06', '2013-11-07', '2013-11-08', '2013-11-11', '2013-11-12', '2013-11-13', '2013-11-14', '2013-11-18', '2013-11-19', '2013-11-20', '2013-11-21', '2013-11-22', '2013-11-25', '2013-11-26', '2013-11-27', '2013-11-28', '2013-11-29', '2013-12-02', '2013-12-03', '2013-12-04', '2013-12-05', '2013-12-06', '2013-12-09', '2013-12-10', '2013-12-11', '2013-12-12', '2013-12-13', '2013-12-16', '2013-12-17', '2013-12-18', '2013-12-19', '2013-12-20', '2013-12-23', '2013-12-24', '2013-12-26', '2013-12-27', '2013-12-30', '2013-12-31', '2014-01-01', '2014-01-02', '2014-01-03', '2014-01-06', '2014-01-07', '2014-01-08', '2014-01-09', '2014-01-10', '2014-01-13', '2014-01-14', '2014-01-15', '2014-01-16', '2014-01-17', '2014-01-20', '2014-01-21', '2014-01-22', '2014-01-23', '2014-01-24', '2014-01-27', '2014-01-28', '2014-01-29', '2014-01-30', '2014-01-31', '2014-02-03', '2014-02-04', '2014-02-05', '2014-02-06', '2014-02-07', '2014-02-10', '2014-02-11', '2014-02-12', '2014-02-13', '2014-02-14', '2014-02-17', '2014-02-18', '2014-02-19', '2014-02-20', '2014-02-21', '2014-02-24', '2014-02-25', '2014-02-26', '2014-02-28', '2014-03-03', '2014-03-04', '2014-03-05', '2014-03-06', '2014-03-07', '2014-03-10', '2014-03-11', '2014-03-12', '2014-03-13', '2014-03-14', '2014-03-18', '2014-03-19', '2014-03-20', '2014-03-21', '2014-03-22', '2014-03-24', '2014-03-25', '2014-03-26', '2014-03-27', '2014-03-28', '2014-03-31', '2014-04-01', '2014-04-02', '2014-04-03', '2014-04-04', '2014-04-07', '2014-04-09', '2014-04-10', '2014-04-11', '2014-04-15', '2014-04-16', '2014-04-17', '2014-04-21', '2014-04-22', '2014-04-23', '2014-04-25', '2014-04-28', '2014-04-29', '2014-04-30', '2014-05-02', '2014-05-05', '2014-05-06', '2014-05-07', '2014-05-08', '2014-05-09', '2014-05-12', '2014-05-13', '2014-05-14', '2014-05-15', '2014-05-16', '2014-05-19', '2014-05-20', '2014-05-21', '2014-05-22', '2014-05-23', '2014-05-26', '2014-05-27', '2014-05-28', '2014-05-29', '2014-05-30', '2014-06-02', '2014-06-03', '2014-06-04', '2014-06-05', '2014-06-06', '2014-06-09', '2014-06-10', '2014-06-11', '2014-06-12', '2014-06-13', '2014-06-16', '2014-06-17', '2014-06-18', '2014-06-19', '2014-06-20', '2014-06-23', '2014-06-24', '2014-06-25', '2014-06-26', '2014-06-27', '2014-06-30', '2014-07-01', '2014-07-02', '2014-07-03', '2014-07-04', '2014-07-07', '2014-07-08', '2014-07-09', '2014-07-10', '2014-07-11', '2014-07-14', '2014-07-15', '2014-07-16', '2014-07-17', '2014-07-18', '2014-07-21', '2014-07-22', '2014-07-23', '2014-07-24', '2014-07-25', '2014-07-28', '2014-07-30', '2014-07-31', '2014-08-01', '2014-08-04', '2014-08-05', '2014-08-06', '2014-08-07', '2014-08-08', '2014-08-11', '2014-08-12', '2014-08-13', '2014-08-14', '2014-08-18', '2014-08-19', '2014-08-20', '2014-08-21', '2014-08-22', '2014-08-25', '2014-08-26', '2014-08-27', '2014-08-28', '2014-09-01', '2014-09-02', '2014-09-03', '2014-09-04', '2014-09-05', '2014-09-08', '2014-09-09', '2014-09-10', '2014-09-11', '2014-09-12', '2014-09-15', '2014-09-16', '2014-09-17', '2014-09-18', '2014-09-19', '2014-09-22', '2014-09-23', '2014-09-24', '2014-09-25', '2014-09-26', '2014-09-29', '2014-09-30', '2014-10-01', '2014-10-07', '2014-10-08', '2014-10-09', '2014-10-10', '2014-10-13', '2014-10-14', '2014-10-16', '2014-10-17', '2014-10-20', '2014-10-21', '2014-10-22', '2014-10-23', '2014-10-27', '2014-10-28', '2014-10-29', '2014-10-30', '2014-10-31', '2014-11-03', '2014-11-05', '2014-11-07', '2014-11-10', '2014-11-11', '2014-11-12', '2014-11-13', '2014-11-14', '2014-11-17', '2014-11-18', '2014-11-19', '2014-11-20', '2014-11-21', '2014-11-24', '2014-11-25', '2014-11-26', '2014-11-27', '2014-11-28', '2014-12-01', '2014-12-02', '2014-12-03', '2014-12-04', '2014-12-05', '2014-12-08', '2014-12-09', '2014-12-10', '2014-12-11', '2014-12-12', '2014-12-15', '2014-12-16', '2014-12-17', '2014-12-18', '2014-12-19', '2014-12-22', '2014-12-23', '2014-12-24', '2014-12-26', '2014-12-29', '2014-12-30', '2014-12-31', '2015-01-01', '2015-01-02', '2015-01-05', '2015-01-06', '2015-01-07', '2015-01-08', '2015-01-09', '2015-01-12', '2015-01-13', '2015-01-14', '2015-01-15', '2015-01-16', '2015-01-19', '2015-01-20', '2015-01-21', '2015-01-22', '2015-01-23', '2015-01-27', '2015-01-28', '2015-01-29', '2015-01-30', '2015-02-02', '2015-02-03', '2015-02-04', '2015-02-05', '2015-02-06', '2015-02-09', '2015-02-10', '2015-02-11', '2015-02-12', '2015-02-13', '2015-02-16', '2015-02-18', '2015-02-19', '2015-02-20', '2015-02-23', '2015-02-24', '2015-02-25', '2015-02-26', '2015-02-27', '2015-02-28', '2015-03-02', '2015-03-03', '2015-03-04', '2015-03-05', '2015-03-09', '2015-03-10', '2015-03-11', '2015-03-12', '2015-03-13', '2015-03-16', '2015-03-17', '2015-03-18', '2015-03-19', '2015-03-20', '2015-03-23', '2015-03-24', '2015-03-25', '2015-03-26', '2015-03-27', '2015-03-30', '2015-03-31', '2015-04-01', '2015-04-06', '2015-04-07', '2015-04-08', '2015-04-09', '2015-04-10', '2015-04-13', '2015-04-15', '2015-04-16', '2015-04-17', '2015-04-20', '2015-04-21', '2015-04-22', '2015-04-23', '2015-04-24', '2015-04-27', '2015-04-28', '2015-04-29', '2015-04-30', '2015-05-04', '2015-05-05', '2015-05-06', '2015-05-07', '2015-05-08', '2015-05-11', '2015-05-12', '2015-05-13', '2015-05-14', '2015-05-15', '2015-05-18', '2015-05-19', '2015-05-20', '2015-05-21', '2015-05-22', '2015-05-25', '2015-05-26', '2015-05-27', '2015-05-28', '2015-05-29', '2015-06-01', '2015-06-02', '2015-06-03', '2015-06-04', '2015-06-05', '2015-06-08', '2015-06-09', '2015-06-10', '2015-06-11', '2015-06-12', '2015-06-15', '2015-06-16', '2015-06-17', '2015-06-18', '2015-06-19', '2015-06-22', '2015-06-23', '2015-06-24', '2015-06-25', '2015-06-26', '2015-06-29', '2015-06-30', '2015-07-01', '2015-07-02', '2015-07-03', '2015-07-06', '2015-07-07', '2015-07-08', '2015-07-09', '2015-07-10', '2015-07-13', '2015-07-14', '2015-07-15', '2015-07-16', '2015-07-17', '2015-07-20', '2015-07-21', '2015-07-22', '2015-07-23', '2015-07-24', '2015-07-27', '2015-07-28', '2015-07-29', '2015-07-30', '2015-07-31', '2015-08-03', '2015-08-04', '2015-08-05', '2015-08-06', '2015-08-07', '2015-08-10', '2015-08-11', '2015-08-12', '2015-08-13', '2015-08-14', '2015-08-17', '2015-08-18', '2015-08-19', '2015-08-20', '2015-08-21', '2015-08-24', '2015-08-25', '2015-08-26', '2015-08-27', '2015-08-28', '2015-08-31', '2015-09-01', '2015-09-02', '2015-09-03', '2015-09-04', '2015-09-07', '2015-09-08', '2015-09-09', '2015-09-10', '2015-09-11', '2015-09-14', '2015-09-15', '2015-09-16', '2015-09-18', '2015-09-21', '2015-09-22', '2015-09-23', '2015-09-24', '2015-09-28', '2015-09-29', '2015-09-30', '2015-10-01', '2015-10-05', '2015-10-06', '2015-10-07', '2015-10-08', '2015-10-09', '2015-10-12', '2015-10-13', '2015-10-14', '2015-10-15', '2015-10-16', '2015-10-19', '2015-10-20', '2015-10-21', '2015-10-23', '2015-10-26', '2015-10-27', '2015-10-28', '2015-10-29', '2015-10-30', '2015-11-02', '2015-11-03', '2015-11-04', '2015-11-05', '2015-11-06', '2015-11-09', '2015-11-10', '2015-11-11', '2015-11-13', '2015-11-16', '2015-11-17', '2015-11-18', '2015-11-19', '2015-11-20', '2015-11-23', '2015-11-24', '2015-11-26', '2015-11-27', '2015-11-30', '2015-12-01', '2015-12-02', '2015-12-03', '2015-12-04', '2015-12-07', '2015-12-08', '2015-12-09', '2015-12-10', '2015-12-11', '2015-12-14', '2015-12-15', '2015-12-16', '2015-12-17', '2015-12-18', '2015-12-21', '2015-12-22', '2015-12-23', '2015-12-24', '2015-12-28', '2015-12-29', '2015-12-30', '2015-12-31', '2016-01-01', '2016-01-04', '2016-01-05', '2016-01-06', '2016-01-07', '2016-01-08', '2016-01-11', '2016-01-12', '2016-01-13', '2016-01-14', '2016-01-15', '2016-01-18', '2016-01-19', '2016-01-20', '2016-01-21', '2016-01-22', '2016-01-25', '2016-01-27', '2016-01-28', '2016-01-29', '2016-02-01', '2016-02-02', '2016-02-03', '2016-02-04', '2016-02-05', '2016-02-08', '2016-02-09', '2016-02-10', '2016-02-11', '2016-02-12', '2016-02-15', '2016-02-16', '2016-02-17', '2016-02-18', '2016-02-19', '2016-02-22', '2016-02-23', '2016-02-24', '2016-02-25', '2016-02-26', '2016-02-29', '2016-03-01', '2016-03-02', '2016-03-03', '2016-03-04', '2016-03-08', '2016-03-09', '2016-03-10', '2016-03-11', '2016-03-14', '2016-03-15', '2016-03-16', '2016-03-17', '2016-03-18', '2016-03-21', '2016-03-22', '2016-03-23', '2016-03-28', '2016-03-29', '2016-03-30', '2016-03-31', '2016-04-01', '2016-04-04', '2016-04-05', '2016-04-06', '2016-04-07', '2016-04-08', '2016-04-11', '2016-04-12', '2016-04-13', '2016-04-18', '2016-04-20', '2016-04-21', '2016-04-22', '2016-04-25', '2016-04-26', '2016-04-27', '2016-04-28', '2016-04-29', '2016-05-02', '2016-05-03', '2016-05-04', '2016-05-05', '2016-05-06', '2016-05-09', '2016-05-10', '2016-05-11', '2016-05-12', '2016-05-13', '2016-05-16', '2016-05-17', '2016-05-18', '2016-05-19', '2016-05-20', '2016-05-23', '2016-05-24', '2016-05-25', '2016-05-26', '2016-05-27', '2016-05-30', '2016-05-31', '2016-06-01', '2016-06-02', '2016-06-03', '2016-06-06', '2016-06-07', '2016-06-08', '2016-06-09', '2016-06-10', '2016-06-13', '2016-06-14', '2016-06-15', '2016-06-16', '2016-06-17', '2016-06-20', '2016-06-21', '2016-06-22', '2016-06-23', '2016-06-24', '2016-06-27', '2016-06-28', '2016-06-29', '2016-06-30', '2016-07-01', '2016-07-04', '2016-07-05', '2016-07-07', '2016-07-08', '2016-07-11', '2016-07-12', '2016-07-13', '2016-07-14', '2016-07-15', '2016-07-18', '2016-07-19', '2016-07-20', '2016-07-21', '2016-07-22', '2016-07-25', '2016-07-26', '2016-07-27', '2016-07-28', '2016-07-29', '2016-08-01', '2016-08-02', '2016-08-03', '2016-08-04', '2016-08-05', '2016-08-08', '2016-08-09', '2016-08-10', '2016-08-11', '2016-08-12', '2016-08-16', '2016-08-17', '2016-08-18', '2016-08-19', '2016-08-22', '2016-08-23', '2016-08-24', '2016-08-25', '2016-08-26', '2016-08-29', '2016-08-30', '2016-08-31', '2016-09-01', '2016-09-02', '2016-09-06', '2016-09-07', '2016-09-08', '2016-09-09', '2016-09-12', '2016-09-14', '2016-09-15', '2016-09-16', '2016-09-19', '2016-09-20', '2016-09-21', '2016-09-22', '2016-09-23', '2016-09-26', '2016-09-27', '2016-09-28', '2016-09-29', '2016-09-30', '2016-10-03', '2016-10-04', '2016-10-05', '2016-10-06', '2016-10-07', '2016-10-10', '2016-10-13', '2016-10-14', '2016-10-17', '2016-10-18', '2016-10-19', '2016-10-20', '2016-10-21', '2016-10-24', '2016-10-25', '2016-10-26', '2016-10-27', '2016-10-28', '2016-10-30', '2016-11-01', '2016-11-02', '2016-11-03', '2016-11-04', '2016-11-07', '2016-11-08', '2016-11-09', '2016-11-10', '2016-11-11', '2016-11-15', '2016-11-16', '2016-11-17', '2016-11-18', '2016-11-21', '2016-11-22', '2016-11-23', '2016-11-24', '2016-11-25', '2016-11-28', '2016-11-29', '2016-11-30', '2016-12-01', '2016-12-02', '2016-12-05', '2016-12-06', '2016-12-07', '2016-12-08', '2016-12-09', '2016-12-12', '2016-12-13', '2016-12-14', '2016-12-15', '2016-12-16', '2016-12-19', '2016-12-20', '2016-12-21', '2016-12-22', '2016-12-23', '2016-12-26', '2016-12-27', '2016-12-28', '2016-12-29', '2016-12-30', '2017-01-02', '2017-01-03', '2017-01-04', '2017-01-05', '2017-01-06', '2017-01-09', '2017-01-10', '2017-01-11', '2017-01-12', '2017-01-13', '2017-01-16', '2017-01-17', '2017-01-18', '2017-01-19', '2017-01-20', '2017-01-23', '2017-01-24', '2017-01-25', '2017-01-27', '2017-01-30', '2017-01-31', '2017-02-01', '2017-02-02', '2017-02-03', '2017-02-06', '2017-02-07', '2017-02-08', '2017-02-09', '2017-02-10', '2017-02-13', '2017-02-14', '2017-02-15', '2017-02-16', '2017-02-17', '2017-02-20', '2017-02-21', '2017-02-22', '2017-02-23', '2017-02-27', '2017-02-28', '2017-03-01', '2017-03-02', '2017-03-03', '2017-03-06', '2017-03-07', '2017-03-08', '2017-03-09', '2017-03-10', '2017-03-14', '2017-03-15', '2017-03-16', '2017-03-17', '2017-03-20', '2017-03-21', '2017-03-22', '2017-03-23', '2017-03-24', '2017-03-27', '2017-03-28', '2017-03-29', '2017-03-30', '2017-03-31', '2017-04-03', '2017-04-05', '2017-04-06', '2017-04-07', '2017-04-10', '2017-04-11', '2017-04-12', '2017-04-13', '2017-04-17', '2017-04-18', '2017-04-19', '2017-04-20', '2017-04-21', '2017-04-24', '2017-04-25', '2017-04-26', '2017-04-27', '2017-04-28', '2017-05-02', '2017-05-03', '2017-05-04', '2017-05-05', '2017-05-08', '2017-05-09', '2017-05-10', '2017-05-11', '2017-05-12', '2017-05-15', '2017-05-16', '2017-05-17', '2017-05-18', '2017-05-19', '2017-05-22', '2017-05-23', '2017-05-24', '2017-05-25', '2017-05-26', '2017-05-29', '2017-05-30', '2017-05-31', '2017-06-01', '2017-06-02', '2017-06-05', '2017-06-06', '2017-06-07', '2017-06-08', '2017-06-09', '2017-06-12', '2017-06-13', '2017-06-14', '2017-06-15', '2017-06-16', '2017-06-19', '2017-06-20', '2017-06-21', '2017-06-22', '2017-06-23', '2017-06-27', '2017-06-28', '2017-06-29', '2017-06-30', '2017-07-03', '2017-07-04', '2017-07-05', '2017-07-06', '2017-07-07', '2017-07-10', '2017-07-11', '2017-07-12', '2017-07-13', '2017-07-14', '2017-07-17', '2017-07-18', '2017-07-19', '2017-07-20', '2017-07-21', '2017-07-24', '2017-07-25', '2017-07-26', '2017-07-27', '2017-07-28', '2017-07-31', '2017-08-01', '2017-08-02', '2017-08-03', '2017-08-04', '2017-08-07', '2017-08-08', '2017-08-09', '2017-08-10', '2017-08-11', '2017-08-14', '2017-08-16', '2017-08-17', '2017-08-18', '2017-08-21', '2017-08-22', '2017-08-23', '2017-08-24', '2017-08-28', '2017-08-29', '2017-08-30', '2017-08-31', '2017-09-01', '2017-09-04', '2017-09-05', '2017-09-06', '2017-09-07', '2017-09-08', '2017-09-11', '2017-09-12', '2017-09-13', '2017-09-14', '2017-09-15', '2017-09-18', '2017-09-19', '2017-09-20', '2017-09-21', '2017-09-22', '2017-09-25', '2017-09-26', '2017-09-27', '2017-09-28', '2017-09-29', '2017-10-03', '2017-10-04', '2017-10-05', '2017-10-06', '2017-10-09', '2017-10-10', '2017-10-11', '2017-10-12', '2017-10-13', '2017-10-16', '2017-10-17', '2017-10-18', '2017-10-19', '2017-10-23', '2017-10-24', '2017-10-25', '2017-10-26', '2017-10-27', '2017-10-30', '2017-10-31', '2017-11-01', '2017-11-02', '2017-11-03', '2017-11-06', '2017-11-07', '2017-11-08', '2017-11-09', '2017-11-10', '2017-11-13', '2017-11-14', '2017-11-15', '2017-11-16', '2017-11-17', '2017-11-20', '2017-11-21', '2017-11-22', '2017-11-23', '2017-11-24', '2017-11-27', '2017-11-28', '2017-11-29', '2017-11-30', '2017-12-01', '2017-12-04', '2017-12-05', '2017-12-06', '2017-12-07', '2017-12-08', '2017-12-11', '2017-12-12', '2017-12-13', '2017-12-14', '2017-12-15', '2017-12-18', '2017-12-19', '2017-12-20', '2017-12-21', '2017-12-22', '2017-12-26', '2017-12-27', '2017-12-28', '2017-12-29', '2018-01-01', '2018-01-02', '2018-01-03', '2018-01-04', '2018-01-05', '2018-01-08', '2018-01-09', '2018-01-10', '2018-01-11', '2018-01-12', '2018-01-15', '2018-01-16', '2018-01-17', '2018-01-18', '2018-01-19', '2018-01-22', '2018-01-23', '2018-01-24', '2018-01-25', '2018-01-29', '2018-01-30', '2018-01-31', '2018-02-01', '2018-02-02', '2018-02-05', '2018-02-06', '2018-02-07', '2018-02-08', '2018-02-09', '2018-02-12', '2018-02-14', '2018-02-15', '2018-02-16', '2018-02-19', '2018-02-20', '2018-02-21', '2018-02-22', '2018-02-23', '2018-02-26', '2018-02-27', '2018-02-28', '2018-03-01', '2018-03-05', '2018-03-06', '2018-03-07', '2018-03-08', '2018-03-09', '2018-03-12', '2018-03-13', '2018-03-14', '2018-03-15', '2018-03-16', '2018-03-19', '2018-03-20', '2018-03-21', '2018-03-22', '2018-03-23', '2018-03-26', '2018-03-27', '2018-03-28', '2018-04-02', '2018-04-03', '2018-04-04', '2018-04-05', '2018-04-06', '2018-04-09', '2018-04-10', '2018-04-11', '2018-04-12', '2018-04-13', '2018-04-16', '2018-04-17', '2018-04-18', '2018-04-19', '2018-04-20', '2018-04-23', '2018-04-24', '2018-04-25', '2018-04-26', '2018-04-27', '2018-04-30', '2018-05-02', '2018-05-03', '2018-05-04', '2018-05-07', '2018-05-08', '2018-05-09', '2018-05-10', '2018-05-11', '2018-05-14', '2018-05-15', '2018-05-16', '2018-05-17', '2018-05-18', '2018-05-21', '2018-05-22', '2018-05-23', '2018-05-24', '2018-05-25', '2018-05-28', '2018-05-29', '2018-05-30', '2018-05-31', '2018-06-01', '2018-06-04', '2018-06-05', '2018-06-06', '2018-06-07', '2018-06-08', '2018-06-11', '2018-06-12', '2018-06-13', '2018-06-14', '2018-06-15', '2018-06-18', '2018-06-19', '2018-06-20', '2018-06-21', '2018-06-22', '2018-06-25', '2018-06-26', '2018-06-27', '2018-06-28', '2018-06-29', '2018-07-02', '2018-07-03', '2018-07-04', '2018-07-05', '2018-07-06', '2018-07-09', '2018-07-10', '2018-07-11', '2018-07-12', '2018-07-13', '2018-07-16', '2018-07-17', '2018-07-18', '2018-07-19', '2018-07-20', '2018-07-23', '2018-07-24', '2018-07-25', '2018-07-26', '2018-07-27', '2018-07-30', '2018-07-31', '2018-08-01', '2018-08-02', '2018-08-03', '2018-08-06', '2018-08-07', '2018-08-08', '2018-08-09', '2018-08-10', '2018-08-13', '2018-08-14', '2018-08-16', '2018-08-17', '2018-08-20', '2018-08-21', '2018-08-23', '2018-08-24', '2018-08-27', '2018-08-28', '2018-08-29', '2018-08-30', '2018-08-31', '2018-09-03', '2018-09-04', '2018-09-05', '2018-09-06', '2018-09-07', '2018-09-10', '2018-09-11', '2018-09-12', '2018-09-14', '2018-09-17', '2018-09-18', '2018-09-19', '2018-09-21', '2018-09-24', '2018-09-25', '2018-09-26', '2018-09-27', '2018-09-28', '2018-10-01', '2018-10-03', '2018-10-04', '2018-10-05', '2018-10-08', '2018-10-09', '2018-10-10', '2018-10-11', '2018-10-12', '2018-10-15', '2018-10-16', '2018-10-17', '2018-10-19', '2018-10-22', '2018-10-23', '2018-10-24', '2018-10-25', '2018-10-26', '2018-10-29', '2018-10-30', '2018-10-31', '2018-11-01', '2018-11-02', '2018-11-05', '2018-11-06', '2018-11-07', '2018-11-09', '2018-11-12', '2018-11-13', '2018-11-14', '2018-11-15', '2018-11-16', '2018-11-19', '2018-11-20', '2018-11-21', '2018-11-22', '2018-11-26', '2018-11-27', '2018-11-28', '2018-11-29', '2018-11-30', '2018-12-03', '2018-12-04', '2018-12-05', '2018-12-06', '2018-12-07', '2018-12-10', '2018-12-11', '2018-12-12', '2018-12-13', '2018-12-14', '2018-12-17', '2018-12-18', '2018-12-19', '2018-12-20', '2018-12-21', '2018-12-24', '2018-12-26', '2018-12-27', '2018-12-28', '2018-12-31', '2019-01-01', '2019-01-02', '2019-01-03', '2019-01-04', '2019-01-07', '2019-01-08', '2019-01-09', '2019-01-10', '2019-01-11', '2019-01-14', '2019-01-15', '2019-01-16', '2019-01-17', '2019-01-18', '2019-01-21', '2019-01-22', '2019-01-23', '2019-01-24', '2019-01-25', '2019-01-28', '2019-01-29', '2019-01-30', '2019-01-31', '2019-02-01', '2019-02-04', '2019-02-05', '2019-02-06', '2019-02-07', '2019-02-08', '2019-02-11', '2019-02-12', '2019-02-13', '2019-02-14', '2019-02-15', '2019-02-18', '2019-02-19', '2019-02-20', '2019-02-21', '2019-02-22', '2019-02-25', '2019-02-26', '2019-02-27', '2019-02-28', '2019-03-01', '2019-03-05', '2019-03-06', '2019-03-07', '2019-03-08', '2019-03-11', '2019-03-12', '2019-03-13', '2019-03-14', '2019-03-15', '2019-03-18', '2019-03-19', '2019-03-20', '2019-03-22', '2019-03-25', '2019-03-26', '2019-03-27', '2019-03-28', '2019-03-29', '2019-04-01', '2019-04-02', '2019-04-03', '2019-04-04', '2019-04-05', '2019-04-08', '2019-04-09', '2019-04-10', '2019-04-11', '2019-04-12', '2019-04-15', '2019-04-16', '2019-04-18', '2019-04-22', '2019-04-23', '2019-04-24', '2019-04-25', '2019-04-26', '2019-04-30', '2019-05-02', '2019-05-03', '2019-05-06', '2019-05-07', '2019-05-08', '2019-05-09', '2019-05-10', '2019-05-13', '2019-05-14', '2019-05-15', '2019-05-16', '2019-05-17', '2019-05-20', '2019-05-21', '2019-05-22', '2019-05-23', '2019-05-24', '2019-05-27', '2019-05-28', '2019-05-29', '2019-05-30', '2019-05-31', '2019-06-03', '2019-06-04', '2019-06-06', '2019-06-07', '2019-06-10', '2019-06-11', '2019-06-12', '2019-06-13', '2019-06-14', '2019-06-17', '2019-06-18', '2019-06-19', '2019-06-20', '2019-06-21', '2019-06-24', '2019-06-25', '2019-06-26', '2019-06-27', '2019-06-28', '2019-07-01', '2019-07-02', '2019-07-03', '2019-07-04', '2019-07-05', '2019-07-08', '2019-07-09', '2019-07-10', '2019-07-11', '2019-07-12', '2019-07-15', '2019-07-16', '2019-07-17', '2019-07-18', '2019-07-19', '2019-07-22', '2019-07-23', '2019-07-24', '2019-07-25', '2019-07-26', '2019-07-29', '2019-07-30', '2019-07-31', '2019-08-01', '2019-08-02', '2019-08-05', '2019-08-06', '2019-08-07', '2019-08-08', '2019-08-09', '2019-08-13', '2019-08-14', '2019-08-16', '2019-08-19', '2019-08-20', '2019-08-21', '2019-08-22', '2019-08-23', '2019-08-26', '2019-08-27', '2019-08-28', '2019-08-29', '2019-08-30', '2019-09-03', '2019-09-04', '2019-09-05', '2019-09-06', '2019-09-09', '2019-09-11', '2019-09-12', '2019-09-13', '2019-09-16', '2019-09-17', '2019-09-18', '2019-09-19', '2019-09-20', '2019-09-23', '2019-09-24', '2019-09-25', '2019-09-26', '2019-09-27', '2019-09-30', '2019-10-01', '2019-10-03', '2019-10-04', '2019-10-07', '2019-10-09', '2019-10-10', '2019-10-11', '2019-10-14', '2019-10-15', '2019-10-16', '2019-10-17', '2019-10-18', '2019-10-22', '2019-10-23', '2019-10-24', '2019-10-25', '2019-10-27', '2019-10-29', '2019-10-30', '2019-10-31', '2019-11-01', '2019-11-04', '2019-11-05', '2019-11-06', '2019-11-07', '2019-11-08', '2019-11-11', '2019-11-13', '2019-11-14', '2019-11-15', '2019-11-18', '2019-11-19', '2019-11-20', '2019-11-21', '2019-11-22', '2019-11-25', '2019-11-26', '2019-11-27', '2019-11-28', '2019-11-29', '2019-12-02', '2019-12-03', '2019-12-04', '2019-12-05', '2019-12-06', '2019-12-09', '2019-12-10', '2019-12-11', '2019-12-12', '2019-12-13', '2019-12-16', '2019-12-17', '2019-12-18', '2019-12-19', '2019-12-20', '2019-12-23', '2019-12-24', '2019-12-26', '2019-12-27', '2019-12-30', '2019-12-31', '2020-01-01', '2020-01-02', '2020-01-03', '2020-01-06', '2020-01-07', '2020-01-08', '2020-01-09', '2020-01-10', '2020-01-13', '2020-01-14', '2020-01-15', '2020-01-16', '2020-01-17', '2020-01-20', '2020-01-21', '2020-01-22', '2020-01-23', '2020-01-24', '2020-01-27', '2020-01-28', '2020-01-29', '2020-01-30', '2020-01-31', '2020-02-01', '2020-02-03', '2020-02-04', '2020-02-05', '2020-02-06', '2020-02-07', '2020-02-10', '2020-02-11', '2020-02-12', '2020-02-13', '2020-02-14', '2020-02-17', '2020-02-18', '2020-02-19', '2020-02-20', '2020-02-24', '2020-02-25', '2020-02-26', '2020-02-27', '2020-02-28', '2020-03-02', '2020-03-03', '2020-03-04', '2020-03-05', '2020-03-06', '2020-03-09', '2020-03-11', '2020-03-12', '2020-03-13', '2020-03-16', '2020-03-17', '2020-03-18', '2020-03-19', '2020-03-20', '2020-03-23', '2020-03-24', '2020-03-25', '2020-03-26', '2020-03-27', '2020-03-30', '2020-03-31', '2020-04-01', '2020-04-03', '2020-04-07', '2020-04-08', '2020-04-09', '2020-04-13', '2020-04-15', '2020-04-16', '2020-04-17', '2020-04-20', '2020-04-21', '2020-04-22', '2020-04-23', '2020-04-24', '2020-04-27', '2020-04-28', '2020-04-29', '2020-04-30', '2020-05-04', '2020-05-05', '2020-05-06', '2020-05-07', '2020-05-08']\n"
     ]
    }
   ],
   "source": [
    "arr3=[]\n",
    "arr4=[]\n",
    "for i in df['Date']:\n",
    "    if (i<= df['Date'].iloc[2530]):\n",
    "        arr3.append(i)\n",
    "    else:\n",
    "        arr4.append(i)\n",
    "print(arr3)\n",
    "print('\\n\\n\\n')\n",
    "print(arr4)\n",
    "\n",
    "    \n",
    "    \n",
    "    \n",
    "    "
   ]
  },
  {
   "cell_type": "code",
   "execution_count": 20,
   "metadata": {},
   "outputs": [
    {
     "data": {
      "text/plain": [
       "'2010-02-22'"
      ]
     },
     "execution_count": 20,
     "metadata": {},
     "output_type": "execute_result"
    }
   ],
   "source": [
    "df['Date'].iloc[2530]"
   ]
  },
  {
   "cell_type": "code",
   "execution_count": 21,
   "metadata": {},
   "outputs": [
    {
     "data": {
      "text/plain": [
       "'2020-05-08'"
      ]
     },
     "execution_count": 21,
     "metadata": {},
     "output_type": "execute_result"
    }
   ],
   "source": [
    "df['Date'].iloc[5060]"
   ]
  },
  {
   "cell_type": "code",
   "execution_count": 22,
   "metadata": {},
   "outputs": [
    {
     "data": {
      "text/html": [
       "<div>\n",
       "<style scoped>\n",
       "    .dataframe tbody tr th:only-of-type {\n",
       "        vertical-align: middle;\n",
       "    }\n",
       "\n",
       "    .dataframe tbody tr th {\n",
       "        vertical-align: top;\n",
       "    }\n",
       "\n",
       "    .dataframe thead th {\n",
       "        text-align: right;\n",
       "    }\n",
       "</style>\n",
       "<table border=\"1\" class=\"dataframe\">\n",
       "  <thead>\n",
       "    <tr style=\"text-align: right;\">\n",
       "      <th></th>\n",
       "      <th>open_low_date</th>\n",
       "    </tr>\n",
       "  </thead>\n",
       "  <tbody>\n",
       "    <tr>\n",
       "      <th>0</th>\n",
       "      <td>2000-01-03</td>\n",
       "    </tr>\n",
       "    <tr>\n",
       "      <th>1</th>\n",
       "      <td>2000-01-04</td>\n",
       "    </tr>\n",
       "    <tr>\n",
       "      <th>2</th>\n",
       "      <td>2000-01-05</td>\n",
       "    </tr>\n",
       "    <tr>\n",
       "      <th>3</th>\n",
       "      <td>2000-01-06</td>\n",
       "    </tr>\n",
       "    <tr>\n",
       "      <th>4</th>\n",
       "      <td>2000-01-07</td>\n",
       "    </tr>\n",
       "    <tr>\n",
       "      <th>...</th>\n",
       "      <td>...</td>\n",
       "    </tr>\n",
       "    <tr>\n",
       "      <th>2526</th>\n",
       "      <td>2010-02-16</td>\n",
       "    </tr>\n",
       "    <tr>\n",
       "      <th>2527</th>\n",
       "      <td>2010-02-17</td>\n",
       "    </tr>\n",
       "    <tr>\n",
       "      <th>2528</th>\n",
       "      <td>2010-02-18</td>\n",
       "    </tr>\n",
       "    <tr>\n",
       "      <th>2529</th>\n",
       "      <td>2010-02-19</td>\n",
       "    </tr>\n",
       "    <tr>\n",
       "      <th>2530</th>\n",
       "      <td>2010-02-22</td>\n",
       "    </tr>\n",
       "  </tbody>\n",
       "</table>\n",
       "<p>2531 rows × 1 columns</p>\n",
       "</div>"
      ],
      "text/plain": [
       "     open_low_date\n",
       "0       2000-01-03\n",
       "1       2000-01-04\n",
       "2       2000-01-05\n",
       "3       2000-01-06\n",
       "4       2000-01-07\n",
       "...            ...\n",
       "2526    2010-02-16\n",
       "2527    2010-02-17\n",
       "2528    2010-02-18\n",
       "2529    2010-02-19\n",
       "2530    2010-02-22\n",
       "\n",
       "[2531 rows x 1 columns]"
      ]
     },
     "execution_count": 22,
     "metadata": {},
     "output_type": "execute_result"
    }
   ],
   "source": [
    "open_low_date=pd.DataFrame(data=arr3,columns=['open_low_date'])\n",
    "open_low_date"
   ]
  },
  {
   "cell_type": "code",
   "execution_count": 23,
   "metadata": {},
   "outputs": [
    {
     "data": {
      "text/html": [
       "<div>\n",
       "<style scoped>\n",
       "    .dataframe tbody tr th:only-of-type {\n",
       "        vertical-align: middle;\n",
       "    }\n",
       "\n",
       "    .dataframe tbody tr th {\n",
       "        vertical-align: top;\n",
       "    }\n",
       "\n",
       "    .dataframe thead th {\n",
       "        text-align: right;\n",
       "    }\n",
       "</style>\n",
       "<table border=\"1\" class=\"dataframe\">\n",
       "  <thead>\n",
       "    <tr style=\"text-align: right;\">\n",
       "      <th></th>\n",
       "      <th>open_high_date</th>\n",
       "    </tr>\n",
       "  </thead>\n",
       "  <tbody>\n",
       "    <tr>\n",
       "      <th>0</th>\n",
       "      <td>2010-02-23</td>\n",
       "    </tr>\n",
       "    <tr>\n",
       "      <th>1</th>\n",
       "      <td>2010-02-24</td>\n",
       "    </tr>\n",
       "    <tr>\n",
       "      <th>2</th>\n",
       "      <td>2010-02-25</td>\n",
       "    </tr>\n",
       "    <tr>\n",
       "      <th>3</th>\n",
       "      <td>2010-02-26</td>\n",
       "    </tr>\n",
       "    <tr>\n",
       "      <th>4</th>\n",
       "      <td>2010-03-02</td>\n",
       "    </tr>\n",
       "    <tr>\n",
       "      <th>...</th>\n",
       "      <td>...</td>\n",
       "    </tr>\n",
       "    <tr>\n",
       "      <th>2525</th>\n",
       "      <td>2020-05-04</td>\n",
       "    </tr>\n",
       "    <tr>\n",
       "      <th>2526</th>\n",
       "      <td>2020-05-05</td>\n",
       "    </tr>\n",
       "    <tr>\n",
       "      <th>2527</th>\n",
       "      <td>2020-05-06</td>\n",
       "    </tr>\n",
       "    <tr>\n",
       "      <th>2528</th>\n",
       "      <td>2020-05-07</td>\n",
       "    </tr>\n",
       "    <tr>\n",
       "      <th>2529</th>\n",
       "      <td>2020-05-08</td>\n",
       "    </tr>\n",
       "  </tbody>\n",
       "</table>\n",
       "<p>2530 rows × 1 columns</p>\n",
       "</div>"
      ],
      "text/plain": [
       "     open_high_date\n",
       "0        2010-02-23\n",
       "1        2010-02-24\n",
       "2        2010-02-25\n",
       "3        2010-02-26\n",
       "4        2010-03-02\n",
       "...             ...\n",
       "2525     2020-05-04\n",
       "2526     2020-05-05\n",
       "2527     2020-05-06\n",
       "2528     2020-05-07\n",
       "2529     2020-05-08\n",
       "\n",
       "[2530 rows x 1 columns]"
      ]
     },
     "execution_count": 23,
     "metadata": {},
     "output_type": "execute_result"
    }
   ],
   "source": [
    "open_high_date=pd.DataFrame(data=arr4,columns=['open_high_date'])\n",
    "open_high_date\n"
   ]
  },
  {
   "cell_type": "code",
   "execution_count": 24,
   "metadata": {
    "scrolled": false
   },
   "outputs": [],
   "source": [
    "#%history "
   ]
  },
  {
   "cell_type": "code",
   "execution_count": 25,
   "metadata": {},
   "outputs": [
    {
     "data": {
      "text/html": [
       "<div>\n",
       "<style scoped>\n",
       "    .dataframe tbody tr th:only-of-type {\n",
       "        vertical-align: middle;\n",
       "    }\n",
       "\n",
       "    .dataframe tbody tr th {\n",
       "        vertical-align: top;\n",
       "    }\n",
       "\n",
       "    .dataframe thead th {\n",
       "        text-align: right;\n",
       "    }\n",
       "</style>\n",
       "<table border=\"1\" class=\"dataframe\">\n",
       "  <thead>\n",
       "    <tr style=\"text-align: right;\">\n",
       "      <th></th>\n",
       "      <th>Date</th>\n",
       "      <th>Open</th>\n",
       "      <th>High</th>\n",
       "      <th>Low</th>\n",
       "      <th>Close</th>\n",
       "      <th>Volume</th>\n",
       "      <th>Turnover</th>\n",
       "      <th>P/E</th>\n",
       "      <th>P/B</th>\n",
       "      <th>Div Yield</th>\n",
       "    </tr>\n",
       "  </thead>\n",
       "  <tbody>\n",
       "    <tr>\n",
       "      <th>4986</th>\n",
       "      <td>2020-01-17</td>\n",
       "      <td>10096.4</td>\n",
       "      <td>10138.45</td>\n",
       "      <td>10089.5</td>\n",
       "      <td>10118.7</td>\n",
       "      <td>2.253455e+09</td>\n",
       "      <td>3.622212e+11</td>\n",
       "      <td>31.54</td>\n",
       "      <td>3.45</td>\n",
       "      <td>1.18</td>\n",
       "    </tr>\n",
       "  </tbody>\n",
       "</table>\n",
       "</div>"
      ],
      "text/plain": [
       "            Date     Open      High      Low    Close        Volume  \\\n",
       "4986  2020-01-17  10096.4  10138.45  10089.5  10118.7  2.253455e+09   \n",
       "\n",
       "          Turnover    P/E   P/B  Div Yield  \n",
       "4986  3.622212e+11  31.54  3.45       1.18  "
      ]
     },
     "execution_count": 25,
     "metadata": {},
     "output_type": "execute_result"
    }
   ],
   "source": [
    "df[df['Close']==df['Close'].max()]"
   ]
  },
  {
   "cell_type": "code",
   "execution_count": 26,
   "metadata": {},
   "outputs": [
    {
     "data": {
      "text/html": [
       "<div>\n",
       "<style scoped>\n",
       "    .dataframe tbody tr th:only-of-type {\n",
       "        vertical-align: middle;\n",
       "    }\n",
       "\n",
       "    .dataframe tbody tr th {\n",
       "        vertical-align: top;\n",
       "    }\n",
       "\n",
       "    .dataframe thead th {\n",
       "        text-align: right;\n",
       "    }\n",
       "</style>\n",
       "<table border=\"1\" class=\"dataframe\">\n",
       "  <thead>\n",
       "    <tr style=\"text-align: right;\">\n",
       "      <th></th>\n",
       "      <th>Date</th>\n",
       "      <th>Open</th>\n",
       "      <th>High</th>\n",
       "      <th>Low</th>\n",
       "      <th>Close</th>\n",
       "      <th>Volume</th>\n",
       "      <th>Turnover</th>\n",
       "      <th>P/E</th>\n",
       "      <th>P/B</th>\n",
       "      <th>Div Yield</th>\n",
       "    </tr>\n",
       "  </thead>\n",
       "  <tbody>\n",
       "    <tr>\n",
       "      <th>432</th>\n",
       "      <td>2001-09-21</td>\n",
       "      <td>555.15</td>\n",
       "      <td>556.65</td>\n",
       "      <td>541.8</td>\n",
       "      <td>545.85</td>\n",
       "      <td>79863591.0</td>\n",
       "      <td>1.474120e+10</td>\n",
       "      <td>11.58</td>\n",
       "      <td>1.28</td>\n",
       "      <td>2.58</td>\n",
       "    </tr>\n",
       "  </tbody>\n",
       "</table>\n",
       "</div>"
      ],
      "text/plain": [
       "           Date    Open    High    Low   Close      Volume      Turnover  \\\n",
       "432  2001-09-21  555.15  556.65  541.8  545.85  79863591.0  1.474120e+10   \n",
       "\n",
       "       P/E   P/B  Div Yield  \n",
       "432  11.58  1.28       2.58  "
      ]
     },
     "execution_count": 26,
     "metadata": {},
     "output_type": "execute_result"
    }
   ],
   "source": [
    "df[df['Close']==df['Close'].min()]"
   ]
  },
  {
   "cell_type": "code",
   "execution_count": 27,
   "metadata": {},
   "outputs": [
    {
     "data": {
      "text/plain": [
       "<matplotlib.axes._subplots.AxesSubplot at 0x28acf4793c8>"
      ]
     },
     "execution_count": 27,
     "metadata": {},
     "output_type": "execute_result"
    },
    {
     "data": {
      "image/png": "[encoded data removed]",
      "text/plain": [
       "<Figure size 864x432 with 2 Axes>"
      ]
     },
     "metadata": {
      "needs_background": "light"
     },
     "output_type": "display_data"
    }
   ],
   "source": [
    "plt.figure(figsize=(12,6))\n",
    "plt.subplot(2,1,1)\n",
    "sns.scatterplot(x='Close',y='Open',data=df)\n",
    "plt.subplot(2,1,2)\n",
    "sns.scatterplot(x='Low',y='High',data=df,color='red')"
   ]
  },
  {
   "cell_type": "code",
   "execution_count": 28,
   "metadata": {},
   "outputs": [
    {
     "data": {
      "text/plain": [
       "array([[1.        , 0.99983925],\n",
       "       [0.99983925, 1.        ]])"
      ]
     },
     "execution_count": 28,
     "metadata": {},
     "output_type": "execute_result"
    }
   ],
   "source": [
    "#finding the correlation between open and closing of stocks \n",
    "\n",
    "np.corrcoef(x=df['Open'],y=df['Close'])"
   ]
  },
  {
   "cell_type": "code",
   "execution_count": 29,
   "metadata": {},
   "outputs": [
    {
     "data": {
      "text/plain": [
       "array([[1.        , 0.99986286],\n",
       "       [0.99986286, 1.        ]])"
      ]
     },
     "execution_count": 29,
     "metadata": {},
     "output_type": "execute_result"
    }
   ],
   "source": [
    "#finding the correlation between open and closing of stocks \n",
    "\n",
    "np.corrcoef(x=df['High'],y=df['Low'])"
   ]
  },
  {
   "cell_type": "code",
   "execution_count": 30,
   "metadata": {},
   "outputs": [
    {
     "data": {
      "text/plain": [
       "<seaborn.axisgrid.JointGrid at 0x28acf522708>"
      ]
     },
     "execution_count": 30,
     "metadata": {},
     "output_type": "execute_result"
    },
    {
     "data": {
      "text/plain": [
       "<Figure size 864x432 with 0 Axes>"
      ]
     },
     "metadata": {},
     "output_type": "display_data"
    },
    {
     "data": {
      "image/png": "[encoded data removed]",
      "text/plain": [
       "<Figure size 432x432 with 3 Axes>"
      ]
     },
     "metadata": {
      "needs_background": "light"
     },
     "output_type": "display_data"
    }
   ],
   "source": [
    "plt.figure(figsize=(12,6))\n",
    "sns.jointplot(x='Open',y='Turnover',data=df,kind='scatter',color='green')\n"
   ]
  },
  {
   "cell_type": "code",
   "execution_count": null,
   "metadata": {},
   "outputs": [],
   "source": []
  },
  {
   "cell_type": "code",
   "execution_count": null,
   "metadata": {},
   "outputs": [],
   "source": []
  }
 ],
 "metadata": {
  "kernelspec": {
   "display_name": "Python 3",
   "language": "python",
   "name": "python3"
  },
  "language_info": {
   "codemirror_mode": {
    "name": "ipython",
    "version": 3
   },
   "file_extension": ".py",
   "mimetype": "text/x-python",
   "name": "python",
   "nbconvert_exporter": "python",
   "pygments_lexer": "ipython3",
   "version": "3.7.6"
  }
 },
 "nbformat": 4,
 "nbformat_minor": 2
}
