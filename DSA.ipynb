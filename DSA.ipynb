{
 "cells": [
  {
   "cell_type": "markdown",
   "metadata": {},
   "source": [
    "# ****************************************************************DATA STRUCTURES AND ALGORITHMS***********************************************************"
   ]
  },
  {
   "cell_type": "markdown",
   "metadata": {},
   "source": [
    "# Arrays"
   ]
  },
  {
   "cell_type": "code",
   "execution_count": 1,
   "metadata": {},
   "outputs": [],
   "source": [
    "from array import *"
   ]
  },
  {
   "cell_type": "code",
   "execution_count": 6,
   "metadata": {},
   "outputs": [
    {
     "data": {
      "text/plain": [
       "array('i', [1, 2, 3, 4, 5, 21, 13, 2, 1, 1, 45, 3, 2, 1, 3, 2, 1, 3, 2, 3, 2, 32113, 120])"
      ]
     },
     "execution_count": 6,
     "metadata": {},
     "output_type": "execute_result"
    }
   ],
   "source": [
    "k=array('i',[1,2,3,4,5,21,13,2,1,1,45,3,2,1,3,2,1,3,2,3,2,32113,120])\n",
    "k"
   ]
  },
  {
   "cell_type": "code",
   "execution_count": 7,
   "metadata": {},
   "outputs": [],
   "source": [
    "k.insert(0,10)"
   ]
  },
  {
   "cell_type": "code",
   "execution_count": 9,
   "metadata": {},
   "outputs": [],
   "source": [
    "k.remove(1)"
   ]
  },
  {
   "cell_type": "code",
   "execution_count": 11,
   "metadata": {},
   "outputs": [
    {
     "data": {
      "text/plain": [
       "3"
      ]
     },
     "execution_count": 11,
     "metadata": {},
     "output_type": "execute_result"
    }
   ],
   "source": [
    "k.index(4)"
   ]
  },
  {
   "cell_type": "code",
   "execution_count": 12,
   "metadata": {},
   "outputs": [],
   "source": [
    "k[4]=5000"
   ]
  },
  {
   "cell_type": "markdown",
   "metadata": {},
   "source": [
    "# Lists"
   ]
  },
  {
   "cell_type": "code",
   "execution_count": 15,
   "metadata": {},
   "outputs": [],
   "source": [
    "lst=[1,2,3,4,'hello','wassup',10]"
   ]
  },
  {
   "cell_type": "code",
   "execution_count": 19,
   "metadata": {},
   "outputs": [
    {
     "data": {
      "text/plain": [
       "[1, 2, 3, 4, 'trash', 'wassup', 10]"
      ]
     },
     "execution_count": 19,
     "metadata": {},
     "output_type": "execute_result"
    }
   ],
   "source": [
    "lst[4]='trash'\n",
    "lst"
   ]
  },
  {
   "cell_type": "code",
   "execution_count": 21,
   "metadata": {},
   "outputs": [],
   "source": [
    "del lst[3]"
   ]
  },
  {
   "cell_type": "code",
   "execution_count": 22,
   "metadata": {},
   "outputs": [
    {
     "data": {
      "text/plain": [
       "[1, 2, 3, 'trash', 'wassup', 10]"
      ]
     },
     "execution_count": 22,
     "metadata": {},
     "output_type": "execute_result"
    }
   ],
   "source": [
    "lst"
   ]
  },
  {
   "cell_type": "markdown",
   "metadata": {},
   "source": [
    "# Tuples"
   ]
  },
  {
   "cell_type": "code",
   "execution_count": 23,
   "metadata": {},
   "outputs": [],
   "source": [
    "tup=()"
   ]
  },
  {
   "cell_type": "code",
   "execution_count": 36,
   "metadata": {},
   "outputs": [],
   "source": [
    "tup=(1,2,3,4,'hello')"
   ]
  },
  {
   "cell_type": "code",
   "execution_count": 30,
   "metadata": {},
   "outputs": [],
   "source": [
    "tup1 = (12, 34.56);\n",
    "tup2 = ('abc', 'xyz');"
   ]
  },
  {
   "cell_type": "code",
   "execution_count": 33,
   "metadata": {},
   "outputs": [
    {
     "data": {
      "text/plain": [
       "(12, 34.56, 'abc', 'xyz', 12, 34.56, 'abc', 'xyz', 12, 34.56, 'abc', 'xyz')"
      ]
     },
     "execution_count": 33,
     "metadata": {},
     "output_type": "execute_result"
    }
   ],
   "source": [
    "tup3=tup1+tup2\n",
    "tup3*3"
   ]
  },
  {
   "cell_type": "code",
   "execution_count": 38,
   "metadata": {},
   "outputs": [],
   "source": [
    "del tup"
   ]
  },
  {
   "cell_type": "markdown",
   "metadata": {},
   "source": [
    "# Dictionaries"
   ]
  },
  {
   "cell_type": "code",
   "execution_count": 61,
   "metadata": {},
   "outputs": [],
   "source": [
    "dict = {'Name': 'Zara', 'Age': 7, 'Class': 'First'}\n",
    "dict['Name']='Hasra'"
   ]
  },
  {
   "cell_type": "code",
   "execution_count": 62,
   "metadata": {},
   "outputs": [
    {
     "name": "stdout",
     "output_type": "stream",
     "text": [
      "Hasra\n",
      "7\n",
      "First\n"
     ]
    }
   ],
   "source": [
    "for name in dict:\n",
    "    print(dict[name])"
   ]
  },
  {
   "cell_type": "code",
   "execution_count": 63,
   "metadata": {},
   "outputs": [],
   "source": [
    "dict.clear()"
   ]
  },
  {
   "cell_type": "code",
   "execution_count": 64,
   "metadata": {},
   "outputs": [
    {
     "data": {
      "text/plain": [
       "{}"
      ]
     },
     "execution_count": 64,
     "metadata": {},
     "output_type": "execute_result"
    }
   ],
   "source": [
    "dict"
   ]
  },
  {
   "cell_type": "code",
   "execution_count": 65,
   "metadata": {},
   "outputs": [],
   "source": [
    "del dict"
   ]
  },
  {
   "cell_type": "markdown",
   "metadata": {},
   "source": [
    "# 2-D array"
   ]
  },
  {
   "cell_type": "code",
   "execution_count": 72,
   "metadata": {},
   "outputs": [
    {
     "name": "stdout",
     "output_type": "stream",
     "text": [
      "[['Mon' '18' '20' '22' '17']\n",
      " ['Tue' '11' '18' '21' '18']\n",
      " ['Wed' '15' '21' '20' '19']\n",
      " ['Avg' '12' '15' '13' '11']\n",
      " ['Fri' '18' '17' '23' '22']\n",
      " ['Sat' '12' '22' '20' '18']\n",
      " ['Sun' '13' '15' '19' '16']\n",
      " ['Avg' '12' '15' '13' '11']]\n"
     ]
    }
   ],
   "source": [
    "from numpy import * \n",
    "m = array([['Mon',18,20,22,17],['Tue',11,18,21,18],\n",
    "\t\t   ['Wed',15,21,20,19],['Thu',11,20,22,21],\n",
    "\t\t   ['Fri',18,17,23,22],['Sat',12,22,20,18],\n",
    "\t\t   ['Sun',13,15,19,16]])\n",
    "    \n",
    "m_r = append(m,[['Avg',12,15,13,11]],0)\n",
    "m_r[3]=m_r[7]\n",
    "m_r[7]=m_r[3]\n",
    "print(m_r)\n"
   ]
  },
  {
   "cell_type": "code",
   "execution_count": 75,
   "metadata": {},
   "outputs": [
    {
     "data": {
      "text/plain": [
       "array([['Mon', '18', '20', '22', '17', '1'],\n",
       "       ['Tue', '11', '18', '21', '18', '2'],\n",
       "       ['Wed', '15', '21', '20', '19', '3'],\n",
       "       ['Avg', '12', '15', '13', '11', '4'],\n",
       "       ['Fri', '18', '17', '23', '22', '5'],\n",
       "       ['Sat', '12', '22', '20', '18', '6'],\n",
       "       ['Sun', '13', '15', '19', '16', '7'],\n",
       "       ['Avg', '12', '15', '13', '11', '8']], dtype='<U3')"
      ]
     },
     "execution_count": 75,
     "metadata": {},
     "output_type": "execute_result"
    }
   ],
   "source": [
    "m_c = insert(m_r,[5],[[1],[2],[3],[4],[5],[6],[7],[8]],1)\n",
    "m_c"
   ]
  },
  {
   "cell_type": "code",
   "execution_count": 76,
   "metadata": {},
   "outputs": [
    {
     "name": "stdout",
     "output_type": "stream",
     "text": [
      "[['Mon' '18' '20' '22' '17']\n",
      " ['Tue' '11' '18' '21' '18']\n",
      " ['Thu' '11' '20' '22' '21']\n",
      " ['Fri' '18' '17' '23' '22']\n",
      " ['Sat' '12' '22' '20' '18']\n",
      " ['Sun' '13' '15' '19' '16']]\n"
     ]
    }
   ],
   "source": [
    "from numpy import * \n",
    "m = array([['Mon',18,20,22,17],['Tue',11,18,21,18],\n",
    "\t\t   ['Wed',15,21,20,19],['Thu',11,20,22,21],\n",
    "\t\t   ['Fri',18,17,23,22],['Sat',12,22,20,18],\n",
    "\t\t   ['Sun',13,15,19,16]])\n",
    "    \n",
    "m = delete(m,[2],0)\n",
    "\n",
    "print(m)"
   ]
  },
  {
   "cell_type": "code",
   "execution_count": 80,
   "metadata": {},
   "outputs": [
    {
     "data": {
      "text/plain": [
       "array([['Mon', '18', '20', '17'],\n",
       "       ['Tue', '11', '18', '18'],\n",
       "       ['Thu', '11', '20', '21'],\n",
       "       ['Fri', '18', '17', '22'],\n",
       "       ['Sat', '12', '22', '18'],\n",
       "       ['Sun', '13', '15', '16']], dtype='<U3')"
      ]
     },
     "execution_count": 80,
     "metadata": {},
     "output_type": "execute_result"
    }
   ],
   "source": [
    "delete(m,3,1) "
   ]
  },
  {
   "cell_type": "markdown",
   "metadata": {},
   "source": [
    "# Maps or chainmaps"
   ]
  },
  {
   "cell_type": "code",
   "execution_count": 82,
   "metadata": {},
   "outputs": [
    {
     "name": "stdout",
     "output_type": "stream",
     "text": [
      "[{'day1': 'Mon', 'day2': 'Tue'}, {'day3': 'Wed', 'day1': 'Thu'}, {'day4': 'Wed', 'day5': 'sat'}] \n",
      "\n"
     ]
    }
   ],
   "source": [
    "import collections\n",
    "\n",
    "dict1 = {'day1': 'Mon', 'day2': 'Tue'}\n",
    "dict2 = {'day3': 'Wed', 'day1': 'Thu'}\n",
    "dict3 = {'day4': 'Wed', 'day5': 'sat'}\n",
    "\n",
    "res = collections.ChainMap(dict1, dict2,dict3)\n",
    "\n",
    "# Creating a single dictionary\n",
    "print(res.maps,'\\n')"
   ]
  },
  {
   "cell_type": "code",
   "execution_count": 83,
   "metadata": {},
   "outputs": [
    {
     "name": "stdout",
     "output_type": "stream",
     "text": [
      "Keys = ['day4', 'day5', 'day3', 'day1', 'day2']\n",
      "Values = ['Wed', 'sat', 'Wed', 'Mon', 'Tue']\n"
     ]
    }
   ],
   "source": [
    "print('Keys = {}'.format(list(res.keys())))\n",
    "print('Values = {}'.format(list(res.values())))"
   ]
  },
  {
   "cell_type": "code",
   "execution_count": 92,
   "metadata": {},
   "outputs": [
    {
     "name": "stdout",
     "output_type": "stream",
     "text": [
      "Wed\n",
      "sat\n",
      "Wed\n",
      "Mon\n",
      "Tue\n"
     ]
    }
   ],
   "source": [
    "for i in res:\n",
    "    print(res[i]) #thursday is eleminated as its key is duplicate "
   ]
  },
  {
   "cell_type": "code",
   "execution_count": 100,
   "metadata": {},
   "outputs": [
    {
     "name": "stdout",
     "output_type": "stream",
     "text": [
      "('day4', 'Wed')\n",
      "('day5', 'sat')\n",
      "('day3', 'Wed')\n",
      "('day1', 'Mon')\n",
      "('day2', 'Tue')\n"
     ]
    }
   ],
   "source": [
    "for key in res.items():\n",
    "    print(key)"
   ]
  },
  {
   "cell_type": "code",
   "execution_count": 105,
   "metadata": {},
   "outputs": [
    {
     "data": {
      "text/plain": [
       "[{'day1': 'Mon', 'day2': 'Tue'},\n",
       " {'day3': 'Wed', 'day1': 'Thu'},\n",
       " {'day4': 'Wed', 'day5': 'sat'}]"
      ]
     },
     "execution_count": 105,
     "metadata": {},
     "output_type": "execute_result"
    }
   ],
   "source": [
    "res.maps"
   ]
  },
  {
   "cell_type": "code",
   "execution_count": 106,
   "metadata": {},
   "outputs": [
    {
     "data": {
      "text/plain": [
       "[{'day1': 'Mon', 'day2': 'Tue'},\n",
       " {'day3': 'Wed', 'day1': 'Thu'},\n",
       " {'day4': 'Wed', 'day5': 'sat'}]"
      ]
     },
     "execution_count": 106,
     "metadata": {},
     "output_type": "execute_result"
    }
   ],
   "source": [
    "res.maps"
   ]
  },
  {
   "cell_type": "code",
   "execution_count": 107,
   "metadata": {},
   "outputs": [],
   "source": [
    "dict2['day4']='oklahoma'"
   ]
  },
  {
   "cell_type": "code",
   "execution_count": 111,
   "metadata": {},
   "outputs": [
    {
     "data": {
      "text/plain": [
       "[{'day1': 'Mon', 'day2': 'Tue'},\n",
       " {'day3': 'Wed', 'day1': 'Thu', 'day4': 'oklahoma'},\n",
       " {'day4': 'Wed', 'day5': 'sat'}]"
      ]
     },
     "execution_count": 111,
     "metadata": {},
     "output_type": "execute_result"
    }
   ],
   "source": [
    "res.maps"
   ]
  },
  {
   "cell_type": "markdown",
   "metadata": {},
   "source": [
    "# Linked Lists"
   ]
  },
  {
   "cell_type": "code",
   "execution_count": 24,
   "metadata": {},
   "outputs": [],
   "source": [
    "# linked list\n",
    "class node:\n",
    "    \n",
    "    def __init__(self,data):\n",
    "        \n",
    "        self.data=data;\n",
    "        self.next=None\n",
    "        \n",
    "class linkedlist:\n",
    "    \n",
    "    def __init__(self):\n",
    "        \n",
    "        self.head=None\n",
    "        \n",
    "if __name__=='__main__':\n",
    "    \n",
    "    lst=linkedlist()\n",
    "    \n",
    "    lst.head=node(1)\n",
    "    \n",
    "    nxt2=node(10)\n",
    "    \n",
    "    nxt3=node(100)\n",
    "    \n",
    "    lst.head.next=nxt2\n",
    "    \n",
    "    nxt2.next=nxt3"
   ]
  },
  {
   "cell_type": "code",
   "execution_count": 44,
   "metadata": {},
   "outputs": [
    {
     "name": "stdout",
     "output_type": "stream",
     "text": [
      "1\n",
      "10\n",
      "100\n"
     ]
    }
   ],
   "source": [
    "# linked list traversal\n",
    "\n",
    "class node:\n",
    "    \n",
    "    def __init__(self,data):\n",
    "        self.data=data\n",
    "        self.next=None\n",
    "        \n",
    "class linkedlist:\n",
    "    \n",
    "    def __init__(self):\n",
    "        self.head=None\n",
    "        \n",
    "    def print_list(self):\n",
    "        temp=self.head\n",
    "        while(temp):\n",
    "            print(temp.data)\n",
    "            temp=temp.next\n",
    "\n",
    "if __name__=='__main__':\n",
    "    lst=linkedlist()\n",
    "    lst.head=node(1)\n",
    "    nxt2=node(10)\n",
    "    nxt3=node(100)\n",
    "    lst.head.next=nxt2\n",
    "    nxt2.next=nxt3\n",
    "    lst.print_list()"
   ]
  },
  {
   "cell_type": "code",
   "execution_count": 54,
   "metadata": {},
   "outputs": [
    {
     "name": "stdout",
     "output_type": "stream",
     "text": [
      "Sun\n",
      "Mon\n",
      "Tue\n"
     ]
    }
   ],
   "source": [
    "# insertion in head of a linked list\n",
    "\n",
    "class node:\n",
    "    \n",
    "    def __init__(self,data):\n",
    "        self.data=data\n",
    "        self.next=None\n",
    "\n",
    "class linkedlist:\n",
    "    \n",
    "    def __init__(self):\n",
    "        self.head=None\n",
    "        \n",
    "    def print_lst(self):\n",
    "        printval = self.head\n",
    "        while printval is not None:\n",
    "            print (printval.data)\n",
    "            printval = printval.next\n",
    "            \n",
    "    def atbegin(self,val):\n",
    "        newnode=node(val)\n",
    "        \n",
    "    # Update the new nodes next val to existing node\n",
    "        newnode.next = self.head\n",
    "        self.head = newnode\n",
    "        \n",
    "        \n",
    "if __name__=='__main__':\n",
    "    lst = linkedlist()\n",
    "    lst.head = node(\"Mon\")\n",
    "    e2 = Node(\"Tue\")\n",
    "    e3 = Node(\"Wed\")\n",
    "\n",
    "    lst.head.next = e2\n",
    "    e2.nextval = e3\n",
    "\n",
    "    lst.atbegin(\"Sun\")\n",
    "\n",
    "    lst.print_lst()\n",
    "        \n",
    "        "
   ]
  },
  {
   "cell_type": "markdown",
   "metadata": {},
   "source": [
    "# Hash tables"
   ]
  },
  {
   "cell_type": "code",
   "execution_count": 1,
   "metadata": {},
   "outputs": [
    {
     "name": "stdout",
     "output_type": "stream",
     "text": [
      "dict['Name']:  Zara\n",
      "dict['Age']:  7\n"
     ]
    }
   ],
   "source": [
    "# Declare a dictionary \n",
    "dict = {'Name': 'Zara', 'Age': 7, 'Class': 'First'}\n",
    "\n",
    "# Accessing the dictionary with its key\n",
    "print(\"dict['Name']: \", dict['Name'])\n",
    "print(\"dict['Age']: \", dict['Age'])"
   ]
  },
  {
   "cell_type": "code",
   "execution_count": 22,
   "metadata": {},
   "outputs": [
    {
     "name": "stdout",
     "output_type": "stream",
     "text": [
      "[1, 2, 3, 4]\n"
     ]
    }
   ],
   "source": [
    "mapper={}\n",
    "lst=[11,12,13,14]\n",
    "a=[]\n",
    "for k in lst:\n",
    "    a.append(k%10)\n",
    "print(a)"
   ]
  },
  {
   "cell_type": "code",
   "execution_count": 23,
   "metadata": {},
   "outputs": [
    {
     "name": "stdout",
     "output_type": "stream",
     "text": [
      "{'1': 11, '2': 12, '3': 13, '4': 14}\n"
     ]
    }
   ],
   "source": [
    "\n",
    "for i,j in zip(a,lst):\n",
    "    mapper[str(i)]=j\n",
    "print(mapper)"
   ]
  },
  {
   "cell_type": "markdown",
   "metadata": {},
   "source": [
    "# Binary tree"
   ]
  },
  {
   "cell_type": "code",
   "execution_count": 30,
   "metadata": {},
   "outputs": [
    {
     "name": "stdout",
     "output_type": "stream",
     "text": [
      "10\n"
     ]
    }
   ],
   "source": [
    "class node:\n",
    "    \n",
    "    def __init__(self,data):\n",
    "        self.data = data\n",
    "        self.left = None\n",
    "        self.right = None\n",
    "        \n",
    "    def print(self):\n",
    "        print(self.data)\n",
    "\n",
    "k=node(10)\n",
    "k.print()"
   ]
  },
  {
   "cell_type": "code",
   "execution_count": 13,
   "metadata": {},
   "outputs": [
    {
     "name": "stdout",
     "output_type": "stream",
     "text": [
      "3\n",
      "6\n",
      "12\n",
      "14\n",
      "39\n"
     ]
    }
   ],
   "source": [
    "class Node:\n",
    "\n",
    "    def __init__(self, data):\n",
    "\n",
    "        self.left = None\n",
    "        self.right = None\n",
    "        self.data = data\n",
    "\n",
    "    def insert(self, data):\n",
    "# Compare the new value with the parent node\n",
    "        if self.data:\n",
    "            if data < self.data:\n",
    "                if self.left is None:\n",
    "                    self.left = Node(data)\n",
    "                else:\n",
    "                    self.left.insert(data)\n",
    "            elif data > self.data:\n",
    "                if self.right is None:\n",
    "                    self.right = Node(data)\n",
    "                else:\n",
    "                    self.right.insert(data)\n",
    "        else:\n",
    "            self.data = data\n",
    "\n",
    "# Print the tree\n",
    "    def PrintTree(self):\n",
    "        if self.left:\n",
    "            self.left.PrintTree()\n",
    "        print( self.data),\n",
    "        if self.right:\n",
    "            self.right.PrintTree()\n",
    "\n",
    "# Use the insert method to add nodes\n",
    "root = Node(12)\n",
    "root.insert(6)\n",
    "root.insert(14)\n",
    "root.insert(3)\n",
    "\n",
    "root.insert(i)\n",
    "root.PrintTree()"
   ]
  },
  {
   "cell_type": "code",
   "execution_count": 2,
   "metadata": {},
   "outputs": [
    {
     "name": "stdout",
     "output_type": "stream",
     "text": [
      "False\n"
     ]
    }
   ],
   "source": [
    "class node:\n",
    "    \n",
    "    def __init__(self,data=None):\n",
    "        self.data=data\n",
    "        self.left=None\n",
    "        self.right=None\n",
    "        \n",
    "class bst:\n",
    "    \n",
    "    def __init__(self):\n",
    "        \n",
    "        self.root=None\n",
    "        \n",
    "    def insert(self,data):\n",
    "        \n",
    "        if self.root is None:\n",
    "            self.root=node(data)\n",
    "        else:\n",
    "            self._insert(data,self.root)\n",
    "            \n",
    "    def _insert(self,data,curr_node):\n",
    "        \n",
    "        if data<curr_node.data:\n",
    "            \n",
    "            if curr_node.left is None:\n",
    "                curr_node.left=node(data)\n",
    "            else:\n",
    "                self._insert(data,curr_node.left)\n",
    "                \n",
    "        elif data>curr_node.data:\n",
    "            \n",
    "            if curr_node.right is None:\n",
    "                curr_node.right=node(data)\n",
    "            else:\n",
    "                self._insert(data,curr_node.right)\n",
    "        \n",
    "        else:\n",
    "            \n",
    "            print('Value is already inserted in tree')\n",
    "            \n",
    "    def find(self,data):\n",
    "        \n",
    "        if self.root:\n",
    "            is_found=self._find(data,self.root)\n",
    "            if is_found:\n",
    "                return True\n",
    "            return False\n",
    "        else:\n",
    "            return None\n",
    "            \n",
    "    def _find(self,data,curr_node):\n",
    "        if data>curr_node.data and curr_node.right:\n",
    "            return self._find(data,curr_node.right)\n",
    "        elif data<curr_node.data and curr_node.left:\n",
    "            return self._find(data,curr_node.left)\n",
    "        if data==curr_node.data:\n",
    "            return None\n",
    "tree1=bst()\n",
    "tree1.insert(4)\n",
    "tree1.insert(2)\n",
    "tree1.insert(8)\n",
    "tree1.insert(5)\n",
    "tree1.insert(10)\n",
    "print(tree1.find(10))"
   ]
  },
  {
   "cell_type": "markdown",
   "metadata": {},
   "source": [
    "# Sorting"
   ]
  },
  {
   "cell_type": "code",
   "execution_count": 18,
   "metadata": {},
   "outputs": [
    {
     "name": "stdout",
     "output_type": "stream",
     "text": [
      "[2, 6, 11, 19, 27, 31, 45, 121]\n"
     ]
    }
   ],
   "source": [
    "#bubble sort \n",
    "def bubblesort(list):\n",
    "    \n",
    "    for i in range(len(list)-1,0,-1):\n",
    "        for k in range(i):\n",
    "            if list[k] > list[k+1]:\n",
    "                temp = list[k]\n",
    "                list[k] = list[k+1]\n",
    "                list[k+1] = temp\n",
    "\n",
    "list = [19,2,31,45,6,11,121,27]\n",
    "bubble(list)\n",
    "print(list)"
   ]
  },
  {
   "cell_type": "code",
   "execution_count": 21,
   "metadata": {},
   "outputs": [
    {
     "data": {
      "text/plain": [
       "(10, 20)"
      ]
     },
     "execution_count": 21,
     "metadata": {},
     "output_type": "execute_result"
    }
   ],
   "source": [
    "def swap(a,b):\n",
    "    if a>b:\n",
    "        temp=a\n",
    "        a=b\n",
    "        b=temp\n",
    "        return(a,b)\n",
    "    return(a,b)\n",
    "\n",
    "swap(10,20)"
   ]
  },
  {
   "cell_type": "code",
   "execution_count": 22,
   "metadata": {},
   "outputs": [
    {
     "data": {
      "text/plain": [
       "11"
      ]
     },
     "execution_count": 22,
     "metadata": {},
     "output_type": "execute_result"
    }
   ],
   "source": [
    "# selection sort \n",
    "\n",
    "lst=[723,23,43,56,75,23,11]\n",
    "min(lst)"
   ]
  },
  {
   "cell_type": "code",
   "execution_count": null,
   "metadata": {},
   "outputs": [],
   "source": [
    "sorted_lst=[]\n",
    "\n",
    "def min_list(k):\n",
    "    sorted_lst.append(min(k))\n",
    "\n",
    "    k.remove(min(k))\n",
    "    return min_list(k)\n",
    "    if len(k)==1:\n",
    "        print(sorted_lst)\n",
    "\n",
    "min_list([23,3,4,11,543,21,1,2,3])"
   ]
  },
  {
   "cell_type": "code",
   "execution_count": null,
   "metadata": {},
   "outputs": [],
   "source": []
  },
  {
   "cell_type": "code",
   "execution_count": null,
   "metadata": {},
   "outputs": [],
   "source": []
  },
  {
   "cell_type": "code",
   "execution_count": null,
   "metadata": {},
   "outputs": [],
   "source": []
  },
  {
   "cell_type": "code",
   "execution_count": null,
   "metadata": {},
   "outputs": [],
   "source": []
  },
  {
   "cell_type": "code",
   "execution_count": null,
   "metadata": {},
   "outputs": [],
   "source": []
  },
  {
   "cell_type": "code",
   "execution_count": null,
   "metadata": {},
   "outputs": [],
   "source": []
  },
  {
   "cell_type": "code",
   "execution_count": null,
   "metadata": {},
   "outputs": [],
   "source": []
  },
  {
   "cell_type": "code",
   "execution_count": null,
   "metadata": {},
   "outputs": [],
   "source": []
  }
 ],
 "metadata": {
  "kernelspec": {
   "display_name": "Python 3",
   "language": "python",
   "name": "python3"
  },
  "language_info": {
   "codemirror_mode": {
    "name": "ipython",
    "version": 3
   },
   "file_extension": ".py",
   "mimetype": "text/x-python",
   "name": "python",
   "nbconvert_exporter": "python",
   "pygments_lexer": "ipython3",
   "version": "3.7.3"
  }
 },
 "nbformat": 4,
 "nbformat_minor": 4
}
